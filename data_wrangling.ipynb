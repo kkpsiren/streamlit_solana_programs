{
 "cells": [
  {
   "cell_type": "code",
   "execution_count": 32,
   "id": "99acfb34-fcf7-4216-9566-72f4246a13d2",
   "metadata": {},
   "outputs": [],
   "source": [
    "import pandas as pd\n",
    "import os\n",
    "import plotly.express as px\n"
   ]
  },
  {
   "cell_type": "code",
   "execution_count": 14,
   "id": "fcc5034a-4a01-4b94-b043-6d5a61e953c1",
   "metadata": {},
   "outputs": [
    {
     "name": "stderr",
     "output_type": "stream",
     "text": [
      "  0%|                                                                                                                                                                                    | 0/7 [00:00<?, ?it/s]"
     ]
    },
    {
     "name": "stdout",
     "output_type": "stream",
     "text": [
      "1\n"
     ]
    },
    {
     "name": "stderr",
     "output_type": "stream",
     "text": [
      " 14%|████████████████████████▌                                                                                                                                                   | 1/7 [00:01<00:08,  1.44s/it]"
     ]
    },
    {
     "name": "stdout",
     "output_type": "stream",
     "text": [
      "2\n"
     ]
    },
    {
     "name": "stderr",
     "output_type": "stream",
     "text": [
      " 29%|█████████████████████████████████████████████████▏                                                                                                                          | 2/7 [00:02<00:06,  1.30s/it]"
     ]
    },
    {
     "name": "stdout",
     "output_type": "stream",
     "text": [
      "3\n"
     ]
    },
    {
     "name": "stderr",
     "output_type": "stream",
     "text": [
      " 43%|█████████████████████████████████████████████████████████████████████████▋                                                                                                  | 3/7 [00:03<00:05,  1.31s/it]"
     ]
    },
    {
     "name": "stdout",
     "output_type": "stream",
     "text": [
      "4\n"
     ]
    },
    {
     "name": "stderr",
     "output_type": "stream",
     "text": [
      " 57%|██████████████████████████████████████████████████████████████████████████████████████████████████▎                                                                         | 4/7 [00:05<00:03,  1.32s/it]"
     ]
    },
    {
     "name": "stdout",
     "output_type": "stream",
     "text": [
      "5\n"
     ]
    },
    {
     "name": "stderr",
     "output_type": "stream",
     "text": [
      " 71%|██████████████████████████████████████████████████████████████████████████████████████████████████████████████████████████▊                                                 | 5/7 [00:06<00:02,  1.31s/it]"
     ]
    },
    {
     "name": "stdout",
     "output_type": "stream",
     "text": [
      "6\n"
     ]
    },
    {
     "name": "stderr",
     "output_type": "stream",
     "text": [
      " 86%|███████████████████████████████████████████████████████████████████████████████████████████████████████████████████████████████████████████████████▍                        | 6/7 [00:07<00:01,  1.32s/it]"
     ]
    },
    {
     "name": "stdout",
     "output_type": "stream",
     "text": [
      "7\n"
     ]
    },
    {
     "name": "stderr",
     "output_type": "stream",
     "text": [
      "100%|████████████████████████████████████████████████████████████████████████████████████████████████████████████████████████████████████████████████████████████████████████████| 7/7 [00:09<00:00,  1.29s/it]\n"
     ]
    }
   ],
   "source": [
    "\n",
    "def load_queries(QUERY):\n",
    "    bot = Flipsider(os.getenv('API_KEY'))\n",
    "    df = bot.run(QUERY)\n",
    "    return df\n",
    "\n",
    "from queries import *\n",
    "from data_loading import Flipsider\n",
    "from tqdm import tqdm\n",
    "\n",
    "d = {}\n",
    "for month in tqdm(range(1,8)):\n",
    "    print(month)\n",
    "    QUERY = return_query(month)\n",
    "    d[month] = load_queries(QUERY)\n"
   ]
  },
  {
   "cell_type": "code",
   "execution_count": 15,
   "id": "4d7e7c6a-3c31-4c5d-b176-e62be731524c",
   "metadata": {},
   "outputs": [
    {
     "data": {
      "text/plain": [
       "dict_keys([1, 2, 3, 4, 5, 6, 7])"
      ]
     },
     "execution_count": 15,
     "metadata": {},
     "output_type": "execute_result"
    }
   ],
   "source": [
    "d.keys()"
   ]
  },
  {
   "cell_type": "code",
   "execution_count": 16,
   "id": "953126b3-0c6b-47be-90d9-23b50187afbe",
   "metadata": {},
   "outputs": [
    {
     "data": {
      "text/html": [
       "<div>\n",
       "<style scoped>\n",
       "    .dataframe tbody tr th:only-of-type {\n",
       "        vertical-align: middle;\n",
       "    }\n",
       "\n",
       "    .dataframe tbody tr th {\n",
       "        vertical-align: top;\n",
       "    }\n",
       "\n",
       "    .dataframe thead th {\n",
       "        text-align: right;\n",
       "    }\n",
       "</style>\n",
       "<table border=\"1\" class=\"dataframe\">\n",
       "  <thead>\n",
       "    <tr style=\"text-align: right;\">\n",
       "      <th></th>\n",
       "      <th>DATE</th>\n",
       "      <th>PROGRAM_ID</th>\n",
       "      <th>COUNTS</th>\n",
       "    </tr>\n",
       "  </thead>\n",
       "  <tbody>\n",
       "    <tr>\n",
       "      <th>0</th>\n",
       "      <td>2022-07-03</td>\n",
       "      <td>cndy3Z4yapfJBmL3ShUp5exZKqR3z33thTzeNMm2gRZ</td>\n",
       "      <td>36128</td>\n",
       "    </tr>\n",
       "    <tr>\n",
       "      <th>1</th>\n",
       "      <td>2022-07-05</td>\n",
       "      <td>7vxeyaXGLqcp66fFShqUdHxdacp4k4kwUpRSSeoZLCZ4</td>\n",
       "      <td>8524</td>\n",
       "    </tr>\n",
       "    <tr>\n",
       "      <th>2</th>\n",
       "      <td>2022-07-04</td>\n",
       "      <td>MERLuDFBMmsHnsBPZw2sDQZHvXFMwp8EdjudcU2HKky</td>\n",
       "      <td>179</td>\n",
       "    </tr>\n",
       "    <tr>\n",
       "      <th>3</th>\n",
       "      <td>2022-07-01</td>\n",
       "      <td>BPFLoaderUpgradeab1e11111111111111111111111</td>\n",
       "      <td>54454</td>\n",
       "    </tr>\n",
       "    <tr>\n",
       "      <th>4</th>\n",
       "      <td>2022-07-02</td>\n",
       "      <td>SwaPpA9LAaLfeLi3a68M4DjnLqgtticKg6CnyNwgAC8</td>\n",
       "      <td>1176</td>\n",
       "    </tr>\n",
       "    <tr>\n",
       "      <th>...</th>\n",
       "      <td>...</td>\n",
       "      <td>...</td>\n",
       "      <td>...</td>\n",
       "    </tr>\n",
       "    <tr>\n",
       "      <th>255</th>\n",
       "      <td>2022-07-04</td>\n",
       "      <td>7vxeyaXGLqcp66fFShqUdHxdacp4k4kwUpRSSeoZLCZ4</td>\n",
       "      <td>29893</td>\n",
       "    </tr>\n",
       "    <tr>\n",
       "      <th>256</th>\n",
       "      <td>2022-07-02</td>\n",
       "      <td>jCebN34bUfdeUYJT13J1yG16XWQpt5PDx6Mse9GUqhR</td>\n",
       "      <td>154</td>\n",
       "    </tr>\n",
       "    <tr>\n",
       "      <th>257</th>\n",
       "      <td>2022-07-01</td>\n",
       "      <td>781wH11JGQgEoBkBzuc8uoQLtp8KxeHk1yZiS1JhFYKy</td>\n",
       "      <td>40</td>\n",
       "    </tr>\n",
       "    <tr>\n",
       "      <th>258</th>\n",
       "      <td>2022-07-03</td>\n",
       "      <td>BHJ4tRcogS88tUhYotPfYWDjR4q7MGdizdiguY3N54rb</td>\n",
       "      <td>16</td>\n",
       "    </tr>\n",
       "    <tr>\n",
       "      <th>259</th>\n",
       "      <td>2022-07-05</td>\n",
       "      <td>7t8zVJtPCFAqog1DcnB6Ku1AVKtWfHkCiPi1cAvcJyVF</td>\n",
       "      <td>10</td>\n",
       "    </tr>\n",
       "  </tbody>\n",
       "</table>\n",
       "<p>260 rows × 3 columns</p>\n",
       "</div>"
      ],
      "text/plain": [
       "           DATE                                    PROGRAM_ID  COUNTS\n",
       "0    2022-07-03   cndy3Z4yapfJBmL3ShUp5exZKqR3z33thTzeNMm2gRZ   36128\n",
       "1    2022-07-05  7vxeyaXGLqcp66fFShqUdHxdacp4k4kwUpRSSeoZLCZ4    8524\n",
       "2    2022-07-04   MERLuDFBMmsHnsBPZw2sDQZHvXFMwp8EdjudcU2HKky     179\n",
       "3    2022-07-01   BPFLoaderUpgradeab1e11111111111111111111111   54454\n",
       "4    2022-07-02   SwaPpA9LAaLfeLi3a68M4DjnLqgtticKg6CnyNwgAC8    1176\n",
       "..          ...                                           ...     ...\n",
       "255  2022-07-04  7vxeyaXGLqcp66fFShqUdHxdacp4k4kwUpRSSeoZLCZ4   29893\n",
       "256  2022-07-02   jCebN34bUfdeUYJT13J1yG16XWQpt5PDx6Mse9GUqhR     154\n",
       "257  2022-07-01  781wH11JGQgEoBkBzuc8uoQLtp8KxeHk1yZiS1JhFYKy      40\n",
       "258  2022-07-03  BHJ4tRcogS88tUhYotPfYWDjR4q7MGdizdiguY3N54rb      16\n",
       "259  2022-07-05  7t8zVJtPCFAqog1DcnB6Ku1AVKtWfHkCiPi1cAvcJyVF      10\n",
       "\n",
       "[260 rows x 3 columns]"
      ]
     },
     "execution_count": 16,
     "metadata": {},
     "output_type": "execute_result"
    }
   ],
   "source": [
    "d[7]\n"
   ]
  },
  {
   "cell_type": "code",
   "execution_count": 18,
   "id": "aa3e8ee7-62da-4ddf-92e7-9698e9ef0634",
   "metadata": {},
   "outputs": [
    {
     "name": "stderr",
     "output_type": "stream",
     "text": [
      "100%|█████████████████████████████████████████████████████████████████████████████████████████████████████████████████████████████████████████████████████████████████████████| 6/6 [00:00<00:00, 30765.07it/s]\n"
     ]
    }
   ],
   "source": [
    "data = pd.concat([d[month] for month in tqdm(range(1,7))],axis=0,ignore_index=True)"
   ]
  },
  {
   "cell_type": "code",
   "execution_count": 19,
   "id": "4dd924b4-4ed3-4c29-91cc-8c60bfa0fdbc",
   "metadata": {},
   "outputs": [],
   "source": [
    "data.to_hdf('data_jan_jun.hdf',key='df')"
   ]
  },
  {
   "cell_type": "code",
   "execution_count": 63,
   "id": "d522051e-c682-494f-af81-1be63e09c22f",
   "metadata": {},
   "outputs": [
    {
     "data": {
      "text/html": [
       "<div>\n",
       "<style scoped>\n",
       "    .dataframe tbody tr th:only-of-type {\n",
       "        vertical-align: middle;\n",
       "    }\n",
       "\n",
       "    .dataframe tbody tr th {\n",
       "        vertical-align: top;\n",
       "    }\n",
       "\n",
       "    .dataframe thead th {\n",
       "        text-align: right;\n",
       "    }\n",
       "</style>\n",
       "<table border=\"1\" class=\"dataframe\">\n",
       "  <thead>\n",
       "    <tr style=\"text-align: right;\">\n",
       "      <th></th>\n",
       "      <th>DATE</th>\n",
       "      <th>PROGRAM_ID</th>\n",
       "      <th>COUNTS</th>\n",
       "    </tr>\n",
       "  </thead>\n",
       "  <tbody>\n",
       "    <tr>\n",
       "      <th>0</th>\n",
       "      <td>2022-01-11</td>\n",
       "      <td>9xQeWvG816bUx9EPjHmaT23yvVM2ZWbrrpZb9PusVFin</td>\n",
       "      <td>8298909</td>\n",
       "    </tr>\n",
       "    <tr>\n",
       "      <th>1</th>\n",
       "      <td>2022-01-16</td>\n",
       "      <td>11111111111111111111111111111111</td>\n",
       "      <td>6598670</td>\n",
       "    </tr>\n",
       "    <tr>\n",
       "      <th>2</th>\n",
       "      <td>2022-01-28</td>\n",
       "      <td>11111111111111111111111111111111</td>\n",
       "      <td>9146828</td>\n",
       "    </tr>\n",
       "    <tr>\n",
       "      <th>3</th>\n",
       "      <td>2022-01-25</td>\n",
       "      <td>675kPX9MHTjS2zt1qfr1NYHuzeLXfQM9H24wFSUt1Mp8</td>\n",
       "      <td>606973</td>\n",
       "    </tr>\n",
       "    <tr>\n",
       "      <th>4</th>\n",
       "      <td>2022-01-26</td>\n",
       "      <td>TokenkegQfeZyiNwAJbNbGKPFXCWuBvf9Ss623VQ5DA</td>\n",
       "      <td>1284277</td>\n",
       "    </tr>\n",
       "  </tbody>\n",
       "</table>\n",
       "</div>"
      ],
      "text/plain": [
       "        DATE                                    PROGRAM_ID   COUNTS\n",
       "0 2022-01-11  9xQeWvG816bUx9EPjHmaT23yvVM2ZWbrrpZb9PusVFin  8298909\n",
       "1 2022-01-16              11111111111111111111111111111111  6598670\n",
       "2 2022-01-28              11111111111111111111111111111111  9146828\n",
       "3 2022-01-25  675kPX9MHTjS2zt1qfr1NYHuzeLXfQM9H24wFSUt1Mp8   606973\n",
       "4 2022-01-26   TokenkegQfeZyiNwAJbNbGKPFXCWuBvf9Ss623VQ5DA  1284277"
      ]
     },
     "execution_count": 63,
     "metadata": {},
     "output_type": "execute_result"
    }
   ],
   "source": [
    "df.head()"
   ]
  },
  {
   "cell_type": "code",
   "execution_count": 107,
   "id": "c5f144d6-d61b-42c4-991c-e77d922778d3",
   "metadata": {},
   "outputs": [],
   "source": [
    "def get_labels(df):\n",
    "    labels = df['PROGRAM_ID'].unique()\n",
    "\n",
    "    labels = [f\"'{i}'\" for i in labels]\n",
    "\n",
    "    string = \",\".join(labels)\n",
    "\n",
    "    LABEL_QUERY = f\"\"\"\n",
    "    select\n",
    "    address,\n",
    "    address_name,\n",
    "    label,\n",
    "    label_type,\n",
    "    label_subtype\n",
    "    from solana.core.dim_labels\n",
    "    where address in ({string})\n",
    "    \"\"\"\n",
    "    return LABEL_QUERY\n",
    "\n",
    "labels = load_queries(get_labels(df))"
   ]
  },
  {
   "cell_type": "code",
   "execution_count": 109,
   "id": "418bf252-91df-4f70-8449-ee8e840d23b7",
   "metadata": {},
   "outputs": [
    {
     "data": {
      "text/html": [
       "<div>\n",
       "<style scoped>\n",
       "    .dataframe tbody tr th:only-of-type {\n",
       "        vertical-align: middle;\n",
       "    }\n",
       "\n",
       "    .dataframe tbody tr th {\n",
       "        vertical-align: top;\n",
       "    }\n",
       "\n",
       "    .dataframe thead th {\n",
       "        text-align: right;\n",
       "    }\n",
       "</style>\n",
       "<table border=\"1\" class=\"dataframe\">\n",
       "  <thead>\n",
       "    <tr style=\"text-align: right;\">\n",
       "      <th></th>\n",
       "      <th>ADDRESS</th>\n",
       "      <th>ADDRESS_NAME</th>\n",
       "      <th>LABEL</th>\n",
       "      <th>LABEL_TYPE</th>\n",
       "      <th>LABEL_SUBTYPE</th>\n",
       "    </tr>\n",
       "  </thead>\n",
       "  <tbody>\n",
       "    <tr>\n",
       "      <th>0</th>\n",
       "      <td>HajXYaDXmohtq2ZxZ6QVNEpqNn1T53Zc9FnR1CnaNnUf</td>\n",
       "      <td>parrot finance</td>\n",
       "      <td>parrot defi</td>\n",
       "      <td>defi</td>\n",
       "      <td>general_contract</td>\n",
       "    </tr>\n",
       "    <tr>\n",
       "      <th>1</th>\n",
       "      <td>cndy3Z4yapfJBmL3ShUp5exZKqR3z33thTzeNMm2gRZ</td>\n",
       "      <td>metaplex nft candy machine v2</td>\n",
       "      <td>metaplex</td>\n",
       "      <td>nft</td>\n",
       "      <td>contract_deployer</td>\n",
       "    </tr>\n",
       "    <tr>\n",
       "      <th>2</th>\n",
       "      <td>cndyAnrLdpjq1Ssp1z8xxDsB8dxe7u4HL5Nxi2K5WXZ</td>\n",
       "      <td>metaplex nft candy machine v1</td>\n",
       "      <td>metaplex</td>\n",
       "      <td>nft</td>\n",
       "      <td>contract_deployer</td>\n",
       "    </tr>\n",
       "    <tr>\n",
       "      <th>3</th>\n",
       "      <td>EUqojwWA2rd19FZrzeBncJsm38Jm1hEhE3zsmX3bRc2o</td>\n",
       "      <td>serum dex v2</td>\n",
       "      <td>serum</td>\n",
       "      <td>dex</td>\n",
       "      <td>general_contract</td>\n",
       "    </tr>\n",
       "    <tr>\n",
       "      <th>4</th>\n",
       "      <td>jCebN34bUfdeUYJT13J1yG16XWQpt5PDx6Mse9GUqhR</td>\n",
       "      <td>bonfida name service</td>\n",
       "      <td>bonfida</td>\n",
       "      <td>dapp</td>\n",
       "      <td>general_contract</td>\n",
       "    </tr>\n",
       "    <tr>\n",
       "      <th>...</th>\n",
       "      <td>...</td>\n",
       "      <td>...</td>\n",
       "      <td>...</td>\n",
       "      <td>...</td>\n",
       "      <td>...</td>\n",
       "    </tr>\n",
       "    <tr>\n",
       "      <th>60</th>\n",
       "      <td>675kPX9MHTjS2zt1qfr1NYHuzeLXfQM9H24wFSUt1Mp8</td>\n",
       "      <td>Raydium Liquidity Pool V4</td>\n",
       "      <td>raydium</td>\n",
       "      <td>dex</td>\n",
       "      <td>pool</td>\n",
       "    </tr>\n",
       "    <tr>\n",
       "      <th>61</th>\n",
       "      <td>7t8zVJtPCFAqog1DcnB6Ku1AVKtWfHkCiPi1cAvcJyVF</td>\n",
       "      <td>digitaleyes direct sell</td>\n",
       "      <td>digitaleyes</td>\n",
       "      <td>nft</td>\n",
       "      <td>marketplace</td>\n",
       "    </tr>\n",
       "    <tr>\n",
       "      <th>62</th>\n",
       "      <td>7vxeyaXGLqcp66fFShqUdHxdacp4k4kwUpRSSeoZLCZ4</td>\n",
       "      <td>SOLfarm Vault</td>\n",
       "      <td>solfarm</td>\n",
       "      <td>defi</td>\n",
       "      <td>pool</td>\n",
       "    </tr>\n",
       "    <tr>\n",
       "      <th>63</th>\n",
       "      <td>617jbWo616ggkDxvW1Le8pV38XLbVSyWY8ae6QUmGBAU</td>\n",
       "      <td>Solsea NFT Marketplace</td>\n",
       "      <td>solsea</td>\n",
       "      <td>nft</td>\n",
       "      <td>marketplace</td>\n",
       "    </tr>\n",
       "    <tr>\n",
       "      <th>64</th>\n",
       "      <td>22Y43yTVxuUkoRKdm9thyRhQ3SdgQS7c7kB6UNCiaczD</td>\n",
       "      <td>serum swap</td>\n",
       "      <td>serum</td>\n",
       "      <td>dex</td>\n",
       "      <td>general_contract</td>\n",
       "    </tr>\n",
       "  </tbody>\n",
       "</table>\n",
       "<p>65 rows × 5 columns</p>\n",
       "</div>"
      ],
      "text/plain": [
       "                                         ADDRESS  \\\n",
       "0   HajXYaDXmohtq2ZxZ6QVNEpqNn1T53Zc9FnR1CnaNnUf   \n",
       "1    cndy3Z4yapfJBmL3ShUp5exZKqR3z33thTzeNMm2gRZ   \n",
       "2    cndyAnrLdpjq1Ssp1z8xxDsB8dxe7u4HL5Nxi2K5WXZ   \n",
       "3   EUqojwWA2rd19FZrzeBncJsm38Jm1hEhE3zsmX3bRc2o   \n",
       "4    jCebN34bUfdeUYJT13J1yG16XWQpt5PDx6Mse9GUqhR   \n",
       "..                                           ...   \n",
       "60  675kPX9MHTjS2zt1qfr1NYHuzeLXfQM9H24wFSUt1Mp8   \n",
       "61  7t8zVJtPCFAqog1DcnB6Ku1AVKtWfHkCiPi1cAvcJyVF   \n",
       "62  7vxeyaXGLqcp66fFShqUdHxdacp4k4kwUpRSSeoZLCZ4   \n",
       "63  617jbWo616ggkDxvW1Le8pV38XLbVSyWY8ae6QUmGBAU   \n",
       "64  22Y43yTVxuUkoRKdm9thyRhQ3SdgQS7c7kB6UNCiaczD   \n",
       "\n",
       "                     ADDRESS_NAME        LABEL LABEL_TYPE      LABEL_SUBTYPE  \n",
       "0                  parrot finance  parrot defi       defi   general_contract  \n",
       "1   metaplex nft candy machine v2     metaplex        nft  contract_deployer  \n",
       "2   metaplex nft candy machine v1     metaplex        nft  contract_deployer  \n",
       "3                    serum dex v2        serum        dex   general_contract  \n",
       "4            bonfida name service      bonfida       dapp   general_contract  \n",
       "..                            ...          ...        ...                ...  \n",
       "60      Raydium Liquidity Pool V4      raydium        dex               pool  \n",
       "61        digitaleyes direct sell  digitaleyes        nft        marketplace  \n",
       "62                  SOLfarm Vault      solfarm       defi               pool  \n",
       "63         Solsea NFT Marketplace       solsea        nft        marketplace  \n",
       "64                     serum swap        serum        dex   general_contract  \n",
       "\n",
       "[65 rows x 5 columns]"
      ]
     },
     "execution_count": 109,
     "metadata": {},
     "output_type": "execute_result"
    }
   ],
   "source": [
    "labels"
   ]
  },
  {
   "cell_type": "code",
   "execution_count": 117,
   "id": "e70bc6f9-596f-481e-bf1a-a55f0e6e0bf6",
   "metadata": {},
   "outputs": [],
   "source": [
    "def do_treemap(df,labels):\n",
    "    plot_data = df.groupby('PROGRAM_ID')['COUNTS'].sum().to_frame().reset_index()\n",
    "    plot_data = plot_data.merge(labels,left_on='PROGRAM_ID',right_on='ADDRESS',how='left')\n",
    "\n",
    "    fig = px.treemap(plot_data, path=['LABEL_TYPE', 'LABEL_SUBTYPE', 'LABEL'], values='COUNTS')\n",
    "    return fig"
   ]
  },
  {
   "cell_type": "code",
   "execution_count": null,
   "id": "dbd33e24-4c34-4061-a61b-66dff8b35925",
   "metadata": {},
   "outputs": [],
   "source": []
  },
  {
   "cell_type": "code",
   "execution_count": null,
   "id": "6915bd06-06ac-41ec-810b-df2de16cb094",
   "metadata": {},
   "outputs": [],
   "source": []
  },
  {
   "cell_type": "code",
   "execution_count": 119,
   "id": "1614dc22-a261-499a-9a8b-9a539765e05f",
   "metadata": {},
   "outputs": [
    {
     "data": {
      "text/html": [
       "<div>\n",
       "<style scoped>\n",
       "    .dataframe tbody tr th:only-of-type {\n",
       "        vertical-align: middle;\n",
       "    }\n",
       "\n",
       "    .dataframe tbody tr th {\n",
       "        vertical-align: top;\n",
       "    }\n",
       "\n",
       "    .dataframe thead th {\n",
       "        text-align: right;\n",
       "    }\n",
       "</style>\n",
       "<table border=\"1\" class=\"dataframe\">\n",
       "  <thead>\n",
       "    <tr style=\"text-align: right;\">\n",
       "      <th></th>\n",
       "      <th>PROGRAM_ID</th>\n",
       "      <th>COUNTS</th>\n",
       "      <th>ADDRESS</th>\n",
       "      <th>ADDRESS_NAME</th>\n",
       "      <th>LABEL</th>\n",
       "      <th>LABEL_TYPE</th>\n",
       "      <th>LABEL_SUBTYPE</th>\n",
       "    </tr>\n",
       "  </thead>\n",
       "  <tbody>\n",
       "    <tr>\n",
       "      <th>0</th>\n",
       "      <td>11111111111111111111111111111111</td>\n",
       "      <td>803271059</td>\n",
       "      <td>11111111111111111111111111111111</td>\n",
       "      <td>system program</td>\n",
       "      <td>solana</td>\n",
       "      <td>chadmin</td>\n",
       "      <td>general_contract</td>\n",
       "    </tr>\n",
       "    <tr>\n",
       "      <th>1</th>\n",
       "      <td>22Y43yTVxuUkoRKdm9thyRhQ3SdgQS7c7kB6UNCiaczD</td>\n",
       "      <td>367720</td>\n",
       "      <td>22Y43yTVxuUkoRKdm9thyRhQ3SdgQS7c7kB6UNCiaczD</td>\n",
       "      <td>serum swap</td>\n",
       "      <td>serum</td>\n",
       "      <td>dex</td>\n",
       "      <td>general_contract</td>\n",
       "    </tr>\n",
       "    <tr>\n",
       "      <th>2</th>\n",
       "      <td>27haf8L6oxUeXrHrgEgsexjSY5hbVUWEmvv9Nyxg8vQv</td>\n",
       "      <td>56</td>\n",
       "      <td>27haf8L6oxUeXrHrgEgsexjSY5hbVUWEmvv9Nyxg8vQv</td>\n",
       "      <td>raydium liquidity pool v3</td>\n",
       "      <td>raydium</td>\n",
       "      <td>dex</td>\n",
       "      <td>pool</td>\n",
       "    </tr>\n",
       "    <tr>\n",
       "      <th>3</th>\n",
       "      <td>4ckmDgGdxQoPDLUkDT3vHgSAkzA3QRdNq5ywwY4sUSJn</td>\n",
       "      <td>44</td>\n",
       "      <td>4ckmDgGdxQoPDLUkDT3vHgSAkzA3QRdNq5ywwY4sUSJn</td>\n",
       "      <td>serum dex v1</td>\n",
       "      <td>serum</td>\n",
       "      <td>dex</td>\n",
       "      <td>general_contract</td>\n",
       "    </tr>\n",
       "    <tr>\n",
       "      <th>4</th>\n",
       "      <td>5fNfvyp5czQVX77yoACa3JJVEhdRaWjPuazuWgjhTqEH</td>\n",
       "      <td>4070</td>\n",
       "      <td>5fNfvyp5czQVX77yoACa3JJVEhdRaWjPuazuWgjhTqEH</td>\n",
       "      <td>mango markets v2</td>\n",
       "      <td>mango markets</td>\n",
       "      <td>dex</td>\n",
       "      <td>general_contract</td>\n",
       "    </tr>\n",
       "    <tr>\n",
       "      <th>...</th>\n",
       "      <td>...</td>\n",
       "      <td>...</td>\n",
       "      <td>...</td>\n",
       "      <td>...</td>\n",
       "      <td>...</td>\n",
       "      <td>...</td>\n",
       "      <td>...</td>\n",
       "    </tr>\n",
       "    <tr>\n",
       "      <th>60</th>\n",
       "      <td>mv3ekLzLbnVPNxjSKvqBpU3ZeZXPQdEC3bp5MDEBG68</td>\n",
       "      <td>424635203</td>\n",
       "      <td>mv3ekLzLbnVPNxjSKvqBpU3ZeZXPQdEC3bp5MDEBG68</td>\n",
       "      <td>Mango Markets</td>\n",
       "      <td>mango markets</td>\n",
       "      <td>dex</td>\n",
       "      <td>general_contract</td>\n",
       "    </tr>\n",
       "    <tr>\n",
       "      <th>61</th>\n",
       "      <td>namesLPneVptA9Z5rqUDD9tMTWEJwofgaYwp8cawRkX</td>\n",
       "      <td>48536</td>\n",
       "      <td>namesLPneVptA9Z5rqUDD9tMTWEJwofgaYwp8cawRkX</td>\n",
       "      <td>name service program</td>\n",
       "      <td>solana</td>\n",
       "      <td>chadmin</td>\n",
       "      <td>general_contract</td>\n",
       "    </tr>\n",
       "    <tr>\n",
       "      <th>62</th>\n",
       "      <td>p1exdMJcjVao65QdewkaZRUnU6VPSXhus9n2GzWfh98</td>\n",
       "      <td>192542</td>\n",
       "      <td>p1exdMJcjVao65QdewkaZRUnU6VPSXhus9n2GzWfh98</td>\n",
       "      <td>metaplex program</td>\n",
       "      <td>metaplex</td>\n",
       "      <td>nft</td>\n",
       "      <td>general_contract</td>\n",
       "    </tr>\n",
       "    <tr>\n",
       "      <th>63</th>\n",
       "      <td>rinajRPUgiiW2rG6uieXvcNNQNaWr9ZcMmqo28VvXfa</td>\n",
       "      <td>339633</td>\n",
       "      <td>rinajRPUgiiW2rG6uieXvcNNQNaWr9ZcMmqo28VvXfa</td>\n",
       "      <td>aldrin staking</td>\n",
       "      <td>aldrin</td>\n",
       "      <td>dex</td>\n",
       "      <td>pool</td>\n",
       "    </tr>\n",
       "    <tr>\n",
       "      <th>64</th>\n",
       "      <td>vau1zxA2LbssAUEF7Gpw91zMM1LvXrvpzJtmZ58rPsn</td>\n",
       "      <td>145832</td>\n",
       "      <td>vau1zxA2LbssAUEF7Gpw91zMM1LvXrvpzJtmZ58rPsn</td>\n",
       "      <td>metaplex token vault</td>\n",
       "      <td>metaplex</td>\n",
       "      <td>nft</td>\n",
       "      <td>general_contract</td>\n",
       "    </tr>\n",
       "  </tbody>\n",
       "</table>\n",
       "<p>65 rows × 7 columns</p>\n",
       "</div>"
      ],
      "text/plain": [
       "                                      PROGRAM_ID     COUNTS  \\\n",
       "0               11111111111111111111111111111111  803271059   \n",
       "1   22Y43yTVxuUkoRKdm9thyRhQ3SdgQS7c7kB6UNCiaczD     367720   \n",
       "2   27haf8L6oxUeXrHrgEgsexjSY5hbVUWEmvv9Nyxg8vQv         56   \n",
       "3   4ckmDgGdxQoPDLUkDT3vHgSAkzA3QRdNq5ywwY4sUSJn         44   \n",
       "4   5fNfvyp5czQVX77yoACa3JJVEhdRaWjPuazuWgjhTqEH       4070   \n",
       "..                                           ...        ...   \n",
       "60   mv3ekLzLbnVPNxjSKvqBpU3ZeZXPQdEC3bp5MDEBG68  424635203   \n",
       "61   namesLPneVptA9Z5rqUDD9tMTWEJwofgaYwp8cawRkX      48536   \n",
       "62   p1exdMJcjVao65QdewkaZRUnU6VPSXhus9n2GzWfh98     192542   \n",
       "63   rinajRPUgiiW2rG6uieXvcNNQNaWr9ZcMmqo28VvXfa     339633   \n",
       "64   vau1zxA2LbssAUEF7Gpw91zMM1LvXrvpzJtmZ58rPsn     145832   \n",
       "\n",
       "                                         ADDRESS               ADDRESS_NAME  \\\n",
       "0               11111111111111111111111111111111             system program   \n",
       "1   22Y43yTVxuUkoRKdm9thyRhQ3SdgQS7c7kB6UNCiaczD                 serum swap   \n",
       "2   27haf8L6oxUeXrHrgEgsexjSY5hbVUWEmvv9Nyxg8vQv  raydium liquidity pool v3   \n",
       "3   4ckmDgGdxQoPDLUkDT3vHgSAkzA3QRdNq5ywwY4sUSJn               serum dex v1   \n",
       "4   5fNfvyp5czQVX77yoACa3JJVEhdRaWjPuazuWgjhTqEH           mango markets v2   \n",
       "..                                           ...                        ...   \n",
       "60   mv3ekLzLbnVPNxjSKvqBpU3ZeZXPQdEC3bp5MDEBG68              Mango Markets   \n",
       "61   namesLPneVptA9Z5rqUDD9tMTWEJwofgaYwp8cawRkX       name service program   \n",
       "62   p1exdMJcjVao65QdewkaZRUnU6VPSXhus9n2GzWfh98           metaplex program   \n",
       "63   rinajRPUgiiW2rG6uieXvcNNQNaWr9ZcMmqo28VvXfa             aldrin staking   \n",
       "64   vau1zxA2LbssAUEF7Gpw91zMM1LvXrvpzJtmZ58rPsn       metaplex token vault   \n",
       "\n",
       "            LABEL LABEL_TYPE     LABEL_SUBTYPE  \n",
       "0          solana    chadmin  general_contract  \n",
       "1           serum        dex  general_contract  \n",
       "2         raydium        dex              pool  \n",
       "3           serum        dex  general_contract  \n",
       "4   mango markets        dex  general_contract  \n",
       "..            ...        ...               ...  \n",
       "60  mango markets        dex  general_contract  \n",
       "61         solana    chadmin  general_contract  \n",
       "62       metaplex        nft  general_contract  \n",
       "63         aldrin        dex              pool  \n",
       "64       metaplex        nft  general_contract  \n",
       "\n",
       "[65 rows x 7 columns]"
      ]
     },
     "execution_count": 119,
     "metadata": {},
     "output_type": "execute_result"
    }
   ],
   "source": [
    "plot_data"
   ]
  },
  {
   "cell_type": "code",
   "execution_count": 20,
   "id": "8c6ccc04-f4ad-40a3-9ab0-49bf1449af82",
   "metadata": {},
   "outputs": [],
   "source": [
    "df = pd.concat([data,d[7]],axis=0)"
   ]
  },
  {
   "cell_type": "code",
   "execution_count": 24,
   "id": "1259714b-a351-4662-9db7-800023aa62f5",
   "metadata": {},
   "outputs": [],
   "source": [
    "df['DATE'] = pd.to_datetime(df['DATE'])"
   ]
  },
  {
   "cell_type": "code",
   "execution_count": 29,
   "id": "8403d61e-1905-4a6a-820c-cf46e6970d8f",
   "metadata": {},
   "outputs": [],
   "source": [
    "data = df.groupby('DATE')['COUNTS'].sum().to_frame('COUNTS').reset_index()"
   ]
  },
  {
   "cell_type": "code",
   "execution_count": 89,
   "id": "fc9fda78-1ff4-481e-b25d-e716c56e8e71",
   "metadata": {},
   "outputs": [],
   "source": [
    "def get_ma(data, window=10):\n",
    "    data2 = data.sort_values('DATE').rolling(window=window)['COUNTS'].mean().reset_index()\n",
    "    data2['DATE'] = data.sort_values('DATE')['DATE']\n",
    "    return data2\n",
    "\n",
    "def plot_total_counts(data):\n",
    "    fig = px.bar(data_frame=data,\n",
    "        x='DATE',\n",
    "        y='COUNTS', title='Total Transaction Counts'\n",
    "        #color='VOTES'\n",
    "                )\n",
    "    \n",
    "    for i in [10,20,50]:\n",
    "        data2 = get_ma(data, window=i)\n",
    "        fig.add_traces(go.Scatter(x= data2['DATE'].tolist(), y=data2['COUNTS'].tolist(), mode = 'lines', name=f'{i}-day MA'))\n",
    "\n",
    "    return fig\n",
    "\n",
    "def piechart(df, n=20):\n",
    "    plot_data = df.groupby('PROGRAM_ID')['COUNTS'].sum().to_frame().reset_index()\n",
    "    min_value = plot_data.sort_values('COUNTS',ascending=False).head(n)['COUNTS'].min()\n",
    "    plot_data.loc[plot_data['COUNTS'] < min_value, 'PROGRAM_ID'] = 'Other Program IDs' # Represent only large countries\n",
    "    fig = px.pie(plot_data, \n",
    "                 values='COUNTS', \n",
    "                 names='PROGRAM_ID', title=f'{n} Top Program IDs',\n",
    "                )\n",
    "    fig.update_traces(textposition='inside', textinfo='percent+value')\n",
    "    return fig\n",
    "def do_treemap(df,labels):\n",
    "    plot_data = df.groupby('PROGRAM_ID')['COUNTS'].sum().to_frame().reset_index()\n",
    "    plot_data = plot_data.merge(labels,left_on='PROGRAM_ID',right_on='ADDRESS',how='left')\n",
    "\n",
    "    fig = px.treemap(plot_data, path=['LABEL_TYPE', 'LABEL_SUBTYPE', 'LABEL'], values='COUNTS')\n",
    "    return fig"
   ]
  },
  {
   "cell_type": "code",
   "execution_count": 90,
   "id": "f3590d6b-e1a6-4a1f-834e-627c981f01a4",
   "metadata": {},
   "outputs": [
    {
     "data": {
      "application/vnd.plotly.v1+json": {
       "config": {
        "plotlyServerURL": "https://plot.ly"
       },
       "data": [
        {
         "domain": {
          "x": [
           0,
           1
          ],
          "y": [
           0,
           1
          ]
         },
         "hovertemplate": "PROGRAM_ID=%{label}<br>COUNTS=%{value}<extra></extra>",
         "labels": [
          "11111111111111111111111111111111",
          "Other Program IDs",
          "Other Program IDs",
          "Other Program IDs",
          "Other Program IDs",
          "Other Program IDs",
          "675kPX9MHTjS2zt1qfr1NYHuzeLXfQM9H24wFSUt1Mp8",
          "Other Program IDs",
          "Other Program IDs",
          "7vxeyaXGLqcp66fFShqUdHxdacp4k4kwUpRSSeoZLCZ4",
          "Other Program IDs",
          "Other Program IDs",
          "Other Program IDs",
          "9W959DqEETiGZocYWCQPaJ6sBmUzgfxXfqGeTEdp3aQP",
          "9xQeWvG816bUx9EPjHmaT23yvVM2ZWbrrpZb9PusVFin",
          "Other Program IDs",
          "AMM55ShdkoGRB5jVYPjWziwk8m5MpwyDgsMWHaMSQWH6",
          "ATokenGPvbdGVxr1b2hvZbsiqW5xWH25efTNsLJA8knL",
          "Other Program IDs",
          "Other Program IDs",
          "Other Program IDs",
          "BPFLoaderUpgradeab1e11111111111111111111111",
          "Other Program IDs",
          "Other Program IDs",
          "Other Program IDs",
          "Other Program IDs",
          "Other Program IDs",
          "Other Program IDs",
          "Other Program IDs",
          "Other Program IDs",
          "Other Program IDs",
          "Other Program IDs",
          "Other Program IDs",
          "Other Program IDs",
          "JUP2jxvXaqu7NQY1GmNF4m1vodw12LVXYxbFL2uJvfo",
          "Other Program IDs",
          "KeccakSecp256k11111111111111111111111111111",
          "Other Program IDs",
          "Other Program IDs",
          "MEisE1HzehtrDpAAT8PnLHjpSSkRYakotTuJRPjTpo8",
          "Other Program IDs",
          "Memo1UhkJRfHyvLMcVucJwxXeuD728EqVDDwQDxFMNo",
          "MemoSq4gqABAXKb96qnH8TysNcWxMyWCqXgDLGmfcHr",
          "Other Program IDs",
          "Other Program IDs",
          "Other Program IDs",
          "SSwpkEEcbUqx4vtoEByFjSkhKdCT862DNVb52nZg1UZ",
          "So1endDq2YkqhipRh3WViPa8hdiSpxWy6z3Z6tMCpAo",
          "Other Program IDs",
          "Other Program IDs",
          "TokenkegQfeZyiNwAJbNbGKPFXCWuBvf9Ss623VQ5DA",
          "Other Program IDs",
          "Other Program IDs",
          "Other Program IDs",
          "ZETAxsqBRek56DhiGXrn75yj2NHU3aYUnxvHXpkf3aD",
          "Other Program IDs",
          "cndy3Z4yapfJBmL3ShUp5exZKqR3z33thTzeNMm2gRZ",
          "Other Program IDs",
          "Other Program IDs",
          "metaqbxxUerdq28cj1RbAWkYQm3ybzjb6a8bt518x1s",
          "mv3ekLzLbnVPNxjSKvqBpU3ZeZXPQdEC3bp5MDEBG68",
          "Other Program IDs",
          "Other Program IDs",
          "Other Program IDs",
          "Other Program IDs"
         ],
         "legendgroup": "",
         "name": "",
         "showlegend": true,
         "textinfo": "percent+value",
         "textposition": "inside",
         "type": "pie",
         "values": [
          803271059,
          367720,
          56,
          44,
          4070,
          716554,
          89366743,
          2568,
          65087,
          5682798,
          654129,
          366181,
          1192290,
          17625950,
          1197564500,
          8985,
          1273133,
          46239753,
          1504,
          23,
          12151,
          14459100,
          46972,
          11,
          1215636,
          1099445,
          32839,
          122725,
          237350,
          225,
          1021791,
          2712,
          24083,
          1122,
          21734643,
          191654,
          40677293,
          3,
          257972,
          10642825,
          171985,
          88928715,
          12085449,
          184378,
          90450,
          282652,
          1330044,
          2342226,
          206250,
          13186,
          222362999,
          842,
          4273,
          192,
          50411564,
          128660,
          7991531,
          354224,
          159842,
          12749932,
          424635203,
          48536,
          192542,
          339633,
          145832
         ]
        }
       ],
       "layout": {
        "autosize": true,
        "legend": {
         "tracegroupgap": 0
        },
        "template": {
         "data": {
          "bar": [
           {
            "error_x": {
             "color": "#2a3f5f"
            },
            "error_y": {
             "color": "#2a3f5f"
            },
            "marker": {
             "line": {
              "color": "#E5ECF6",
              "width": 0.5
             },
             "pattern": {
              "fillmode": "overlay",
              "size": 10,
              "solidity": 0.2
             }
            },
            "type": "bar"
           }
          ],
          "barpolar": [
           {
            "marker": {
             "line": {
              "color": "#E5ECF6",
              "width": 0.5
             },
             "pattern": {
              "fillmode": "overlay",
              "size": 10,
              "solidity": 0.2
             }
            },
            "type": "barpolar"
           }
          ],
          "carpet": [
           {
            "aaxis": {
             "endlinecolor": "#2a3f5f",
             "gridcolor": "white",
             "linecolor": "white",
             "minorgridcolor": "white",
             "startlinecolor": "#2a3f5f"
            },
            "baxis": {
             "endlinecolor": "#2a3f5f",
             "gridcolor": "white",
             "linecolor": "white",
             "minorgridcolor": "white",
             "startlinecolor": "#2a3f5f"
            },
            "type": "carpet"
           }
          ],
          "choropleth": [
           {
            "colorbar": {
             "outlinewidth": 0,
             "ticks": ""
            },
            "type": "choropleth"
           }
          ],
          "contour": [
           {
            "colorbar": {
             "outlinewidth": 0,
             "ticks": ""
            },
            "colorscale": [
             [
              0,
              "#0d0887"
             ],
             [
              0.1111111111111111,
              "#46039f"
             ],
             [
              0.2222222222222222,
              "#7201a8"
             ],
             [
              0.3333333333333333,
              "#9c179e"
             ],
             [
              0.4444444444444444,
              "#bd3786"
             ],
             [
              0.5555555555555556,
              "#d8576b"
             ],
             [
              0.6666666666666666,
              "#ed7953"
             ],
             [
              0.7777777777777778,
              "#fb9f3a"
             ],
             [
              0.8888888888888888,
              "#fdca26"
             ],
             [
              1,
              "#f0f921"
             ]
            ],
            "type": "contour"
           }
          ],
          "contourcarpet": [
           {
            "colorbar": {
             "outlinewidth": 0,
             "ticks": ""
            },
            "type": "contourcarpet"
           }
          ],
          "heatmap": [
           {
            "colorbar": {
             "outlinewidth": 0,
             "ticks": ""
            },
            "colorscale": [
             [
              0,
              "#0d0887"
             ],
             [
              0.1111111111111111,
              "#46039f"
             ],
             [
              0.2222222222222222,
              "#7201a8"
             ],
             [
              0.3333333333333333,
              "#9c179e"
             ],
             [
              0.4444444444444444,
              "#bd3786"
             ],
             [
              0.5555555555555556,
              "#d8576b"
             ],
             [
              0.6666666666666666,
              "#ed7953"
             ],
             [
              0.7777777777777778,
              "#fb9f3a"
             ],
             [
              0.8888888888888888,
              "#fdca26"
             ],
             [
              1,
              "#f0f921"
             ]
            ],
            "type": "heatmap"
           }
          ],
          "heatmapgl": [
           {
            "colorbar": {
             "outlinewidth": 0,
             "ticks": ""
            },
            "colorscale": [
             [
              0,
              "#0d0887"
             ],
             [
              0.1111111111111111,
              "#46039f"
             ],
             [
              0.2222222222222222,
              "#7201a8"
             ],
             [
              0.3333333333333333,
              "#9c179e"
             ],
             [
              0.4444444444444444,
              "#bd3786"
             ],
             [
              0.5555555555555556,
              "#d8576b"
             ],
             [
              0.6666666666666666,
              "#ed7953"
             ],
             [
              0.7777777777777778,
              "#fb9f3a"
             ],
             [
              0.8888888888888888,
              "#fdca26"
             ],
             [
              1,
              "#f0f921"
             ]
            ],
            "type": "heatmapgl"
           }
          ],
          "histogram": [
           {
            "marker": {
             "pattern": {
              "fillmode": "overlay",
              "size": 10,
              "solidity": 0.2
             }
            },
            "type": "histogram"
           }
          ],
          "histogram2d": [
           {
            "colorbar": {
             "outlinewidth": 0,
             "ticks": ""
            },
            "colorscale": [
             [
              0,
              "#0d0887"
             ],
             [
              0.1111111111111111,
              "#46039f"
             ],
             [
              0.2222222222222222,
              "#7201a8"
             ],
             [
              0.3333333333333333,
              "#9c179e"
             ],
             [
              0.4444444444444444,
              "#bd3786"
             ],
             [
              0.5555555555555556,
              "#d8576b"
             ],
             [
              0.6666666666666666,
              "#ed7953"
             ],
             [
              0.7777777777777778,
              "#fb9f3a"
             ],
             [
              0.8888888888888888,
              "#fdca26"
             ],
             [
              1,
              "#f0f921"
             ]
            ],
            "type": "histogram2d"
           }
          ],
          "histogram2dcontour": [
           {
            "colorbar": {
             "outlinewidth": 0,
             "ticks": ""
            },
            "colorscale": [
             [
              0,
              "#0d0887"
             ],
             [
              0.1111111111111111,
              "#46039f"
             ],
             [
              0.2222222222222222,
              "#7201a8"
             ],
             [
              0.3333333333333333,
              "#9c179e"
             ],
             [
              0.4444444444444444,
              "#bd3786"
             ],
             [
              0.5555555555555556,
              "#d8576b"
             ],
             [
              0.6666666666666666,
              "#ed7953"
             ],
             [
              0.7777777777777778,
              "#fb9f3a"
             ],
             [
              0.8888888888888888,
              "#fdca26"
             ],
             [
              1,
              "#f0f921"
             ]
            ],
            "type": "histogram2dcontour"
           }
          ],
          "mesh3d": [
           {
            "colorbar": {
             "outlinewidth": 0,
             "ticks": ""
            },
            "type": "mesh3d"
           }
          ],
          "parcoords": [
           {
            "line": {
             "colorbar": {
              "outlinewidth": 0,
              "ticks": ""
             }
            },
            "type": "parcoords"
           }
          ],
          "pie": [
           {
            "automargin": true,
            "type": "pie"
           }
          ],
          "scatter": [
           {
            "fillpattern": {
             "fillmode": "overlay",
             "size": 10,
             "solidity": 0.2
            },
            "type": "scatter"
           }
          ],
          "scatter3d": [
           {
            "line": {
             "colorbar": {
              "outlinewidth": 0,
              "ticks": ""
             }
            },
            "marker": {
             "colorbar": {
              "outlinewidth": 0,
              "ticks": ""
             }
            },
            "type": "scatter3d"
           }
          ],
          "scattercarpet": [
           {
            "marker": {
             "colorbar": {
              "outlinewidth": 0,
              "ticks": ""
             }
            },
            "type": "scattercarpet"
           }
          ],
          "scattergeo": [
           {
            "marker": {
             "colorbar": {
              "outlinewidth": 0,
              "ticks": ""
             }
            },
            "type": "scattergeo"
           }
          ],
          "scattergl": [
           {
            "marker": {
             "colorbar": {
              "outlinewidth": 0,
              "ticks": ""
             }
            },
            "type": "scattergl"
           }
          ],
          "scattermapbox": [
           {
            "marker": {
             "colorbar": {
              "outlinewidth": 0,
              "ticks": ""
             }
            },
            "type": "scattermapbox"
           }
          ],
          "scatterpolar": [
           {
            "marker": {
             "colorbar": {
              "outlinewidth": 0,
              "ticks": ""
             }
            },
            "type": "scatterpolar"
           }
          ],
          "scatterpolargl": [
           {
            "marker": {
             "colorbar": {
              "outlinewidth": 0,
              "ticks": ""
             }
            },
            "type": "scatterpolargl"
           }
          ],
          "scatterternary": [
           {
            "marker": {
             "colorbar": {
              "outlinewidth": 0,
              "ticks": ""
             }
            },
            "type": "scatterternary"
           }
          ],
          "surface": [
           {
            "colorbar": {
             "outlinewidth": 0,
             "ticks": ""
            },
            "colorscale": [
             [
              0,
              "#0d0887"
             ],
             [
              0.1111111111111111,
              "#46039f"
             ],
             [
              0.2222222222222222,
              "#7201a8"
             ],
             [
              0.3333333333333333,
              "#9c179e"
             ],
             [
              0.4444444444444444,
              "#bd3786"
             ],
             [
              0.5555555555555556,
              "#d8576b"
             ],
             [
              0.6666666666666666,
              "#ed7953"
             ],
             [
              0.7777777777777778,
              "#fb9f3a"
             ],
             [
              0.8888888888888888,
              "#fdca26"
             ],
             [
              1,
              "#f0f921"
             ]
            ],
            "type": "surface"
           }
          ],
          "table": [
           {
            "cells": {
             "fill": {
              "color": "#EBF0F8"
             },
             "line": {
              "color": "white"
             }
            },
            "header": {
             "fill": {
              "color": "#C8D4E3"
             },
             "line": {
              "color": "white"
             }
            },
            "type": "table"
           }
          ]
         },
         "layout": {
          "annotationdefaults": {
           "arrowcolor": "#2a3f5f",
           "arrowhead": 0,
           "arrowwidth": 1
          },
          "autotypenumbers": "strict",
          "coloraxis": {
           "colorbar": {
            "outlinewidth": 0,
            "ticks": ""
           }
          },
          "colorscale": {
           "diverging": [
            [
             0,
             "#8e0152"
            ],
            [
             0.1,
             "#c51b7d"
            ],
            [
             0.2,
             "#de77ae"
            ],
            [
             0.3,
             "#f1b6da"
            ],
            [
             0.4,
             "#fde0ef"
            ],
            [
             0.5,
             "#f7f7f7"
            ],
            [
             0.6,
             "#e6f5d0"
            ],
            [
             0.7,
             "#b8e186"
            ],
            [
             0.8,
             "#7fbc41"
            ],
            [
             0.9,
             "#4d9221"
            ],
            [
             1,
             "#276419"
            ]
           ],
           "sequential": [
            [
             0,
             "#0d0887"
            ],
            [
             0.1111111111111111,
             "#46039f"
            ],
            [
             0.2222222222222222,
             "#7201a8"
            ],
            [
             0.3333333333333333,
             "#9c179e"
            ],
            [
             0.4444444444444444,
             "#bd3786"
            ],
            [
             0.5555555555555556,
             "#d8576b"
            ],
            [
             0.6666666666666666,
             "#ed7953"
            ],
            [
             0.7777777777777778,
             "#fb9f3a"
            ],
            [
             0.8888888888888888,
             "#fdca26"
            ],
            [
             1,
             "#f0f921"
            ]
           ],
           "sequentialminus": [
            [
             0,
             "#0d0887"
            ],
            [
             0.1111111111111111,
             "#46039f"
            ],
            [
             0.2222222222222222,
             "#7201a8"
            ],
            [
             0.3333333333333333,
             "#9c179e"
            ],
            [
             0.4444444444444444,
             "#bd3786"
            ],
            [
             0.5555555555555556,
             "#d8576b"
            ],
            [
             0.6666666666666666,
             "#ed7953"
            ],
            [
             0.7777777777777778,
             "#fb9f3a"
            ],
            [
             0.8888888888888888,
             "#fdca26"
            ],
            [
             1,
             "#f0f921"
            ]
           ]
          },
          "colorway": [
           "#636efa",
           "#EF553B",
           "#00cc96",
           "#ab63fa",
           "#FFA15A",
           "#19d3f3",
           "#FF6692",
           "#B6E880",
           "#FF97FF",
           "#FECB52"
          ],
          "font": {
           "color": "#2a3f5f"
          },
          "geo": {
           "bgcolor": "white",
           "lakecolor": "white",
           "landcolor": "#E5ECF6",
           "showlakes": true,
           "showland": true,
           "subunitcolor": "white"
          },
          "hoverlabel": {
           "align": "left"
          },
          "hovermode": "closest",
          "mapbox": {
           "style": "light"
          },
          "paper_bgcolor": "white",
          "plot_bgcolor": "#E5ECF6",
          "polar": {
           "angularaxis": {
            "gridcolor": "white",
            "linecolor": "white",
            "ticks": ""
           },
           "bgcolor": "#E5ECF6",
           "radialaxis": {
            "gridcolor": "white",
            "linecolor": "white",
            "ticks": ""
           }
          },
          "scene": {
           "xaxis": {
            "backgroundcolor": "#E5ECF6",
            "gridcolor": "white",
            "gridwidth": 2,
            "linecolor": "white",
            "showbackground": true,
            "ticks": "",
            "zerolinecolor": "white"
           },
           "yaxis": {
            "backgroundcolor": "#E5ECF6",
            "gridcolor": "white",
            "gridwidth": 2,
            "linecolor": "white",
            "showbackground": true,
            "ticks": "",
            "zerolinecolor": "white"
           },
           "zaxis": {
            "backgroundcolor": "#E5ECF6",
            "gridcolor": "white",
            "gridwidth": 2,
            "linecolor": "white",
            "showbackground": true,
            "ticks": "",
            "zerolinecolor": "white"
           }
          },
          "shapedefaults": {
           "line": {
            "color": "#2a3f5f"
           }
          },
          "ternary": {
           "aaxis": {
            "gridcolor": "white",
            "linecolor": "white",
            "ticks": ""
           },
           "baxis": {
            "gridcolor": "white",
            "linecolor": "white",
            "ticks": ""
           },
           "bgcolor": "#E5ECF6",
           "caxis": {
            "gridcolor": "white",
            "linecolor": "white",
            "ticks": ""
           }
          },
          "title": {
           "x": 0.05
          },
          "xaxis": {
           "automargin": true,
           "gridcolor": "white",
           "linecolor": "white",
           "ticks": "",
           "title": {
            "standoff": 15
           },
           "zerolinecolor": "white",
           "zerolinewidth": 2
          },
          "yaxis": {
           "automargin": true,
           "gridcolor": "white",
           "linecolor": "white",
           "ticks": "",
           "title": {
            "standoff": 15
           },
           "zerolinecolor": "white",
           "zerolinewidth": 2
          }
         }
        },
        "title": {
         "text": "20 Top Program IDs"
        }
       }
      },
      "image/png": "[encoded data removed]",
      "text/html": [
       "<div>                            <div id=\"2e556a9c-d198-4503-a3aa-c23fc1f6303b\" class=\"plotly-graph-div\" style=\"height:525px; width:100%;\"></div>            <script type=\"text/javascript\">                require([\"plotly\"], function(Plotly) {                    window.PLOTLYENV=window.PLOTLYENV || {};                                    if (document.getElementById(\"2e556a9c-d198-4503-a3aa-c23fc1f6303b\")) {                    Plotly.newPlot(                        \"2e556a9c-d198-4503-a3aa-c23fc1f6303b\",                        [{\"domain\":{\"x\":[0.0,1.0],\"y\":[0.0,1.0]},\"hovertemplate\":\"PROGRAM_ID=%{label}<br>COUNTS=%{value}<extra></extra>\",\"labels\":[\"11111111111111111111111111111111\",\"Other Program IDs\",\"Other Program IDs\",\"Other Program IDs\",\"Other Program IDs\",\"Other Program IDs\",\"675kPX9MHTjS2zt1qfr1NYHuzeLXfQM9H24wFSUt1Mp8\",\"Other Program IDs\",\"Other Program IDs\",\"7vxeyaXGLqcp66fFShqUdHxdacp4k4kwUpRSSeoZLCZ4\",\"Other Program IDs\",\"Other Program IDs\",\"Other Program IDs\",\"9W959DqEETiGZocYWCQPaJ6sBmUzgfxXfqGeTEdp3aQP\",\"9xQeWvG816bUx9EPjHmaT23yvVM2ZWbrrpZb9PusVFin\",\"Other Program IDs\",\"AMM55ShdkoGRB5jVYPjWziwk8m5MpwyDgsMWHaMSQWH6\",\"ATokenGPvbdGVxr1b2hvZbsiqW5xWH25efTNsLJA8knL\",\"Other Program IDs\",\"Other Program IDs\",\"Other Program IDs\",\"BPFLoaderUpgradeab1e11111111111111111111111\",\"Other Program IDs\",\"Other Program IDs\",\"Other Program IDs\",\"Other Program IDs\",\"Other Program IDs\",\"Other Program IDs\",\"Other Program IDs\",\"Other Program IDs\",\"Other Program IDs\",\"Other Program IDs\",\"Other Program IDs\",\"Other Program IDs\",\"JUP2jxvXaqu7NQY1GmNF4m1vodw12LVXYxbFL2uJvfo\",\"Other Program IDs\",\"KeccakSecp256k11111111111111111111111111111\",\"Other Program IDs\",\"Other Program IDs\",\"MEisE1HzehtrDpAAT8PnLHjpSSkRYakotTuJRPjTpo8\",\"Other Program IDs\",\"Memo1UhkJRfHyvLMcVucJwxXeuD728EqVDDwQDxFMNo\",\"MemoSq4gqABAXKb96qnH8TysNcWxMyWCqXgDLGmfcHr\",\"Other Program IDs\",\"Other Program IDs\",\"Other Program IDs\",\"SSwpkEEcbUqx4vtoEByFjSkhKdCT862DNVb52nZg1UZ\",\"So1endDq2YkqhipRh3WViPa8hdiSpxWy6z3Z6tMCpAo\",\"Other Program IDs\",\"Other Program IDs\",\"TokenkegQfeZyiNwAJbNbGKPFXCWuBvf9Ss623VQ5DA\",\"Other Program IDs\",\"Other Program IDs\",\"Other Program IDs\",\"ZETAxsqBRek56DhiGXrn75yj2NHU3aYUnxvHXpkf3aD\",\"Other Program IDs\",\"cndy3Z4yapfJBmL3ShUp5exZKqR3z33thTzeNMm2gRZ\",\"Other Program IDs\",\"Other Program IDs\",\"metaqbxxUerdq28cj1RbAWkYQm3ybzjb6a8bt518x1s\",\"mv3ekLzLbnVPNxjSKvqBpU3ZeZXPQdEC3bp5MDEBG68\",\"Other Program IDs\",\"Other Program IDs\",\"Other Program IDs\",\"Other Program IDs\"],\"legendgroup\":\"\",\"name\":\"\",\"showlegend\":true,\"values\":[803271059,367720,56,44,4070,716554,89366743,2568,65087,5682798,654129,366181,1192290,17625950,1197564500,8985,1273133,46239753,1504,23,12151,14459100,46972,11,1215636,1099445,32839,122725,237350,225,1021791,2712,24083,1122,21734643,191654,40677293,3,257972,10642825,171985,88928715,12085449,184378,90450,282652,1330044,2342226,206250,13186,222362999,842,4273,192,50411564,128660,7991531,354224,159842,12749932,424635203,48536,192542,339633,145832],\"type\":\"pie\",\"textinfo\":\"percent+value\",\"textposition\":\"inside\"}],                        {\"template\":{\"data\":{\"histogram2dcontour\":[{\"type\":\"histogram2dcontour\",\"colorbar\":{\"outlinewidth\":0,\"ticks\":\"\"},\"colorscale\":[[0.0,\"#0d0887\"],[0.1111111111111111,\"#46039f\"],[0.2222222222222222,\"#7201a8\"],[0.3333333333333333,\"#9c179e\"],[0.4444444444444444,\"#bd3786\"],[0.5555555555555556,\"#d8576b\"],[0.6666666666666666,\"#ed7953\"],[0.7777777777777778,\"#fb9f3a\"],[0.8888888888888888,\"#fdca26\"],[1.0,\"#f0f921\"]]}],\"choropleth\":[{\"type\":\"choropleth\",\"colorbar\":{\"outlinewidth\":0,\"ticks\":\"\"}}],\"histogram2d\":[{\"type\":\"histogram2d\",\"colorbar\":{\"outlinewidth\":0,\"ticks\":\"\"},\"colorscale\":[[0.0,\"#0d0887\"],[0.1111111111111111,\"#46039f\"],[0.2222222222222222,\"#7201a8\"],[0.3333333333333333,\"#9c179e\"],[0.4444444444444444,\"#bd3786\"],[0.5555555555555556,\"#d8576b\"],[0.6666666666666666,\"#ed7953\"],[0.7777777777777778,\"#fb9f3a\"],[0.8888888888888888,\"#fdca26\"],[1.0,\"#f0f921\"]]}],\"heatmap\":[{\"type\":\"heatmap\",\"colorbar\":{\"outlinewidth\":0,\"ticks\":\"\"},\"colorscale\":[[0.0,\"#0d0887\"],[0.1111111111111111,\"#46039f\"],[0.2222222222222222,\"#7201a8\"],[0.3333333333333333,\"#9c179e\"],[0.4444444444444444,\"#bd3786\"],[0.5555555555555556,\"#d8576b\"],[0.6666666666666666,\"#ed7953\"],[0.7777777777777778,\"#fb9f3a\"],[0.8888888888888888,\"#fdca26\"],[1.0,\"#f0f921\"]]}],\"heatmapgl\":[{\"type\":\"heatmapgl\",\"colorbar\":{\"outlinewidth\":0,\"ticks\":\"\"},\"colorscale\":[[0.0,\"#0d0887\"],[0.1111111111111111,\"#46039f\"],[0.2222222222222222,\"#7201a8\"],[0.3333333333333333,\"#9c179e\"],[0.4444444444444444,\"#bd3786\"],[0.5555555555555556,\"#d8576b\"],[0.6666666666666666,\"#ed7953\"],[0.7777777777777778,\"#fb9f3a\"],[0.8888888888888888,\"#fdca26\"],[1.0,\"#f0f921\"]]}],\"contourcarpet\":[{\"type\":\"contourcarpet\",\"colorbar\":{\"outlinewidth\":0,\"ticks\":\"\"}}],\"contour\":[{\"type\":\"contour\",\"colorbar\":{\"outlinewidth\":0,\"ticks\":\"\"},\"colorscale\":[[0.0,\"#0d0887\"],[0.1111111111111111,\"#46039f\"],[0.2222222222222222,\"#7201a8\"],[0.3333333333333333,\"#9c179e\"],[0.4444444444444444,\"#bd3786\"],[0.5555555555555556,\"#d8576b\"],[0.6666666666666666,\"#ed7953\"],[0.7777777777777778,\"#fb9f3a\"],[0.8888888888888888,\"#fdca26\"],[1.0,\"#f0f921\"]]}],\"surface\":[{\"type\":\"surface\",\"colorbar\":{\"outlinewidth\":0,\"ticks\":\"\"},\"colorscale\":[[0.0,\"#0d0887\"],[0.1111111111111111,\"#46039f\"],[0.2222222222222222,\"#7201a8\"],[0.3333333333333333,\"#9c179e\"],[0.4444444444444444,\"#bd3786\"],[0.5555555555555556,\"#d8576b\"],[0.6666666666666666,\"#ed7953\"],[0.7777777777777778,\"#fb9f3a\"],[0.8888888888888888,\"#fdca26\"],[1.0,\"#f0f921\"]]}],\"mesh3d\":[{\"type\":\"mesh3d\",\"colorbar\":{\"outlinewidth\":0,\"ticks\":\"\"}}],\"scatter\":[{\"fillpattern\":{\"fillmode\":\"overlay\",\"size\":10,\"solidity\":0.2},\"type\":\"scatter\"}],\"parcoords\":[{\"type\":\"parcoords\",\"line\":{\"colorbar\":{\"outlinewidth\":0,\"ticks\":\"\"}}}],\"scatterpolargl\":[{\"type\":\"scatterpolargl\",\"marker\":{\"colorbar\":{\"outlinewidth\":0,\"ticks\":\"\"}}}],\"bar\":[{\"error_x\":{\"color\":\"#2a3f5f\"},\"error_y\":{\"color\":\"#2a3f5f\"},\"marker\":{\"line\":{\"color\":\"#E5ECF6\",\"width\":0.5},\"pattern\":{\"fillmode\":\"overlay\",\"size\":10,\"solidity\":0.2}},\"type\":\"bar\"}],\"scattergeo\":[{\"type\":\"scattergeo\",\"marker\":{\"colorbar\":{\"outlinewidth\":0,\"ticks\":\"\"}}}],\"scatterpolar\":[{\"type\":\"scatterpolar\",\"marker\":{\"colorbar\":{\"outlinewidth\":0,\"ticks\":\"\"}}}],\"histogram\":[{\"marker\":{\"pattern\":{\"fillmode\":\"overlay\",\"size\":10,\"solidity\":0.2}},\"type\":\"histogram\"}],\"scattergl\":[{\"type\":\"scattergl\",\"marker\":{\"colorbar\":{\"outlinewidth\":0,\"ticks\":\"\"}}}],\"scatter3d\":[{\"type\":\"scatter3d\",\"line\":{\"colorbar\":{\"outlinewidth\":0,\"ticks\":\"\"}},\"marker\":{\"colorbar\":{\"outlinewidth\":0,\"ticks\":\"\"}}}],\"scattermapbox\":[{\"type\":\"scattermapbox\",\"marker\":{\"colorbar\":{\"outlinewidth\":0,\"ticks\":\"\"}}}],\"scatterternary\":[{\"type\":\"scatterternary\",\"marker\":{\"colorbar\":{\"outlinewidth\":0,\"ticks\":\"\"}}}],\"scattercarpet\":[{\"type\":\"scattercarpet\",\"marker\":{\"colorbar\":{\"outlinewidth\":0,\"ticks\":\"\"}}}],\"carpet\":[{\"aaxis\":{\"endlinecolor\":\"#2a3f5f\",\"gridcolor\":\"white\",\"linecolor\":\"white\",\"minorgridcolor\":\"white\",\"startlinecolor\":\"#2a3f5f\"},\"baxis\":{\"endlinecolor\":\"#2a3f5f\",\"gridcolor\":\"white\",\"linecolor\":\"white\",\"minorgridcolor\":\"white\",\"startlinecolor\":\"#2a3f5f\"},\"type\":\"carpet\"}],\"table\":[{\"cells\":{\"fill\":{\"color\":\"#EBF0F8\"},\"line\":{\"color\":\"white\"}},\"header\":{\"fill\":{\"color\":\"#C8D4E3\"},\"line\":{\"color\":\"white\"}},\"type\":\"table\"}],\"barpolar\":[{\"marker\":{\"line\":{\"color\":\"#E5ECF6\",\"width\":0.5},\"pattern\":{\"fillmode\":\"overlay\",\"size\":10,\"solidity\":0.2}},\"type\":\"barpolar\"}],\"pie\":[{\"automargin\":true,\"type\":\"pie\"}]},\"layout\":{\"autotypenumbers\":\"strict\",\"colorway\":[\"#636efa\",\"#EF553B\",\"#00cc96\",\"#ab63fa\",\"#FFA15A\",\"#19d3f3\",\"#FF6692\",\"#B6E880\",\"#FF97FF\",\"#FECB52\"],\"font\":{\"color\":\"#2a3f5f\"},\"hovermode\":\"closest\",\"hoverlabel\":{\"align\":\"left\"},\"paper_bgcolor\":\"white\",\"plot_bgcolor\":\"#E5ECF6\",\"polar\":{\"bgcolor\":\"#E5ECF6\",\"angularaxis\":{\"gridcolor\":\"white\",\"linecolor\":\"white\",\"ticks\":\"\"},\"radialaxis\":{\"gridcolor\":\"white\",\"linecolor\":\"white\",\"ticks\":\"\"}},\"ternary\":{\"bgcolor\":\"#E5ECF6\",\"aaxis\":{\"gridcolor\":\"white\",\"linecolor\":\"white\",\"ticks\":\"\"},\"baxis\":{\"gridcolor\":\"white\",\"linecolor\":\"white\",\"ticks\":\"\"},\"caxis\":{\"gridcolor\":\"white\",\"linecolor\":\"white\",\"ticks\":\"\"}},\"coloraxis\":{\"colorbar\":{\"outlinewidth\":0,\"ticks\":\"\"}},\"colorscale\":{\"sequential\":[[0.0,\"#0d0887\"],[0.1111111111111111,\"#46039f\"],[0.2222222222222222,\"#7201a8\"],[0.3333333333333333,\"#9c179e\"],[0.4444444444444444,\"#bd3786\"],[0.5555555555555556,\"#d8576b\"],[0.6666666666666666,\"#ed7953\"],[0.7777777777777778,\"#fb9f3a\"],[0.8888888888888888,\"#fdca26\"],[1.0,\"#f0f921\"]],\"sequentialminus\":[[0.0,\"#0d0887\"],[0.1111111111111111,\"#46039f\"],[0.2222222222222222,\"#7201a8\"],[0.3333333333333333,\"#9c179e\"],[0.4444444444444444,\"#bd3786\"],[0.5555555555555556,\"#d8576b\"],[0.6666666666666666,\"#ed7953\"],[0.7777777777777778,\"#fb9f3a\"],[0.8888888888888888,\"#fdca26\"],[1.0,\"#f0f921\"]],\"diverging\":[[0,\"#8e0152\"],[0.1,\"#c51b7d\"],[0.2,\"#de77ae\"],[0.3,\"#f1b6da\"],[0.4,\"#fde0ef\"],[0.5,\"#f7f7f7\"],[0.6,\"#e6f5d0\"],[0.7,\"#b8e186\"],[0.8,\"#7fbc41\"],[0.9,\"#4d9221\"],[1,\"#276419\"]]},\"xaxis\":{\"gridcolor\":\"white\",\"linecolor\":\"white\",\"ticks\":\"\",\"title\":{\"standoff\":15},\"zerolinecolor\":\"white\",\"automargin\":true,\"zerolinewidth\":2},\"yaxis\":{\"gridcolor\":\"white\",\"linecolor\":\"white\",\"ticks\":\"\",\"title\":{\"standoff\":15},\"zerolinecolor\":\"white\",\"automargin\":true,\"zerolinewidth\":2},\"scene\":{\"xaxis\":{\"backgroundcolor\":\"#E5ECF6\",\"gridcolor\":\"white\",\"linecolor\":\"white\",\"showbackground\":true,\"ticks\":\"\",\"zerolinecolor\":\"white\",\"gridwidth\":2},\"yaxis\":{\"backgroundcolor\":\"#E5ECF6\",\"gridcolor\":\"white\",\"linecolor\":\"white\",\"showbackground\":true,\"ticks\":\"\",\"zerolinecolor\":\"white\",\"gridwidth\":2},\"zaxis\":{\"backgroundcolor\":\"#E5ECF6\",\"gridcolor\":\"white\",\"linecolor\":\"white\",\"showbackground\":true,\"ticks\":\"\",\"zerolinecolor\":\"white\",\"gridwidth\":2}},\"shapedefaults\":{\"line\":{\"color\":\"#2a3f5f\"}},\"annotationdefaults\":{\"arrowcolor\":\"#2a3f5f\",\"arrowhead\":0,\"arrowwidth\":1},\"geo\":{\"bgcolor\":\"white\",\"landcolor\":\"#E5ECF6\",\"subunitcolor\":\"white\",\"showland\":true,\"showlakes\":true,\"lakecolor\":\"white\"},\"title\":{\"x\":0.05},\"mapbox\":{\"style\":\"light\"}}},\"legend\":{\"tracegroupgap\":0},\"title\":{\"text\":\"20 Top Program IDs\"}},                        {\"responsive\": true}                    ).then(function(){\n",
       "                            \n",
       "var gd = document.getElementById('2e556a9c-d198-4503-a3aa-c23fc1f6303b');\n",
       "var x = new MutationObserver(function (mutations, observer) {{\n",
       "        var display = window.getComputedStyle(gd).display;\n",
       "        if (!display || display === 'none') {{\n",
       "            console.log([gd, 'removed!']);\n",
       "            Plotly.purge(gd);\n",
       "            observer.disconnect();\n",
       "        }}\n",
       "}});\n",
       "\n",
       "// Listen for the removal of the full notebook cells\n",
       "var notebookContainer = gd.closest('#notebook-container');\n",
       "if (notebookContainer) {{\n",
       "    x.observe(notebookContainer, {childList: true});\n",
       "}}\n",
       "\n",
       "// Listen for the clearing of the current output cell\n",
       "var outputEl = gd.closest('.output');\n",
       "if (outputEl) {{\n",
       "    x.observe(outputEl, {childList: true});\n",
       "}}\n",
       "\n",
       "                        })                };                });            </script>        </div>"
      ]
     },
     "metadata": {},
     "output_type": "display_data"
    }
   ],
   "source": [
    "piechart(df, n=20)"
   ]
  },
  {
   "cell_type": "code",
   "execution_count": 98,
   "id": "d3f15a67-1992-4183-b809-642a61803bb2",
   "metadata": {},
   "outputs": [],
   "source": [
    "labels = df['PROGRAM_ID'].unique()\n",
    "\n",
    "labels = [f'\"{i}\"' for i in labels]\n",
    "\n",
    "','.join(labels)"
   ]
  },
  {
   "cell_type": "code",
   "execution_count": null,
   "id": "81fb03c6-5eb2-448d-8ba4-83dcb27a6d00",
   "metadata": {},
   "outputs": [],
   "source": []
  },
  {
   "cell_type": "code",
   "execution_count": 118,
   "id": "54f8fa42-b93a-402c-9328-9be791c03e83",
   "metadata": {},
   "outputs": [
    {
     "data": {
      "text/html": [
       "<div>\n",
       "<style scoped>\n",
       "    .dataframe tbody tr th:only-of-type {\n",
       "        vertical-align: middle;\n",
       "    }\n",
       "\n",
       "    .dataframe tbody tr th {\n",
       "        vertical-align: top;\n",
       "    }\n",
       "\n",
       "    .dataframe thead th {\n",
       "        text-align: right;\n",
       "    }\n",
       "</style>\n",
       "<table border=\"1\" class=\"dataframe\">\n",
       "  <thead>\n",
       "    <tr style=\"text-align: right;\">\n",
       "      <th></th>\n",
       "      <th>DATE</th>\n",
       "      <th>COUNTS</th>\n",
       "    </tr>\n",
       "  </thead>\n",
       "  <tbody>\n",
       "    <tr>\n",
       "      <th>0</th>\n",
       "      <td>2022-01-01</td>\n",
       "      <td>22800147</td>\n",
       "    </tr>\n",
       "    <tr>\n",
       "      <th>1</th>\n",
       "      <td>2022-01-02</td>\n",
       "      <td>20251865</td>\n",
       "    </tr>\n",
       "    <tr>\n",
       "      <th>2</th>\n",
       "      <td>2022-01-03</td>\n",
       "      <td>17871639</td>\n",
       "    </tr>\n",
       "    <tr>\n",
       "      <th>3</th>\n",
       "      <td>2022-01-04</td>\n",
       "      <td>23351108</td>\n",
       "    </tr>\n",
       "    <tr>\n",
       "      <th>4</th>\n",
       "      <td>2022-01-05</td>\n",
       "      <td>19278988</td>\n",
       "    </tr>\n",
       "  </tbody>\n",
       "</table>\n",
       "</div>"
      ],
      "text/plain": [
       "        DATE    COUNTS\n",
       "0 2022-01-01  22800147\n",
       "1 2022-01-02  20251865\n",
       "2 2022-01-03  17871639\n",
       "3 2022-01-04  23351108\n",
       "4 2022-01-05  19278988"
      ]
     },
     "execution_count": 118,
     "metadata": {},
     "output_type": "execute_result"
    }
   ],
   "source": [
    "data.head()"
   ]
  },
  {
   "cell_type": "code",
   "execution_count": null,
   "id": "0a1a42d4-33a9-46de-b1c9-8d51f667e767",
   "metadata": {},
   "outputs": [],
   "source": []
  },
  {
   "cell_type": "code",
   "execution_count": 60,
   "id": "0378c21b-1ef4-468c-8ec2-a04df6bc53da",
   "metadata": {},
   "outputs": [
    {
     "data": {
      "application/vnd.plotly.v1+json": {
       "config": {
        "plotlyServerURL": "https://plot.ly"
       },
       "data": [
        {
         "alignmentgroup": "True",
         "hovertemplate": "DATE=%{x}<br>COUNTS=%{y}<extra></extra>",
         "legendgroup": "",
         "marker": {
          "color": "#636efa",
          "pattern": {
           "shape": ""
          }
         },
         "name": "",
         "offsetgroup": "",
         "orientation": "v",
         "showlegend": false,
         "textposition": "auto",
         "type": "bar",
         "x": [
          "2022-01-01T00:00:00",
          "2022-01-02T00:00:00",
          "2022-01-03T00:00:00",
          "2022-01-04T00:00:00",
          "2022-01-05T00:00:00",
          "2022-01-06T00:00:00",
          "2022-01-07T00:00:00",
          "2022-01-08T00:00:00",
          "2022-01-09T00:00:00",
          "2022-01-10T00:00:00",
          "2022-01-11T00:00:00",
          "2022-01-12T00:00:00",
          "2022-01-13T00:00:00",
          "2022-01-14T00:00:00",
          "2022-01-15T00:00:00",
          "2022-01-16T00:00:00",
          "2022-01-17T00:00:00",
          "2022-01-18T00:00:00",
          "2022-01-19T00:00:00",
          "2022-01-20T00:00:00",
          "2022-01-21T00:00:00",
          "2022-01-22T00:00:00",
          "2022-01-23T00:00:00",
          "2022-01-24T00:00:00",
          "2022-01-25T00:00:00",
          "2022-01-26T00:00:00",
          "2022-01-27T00:00:00",
          "2022-01-28T00:00:00",
          "2022-01-29T00:00:00",
          "2022-01-30T00:00:00",
          "2022-01-31T00:00:00",
          "2022-02-01T00:00:00",
          "2022-02-02T00:00:00",
          "2022-02-03T00:00:00",
          "2022-02-04T00:00:00",
          "2022-02-05T00:00:00",
          "2022-02-06T00:00:00",
          "2022-02-07T00:00:00",
          "2022-02-08T00:00:00",
          "2022-02-09T00:00:00",
          "2022-02-10T00:00:00",
          "2022-02-11T00:00:00",
          "2022-02-12T00:00:00",
          "2022-02-13T00:00:00",
          "2022-02-14T00:00:00",
          "2022-02-15T00:00:00",
          "2022-02-16T00:00:00",
          "2022-02-17T00:00:00",
          "2022-02-18T00:00:00",
          "2022-02-19T00:00:00",
          "2022-02-20T00:00:00",
          "2022-02-21T00:00:00",
          "2022-02-22T00:00:00",
          "2022-02-23T00:00:00",
          "2022-02-24T00:00:00",
          "2022-02-25T00:00:00",
          "2022-02-26T00:00:00",
          "2022-02-27T00:00:00",
          "2022-02-28T00:00:00",
          "2022-03-01T00:00:00",
          "2022-03-02T00:00:00",
          "2022-03-03T00:00:00",
          "2022-03-04T00:00:00",
          "2022-03-05T00:00:00",
          "2022-03-06T00:00:00",
          "2022-03-07T00:00:00",
          "2022-03-08T00:00:00",
          "2022-03-09T00:00:00",
          "2022-03-10T00:00:00",
          "2022-03-11T00:00:00",
          "2022-03-12T00:00:00",
          "2022-03-13T00:00:00",
          "2022-03-14T00:00:00",
          "2022-03-15T00:00:00",
          "2022-03-16T00:00:00",
          "2022-03-17T00:00:00",
          "2022-03-18T00:00:00",
          "2022-03-19T00:00:00",
          "2022-03-20T00:00:00",
          "2022-03-21T00:00:00",
          "2022-03-22T00:00:00",
          "2022-03-23T00:00:00",
          "2022-03-24T00:00:00",
          "2022-03-25T00:00:00",
          "2022-03-26T00:00:00",
          "2022-03-27T00:00:00",
          "2022-03-28T00:00:00",
          "2022-03-29T00:00:00",
          "2022-03-30T00:00:00",
          "2022-03-31T00:00:00",
          "2022-04-01T00:00:00",
          "2022-04-02T00:00:00",
          "2022-04-03T00:00:00",
          "2022-04-04T00:00:00",
          "2022-04-05T00:00:00",
          "2022-04-06T00:00:00",
          "2022-04-07T00:00:00",
          "2022-04-08T00:00:00",
          "2022-04-09T00:00:00",
          "2022-04-10T00:00:00",
          "2022-04-11T00:00:00",
          "2022-04-12T00:00:00",
          "2022-04-13T00:00:00",
          "2022-04-14T00:00:00",
          "2022-04-15T00:00:00",
          "2022-04-16T00:00:00",
          "2022-04-17T00:00:00",
          "2022-04-18T00:00:00",
          "2022-04-19T00:00:00",
          "2022-04-20T00:00:00",
          "2022-04-21T00:00:00",
          "2022-04-22T00:00:00",
          "2022-04-23T00:00:00",
          "2022-04-24T00:00:00",
          "2022-04-25T00:00:00",
          "2022-04-26T00:00:00",
          "2022-04-27T00:00:00",
          "2022-04-28T00:00:00",
          "2022-04-29T00:00:00",
          "2022-04-30T00:00:00",
          "2022-05-01T00:00:00",
          "2022-05-02T00:00:00",
          "2022-05-03T00:00:00",
          "2022-05-04T00:00:00",
          "2022-05-05T00:00:00",
          "2022-05-06T00:00:00",
          "2022-05-07T00:00:00",
          "2022-05-08T00:00:00",
          "2022-05-09T00:00:00",
          "2022-05-10T00:00:00",
          "2022-05-11T00:00:00",
          "2022-05-12T00:00:00",
          "2022-05-13T00:00:00",
          "2022-05-14T00:00:00",
          "2022-05-15T00:00:00",
          "2022-05-16T00:00:00",
          "2022-05-17T00:00:00",
          "2022-05-18T00:00:00",
          "2022-05-19T00:00:00",
          "2022-05-20T00:00:00",
          "2022-05-21T00:00:00",
          "2022-05-22T00:00:00",
          "2022-05-23T00:00:00",
          "2022-05-24T00:00:00",
          "2022-05-25T00:00:00",
          "2022-05-26T00:00:00",
          "2022-05-27T00:00:00",
          "2022-05-28T00:00:00",
          "2022-05-29T00:00:00",
          "2022-05-30T00:00:00",
          "2022-05-31T00:00:00",
          "2022-06-01T00:00:00",
          "2022-06-02T00:00:00",
          "2022-06-03T00:00:00",
          "2022-06-04T00:00:00",
          "2022-06-05T00:00:00",
          "2022-06-06T00:00:00",
          "2022-06-07T00:00:00",
          "2022-06-08T00:00:00",
          "2022-06-09T00:00:00",
          "2022-06-10T00:00:00",
          "2022-06-11T00:00:00",
          "2022-06-12T00:00:00",
          "2022-06-13T00:00:00",
          "2022-06-14T00:00:00",
          "2022-06-15T00:00:00",
          "2022-06-16T00:00:00",
          "2022-06-17T00:00:00",
          "2022-06-18T00:00:00",
          "2022-06-19T00:00:00",
          "2022-06-20T00:00:00",
          "2022-06-21T00:00:00",
          "2022-06-22T00:00:00",
          "2022-06-23T00:00:00",
          "2022-06-24T00:00:00",
          "2022-06-25T00:00:00",
          "2022-06-26T00:00:00",
          "2022-06-27T00:00:00",
          "2022-06-28T00:00:00",
          "2022-06-29T00:00:00",
          "2022-06-30T00:00:00",
          "2022-07-01T00:00:00",
          "2022-07-02T00:00:00",
          "2022-07-03T00:00:00",
          "2022-07-04T00:00:00",
          "2022-07-05T00:00:00"
         ],
         "xaxis": "x",
         "y": [
          22800147,
          20251865,
          17871639,
          23351108,
          19278988,
          25596983,
          13997251,
          18826879,
          19207021,
          18646143,
          19207822,
          19157653,
          20437158,
          22999031,
          21584456,
          21183912,
          20643403,
          22283978,
          23296111,
          19993073,
          10770947,
          9935191,
          25900757,
          28687281,
          27052148,
          26700916,
          27945913,
          26967620,
          24285982,
          22375933,
          23832661,
          24538739,
          23375159,
          23862362,
          23932803,
          23667905,
          23042286,
          25950240,
          30361561,
          30249682,
          26873985,
          24689686,
          23471233,
          21983751,
          24380791,
          22574419,
          26147486,
          23535028,
          23589139,
          20711076,
          21730266,
          23407742,
          24562836,
          24254640,
          23121735,
          24613384,
          24441881,
          24496705,
          24543155,
          22158308,
          22588659,
          24896011,
          24166126,
          21153135,
          23349367,
          20731268,
          23167708,
          22203268,
          17694292,
          19414336,
          20754546,
          18148381,
          19557692,
          20698759,
          22005186,
          21459521,
          20186891,
          17576999,
          17300648,
          16683231,
          20609046,
          21618301,
          16562308,
          15000719,
          12696600,
          13635715,
          14929175,
          14559643,
          17579407,
          15638955,
          14400929,
          14872473,
          11670181,
          9746099,
          13034930,
          7789533,
          8026682,
          7194169,
          4619965,
          7603676,
          8384979,
          8234451,
          10427976,
          14713877,
          16410217,
          11983156,
          9093483,
          6560423,
          9494193,
          10251142,
          11207708,
          10981180,
          11421567,
          9383451,
          8924321,
          8938505,
          9691778,
          13025532,
          7434116,
          5680272,
          8118208,
          13156269,
          15105349,
          15062560,
          12305192,
          11645921,
          12620684,
          12637789,
          10045681,
          9140314,
          8091608,
          6685807,
          6875435,
          9149848,
          8512316,
          8611093,
          7088182,
          8684819,
          8942197,
          8536617,
          9644202,
          11433234,
          9919722,
          9087153,
          9071571,
          10292418,
          10394817,
          10480661,
          10438186,
          11102287,
          13937386,
          10980688,
          15572786,
          14467181,
          14220285,
          11101192,
          10541553,
          11613634,
          12547136,
          11796599,
          13866020,
          11787153,
          10914575,
          10398131,
          11191379,
          12517527,
          13669572,
          15427029,
          15738942,
          16031950,
          16786961,
          19085431,
          20038869,
          19268698,
          17404151,
          18682575,
          15540180,
          18914312,
          16802638,
          18272285,
          17875757,
          18031369,
          16637483,
          14569103,
          19670363,
          5458996
         ],
         "yaxis": "y"
        },
        {
         "mode": "lines",
         "name": "10-day MA",
         "type": "scatter",
         "x": [
          "2022-01-01T00:00:00",
          "2022-01-02T00:00:00",
          "2022-01-03T00:00:00",
          "2022-01-04T00:00:00",
          "2022-01-05T00:00:00",
          "2022-01-06T00:00:00",
          "2022-01-07T00:00:00",
          "2022-01-08T00:00:00",
          "2022-01-09T00:00:00",
          "2022-01-10T00:00:00",
          "2022-01-11T00:00:00",
          "2022-01-12T00:00:00",
          "2022-01-13T00:00:00",
          "2022-01-14T00:00:00",
          "2022-01-15T00:00:00",
          "2022-01-16T00:00:00",
          "2022-01-17T00:00:00",
          "2022-01-18T00:00:00",
          "2022-01-19T00:00:00",
          "2022-01-20T00:00:00",
          "2022-01-21T00:00:00",
          "2022-01-22T00:00:00",
          "2022-01-23T00:00:00",
          "2022-01-24T00:00:00",
          "2022-01-25T00:00:00",
          "2022-01-26T00:00:00",
          "2022-01-27T00:00:00",
          "2022-01-28T00:00:00",
          "2022-01-29T00:00:00",
          "2022-01-30T00:00:00",
          "2022-01-31T00:00:00",
          "2022-02-01T00:00:00",
          "2022-02-02T00:00:00",
          "2022-02-03T00:00:00",
          "2022-02-04T00:00:00",
          "2022-02-05T00:00:00",
          "2022-02-06T00:00:00",
          "2022-02-07T00:00:00",
          "2022-02-08T00:00:00",
          "2022-02-09T00:00:00",
          "2022-02-10T00:00:00",
          "2022-02-11T00:00:00",
          "2022-02-12T00:00:00",
          "2022-02-13T00:00:00",
          "2022-02-14T00:00:00",
          "2022-02-15T00:00:00",
          "2022-02-16T00:00:00",
          "2022-02-17T00:00:00",
          "2022-02-18T00:00:00",
          "2022-02-19T00:00:00",
          "2022-02-20T00:00:00",
          "2022-02-21T00:00:00",
          "2022-02-22T00:00:00",
          "2022-02-23T00:00:00",
          "2022-02-24T00:00:00",
          "2022-02-25T00:00:00",
          "2022-02-26T00:00:00",
          "2022-02-27T00:00:00",
          "2022-02-28T00:00:00",
          "2022-03-01T00:00:00",
          "2022-03-02T00:00:00",
          "2022-03-03T00:00:00",
          "2022-03-04T00:00:00",
          "2022-03-05T00:00:00",
          "2022-03-06T00:00:00",
          "2022-03-07T00:00:00",
          "2022-03-08T00:00:00",
          "2022-03-09T00:00:00",
          "2022-03-10T00:00:00",
          "2022-03-11T00:00:00",
          "2022-03-12T00:00:00",
          "2022-03-13T00:00:00",
          "2022-03-14T00:00:00",
          "2022-03-15T00:00:00",
          "2022-03-16T00:00:00",
          "2022-03-17T00:00:00",
          "2022-03-18T00:00:00",
          "2022-03-19T00:00:00",
          "2022-03-20T00:00:00",
          "2022-03-21T00:00:00",
          "2022-03-22T00:00:00",
          "2022-03-23T00:00:00",
          "2022-03-24T00:00:00",
          "2022-03-25T00:00:00",
          "2022-03-26T00:00:00",
          "2022-03-27T00:00:00",
          "2022-03-28T00:00:00",
          "2022-03-29T00:00:00",
          "2022-03-30T00:00:00",
          "2022-03-31T00:00:00",
          "2022-04-01T00:00:00",
          "2022-04-02T00:00:00",
          "2022-04-03T00:00:00",
          "2022-04-04T00:00:00",
          "2022-04-05T00:00:00",
          "2022-04-06T00:00:00",
          "2022-04-07T00:00:00",
          "2022-04-08T00:00:00",
          "2022-04-09T00:00:00",
          "2022-04-10T00:00:00",
          "2022-04-11T00:00:00",
          "2022-04-12T00:00:00",
          "2022-04-13T00:00:00",
          "2022-04-14T00:00:00",
          "2022-04-15T00:00:00",
          "2022-04-16T00:00:00",
          "2022-04-17T00:00:00",
          "2022-04-18T00:00:00",
          "2022-04-19T00:00:00",
          "2022-04-20T00:00:00",
          "2022-04-21T00:00:00",
          "2022-04-22T00:00:00",
          "2022-04-23T00:00:00",
          "2022-04-24T00:00:00",
          "2022-04-25T00:00:00",
          "2022-04-26T00:00:00",
          "2022-04-27T00:00:00",
          "2022-04-28T00:00:00",
          "2022-04-29T00:00:00",
          "2022-04-30T00:00:00",
          "2022-05-01T00:00:00",
          "2022-05-02T00:00:00",
          "2022-05-03T00:00:00",
          "2022-05-04T00:00:00",
          "2022-05-05T00:00:00",
          "2022-05-06T00:00:00",
          "2022-05-07T00:00:00",
          "2022-05-08T00:00:00",
          "2022-05-09T00:00:00",
          "2022-05-10T00:00:00",
          "2022-05-11T00:00:00",
          "2022-05-12T00:00:00",
          "2022-05-13T00:00:00",
          "2022-05-14T00:00:00",
          "2022-05-15T00:00:00",
          "2022-05-16T00:00:00",
          "2022-05-17T00:00:00",
          "2022-05-18T00:00:00",
          "2022-05-19T00:00:00",
          "2022-05-20T00:00:00",
          "2022-05-21T00:00:00",
          "2022-05-22T00:00:00",
          "2022-05-23T00:00:00",
          "2022-05-24T00:00:00",
          "2022-05-25T00:00:00",
          "2022-05-26T00:00:00",
          "2022-05-27T00:00:00",
          "2022-05-28T00:00:00",
          "2022-05-29T00:00:00",
          "2022-05-30T00:00:00",
          "2022-05-31T00:00:00",
          "2022-06-01T00:00:00",
          "2022-06-02T00:00:00",
          "2022-06-03T00:00:00",
          "2022-06-04T00:00:00",
          "2022-06-05T00:00:00",
          "2022-06-06T00:00:00",
          "2022-06-07T00:00:00",
          "2022-06-08T00:00:00",
          "2022-06-09T00:00:00",
          "2022-06-10T00:00:00",
          "2022-06-11T00:00:00",
          "2022-06-12T00:00:00",
          "2022-06-13T00:00:00",
          "2022-06-14T00:00:00",
          "2022-06-15T00:00:00",
          "2022-06-16T00:00:00",
          "2022-06-17T00:00:00",
          "2022-06-18T00:00:00",
          "2022-06-19T00:00:00",
          "2022-06-20T00:00:00",
          "2022-06-21T00:00:00",
          "2022-06-22T00:00:00",
          "2022-06-23T00:00:00",
          "2022-06-24T00:00:00",
          "2022-06-25T00:00:00",
          "2022-06-26T00:00:00",
          "2022-06-27T00:00:00",
          "2022-06-28T00:00:00",
          "2022-06-29T00:00:00",
          "2022-06-30T00:00:00",
          "2022-07-01T00:00:00",
          "2022-07-02T00:00:00",
          "2022-07-03T00:00:00",
          "2022-07-04T00:00:00",
          "2022-07-05T00:00:00"
         ],
         "y": [
          null,
          null,
          null,
          null,
          null,
          null,
          null,
          null,
          null,
          19982802.4,
          19623569.9,
          19514148.7,
          19770700.6,
          19735492.9,
          19966039.7,
          19524732.6,
          20189347.8,
          20535057.7,
          20943966.7,
          21078659.7,
          20234972.2,
          19312726,
          19859085.9,
          20427910.9,
          20974680.1,
          21526380.5,
          22256631.5,
          22724995.7,
          22823982.8,
          23062268.8,
          24368440.2,
          25828795,
          25576235.2,
          25093743.3,
          24781808.8,
          24478507.7,
          23988145,
          23886407,
          24493964.9,
          25281339.8,
          25585472.2,
          25600566.9,
          25610174.3,
          25422313.2,
          25467112,
          25357763.4,
          25668283.4,
          25426762.2,
          24749520,
          23795659.4,
          23281287.5,
          23153093.1,
          23262253.4,
          23489342.3,
          23363436.7,
          23567333.2,
          23396772.7,
          23492940.4,
          23588342,
          23733065.2,
          23818904.5,
          23967731.4,
          23928060.4,
          23617909.9,
          23640673.1,
          23252461.5,
          23125044.2,
          22895700.5,
          22210814.2,
          21936417,
          21753005.7,
          21078242.7,
          20617399.3,
          20571961.7,
          20437543.6,
          20510368.9,
          20212287.2,
          19749660.3,
          19710295.9,
          19437185.4,
          19422635.4,
          19769627.4,
          19470089,
          18900285,
          17969426.4,
          17187045.8,
          16661274.2,
          16359538.6,
          16387414.5,
          16282986.9,
          15662175.2,
          14987592.4,
          14498379.7,
          13972917.7,
          14006750.7,
          13422132.5,
          12731883.2,
          11995335.8,
          10699391.6,
          9895863.7,
          9294268.7,
          8630466.5,
          8506246,
          9003023.8,
          9340552.5,
          9759914.8,
          9866594.9,
          9803220.3,
          10290643.1,
          10555389.7,
          10837662.6,
          11112335.5,
          11211694.6,
          10678652,
          9930062.4,
          9625597.3,
          9685426.8,
          10331937.7,
          10125930,
          9668843,
          9359893,
          9577401.9,
          9945780.1,
          10513691,
          10851778.1,
          11122519.7,
          11415410.3,
          11376636,
          11637792.5,
          11983796.7,
          11981136.7,
          11334090.5,
          10511099.1,
          9919827.9,
          9540540.3,
          9237057.5,
          8683807.3,
          8288510.3,
          8178161.9,
          8117792.2,
          8273051.6,
          8747794.3,
          9052223,
          9045953.5,
          9101879,
          9270011.5,
          9600675,
          9780259.2,
          9929858.1,
          10186425.1,
          10615743.5,
          10570488.9,
          11135795.3,
          11673798.1,
          12188669.5,
          12269546.9,
          12284220.5,
          12397517.8,
          12608412.8,
          12677844,
          12670707.4,
          12751353.9,
          12285532.8,
          11878627.8,
          11575737.2,
          11717370.7,
          12030172.6,
          12411512.1,
          12730692.7,
          13154227.8,
          13446321.9,
          14176149.7,
          15088579.1,
          15975635.8,
          16596913,
          17213417.8,
          17400478.6,
          17749206.9,
          17855576.5,
          18079610,
          18188489.6,
          18083083.4,
          17742944.8,
          17272985.3,
          17499606.5,
          16177248.6
         ]
        },
        {
         "mode": "lines",
         "name": "20-day MA",
         "type": "scatter",
         "x": [
          "2022-01-01T00:00:00",
          "2022-01-02T00:00:00",
          "2022-01-03T00:00:00",
          "2022-01-04T00:00:00",
          "2022-01-05T00:00:00",
          "2022-01-06T00:00:00",
          "2022-01-07T00:00:00",
          "2022-01-08T00:00:00",
          "2022-01-09T00:00:00",
          "2022-01-10T00:00:00",
          "2022-01-11T00:00:00",
          "2022-01-12T00:00:00",
          "2022-01-13T00:00:00",
          "2022-01-14T00:00:00",
          "2022-01-15T00:00:00",
          "2022-01-16T00:00:00",
          "2022-01-17T00:00:00",
          "2022-01-18T00:00:00",
          "2022-01-19T00:00:00",
          "2022-01-20T00:00:00",
          "2022-01-21T00:00:00",
          "2022-01-22T00:00:00",
          "2022-01-23T00:00:00",
          "2022-01-24T00:00:00",
          "2022-01-25T00:00:00",
          "2022-01-26T00:00:00",
          "2022-01-27T00:00:00",
          "2022-01-28T00:00:00",
          "2022-01-29T00:00:00",
          "2022-01-30T00:00:00",
          "2022-01-31T00:00:00",
          "2022-02-01T00:00:00",
          "2022-02-02T00:00:00",
          "2022-02-03T00:00:00",
          "2022-02-04T00:00:00",
          "2022-02-05T00:00:00",
          "2022-02-06T00:00:00",
          "2022-02-07T00:00:00",
          "2022-02-08T00:00:00",
          "2022-02-09T00:00:00",
          "2022-02-10T00:00:00",
          "2022-02-11T00:00:00",
          "2022-02-12T00:00:00",
          "2022-02-13T00:00:00",
          "2022-02-14T00:00:00",
          "2022-02-15T00:00:00",
          "2022-02-16T00:00:00",
          "2022-02-17T00:00:00",
          "2022-02-18T00:00:00",
          "2022-02-19T00:00:00",
          "2022-02-20T00:00:00",
          "2022-02-21T00:00:00",
          "2022-02-22T00:00:00",
          "2022-02-23T00:00:00",
          "2022-02-24T00:00:00",
          "2022-02-25T00:00:00",
          "2022-02-26T00:00:00",
          "2022-02-27T00:00:00",
          "2022-02-28T00:00:00",
          "2022-03-01T00:00:00",
          "2022-03-02T00:00:00",
          "2022-03-03T00:00:00",
          "2022-03-04T00:00:00",
          "2022-03-05T00:00:00",
          "2022-03-06T00:00:00",
          "2022-03-07T00:00:00",
          "2022-03-08T00:00:00",
          "2022-03-09T00:00:00",
          "2022-03-10T00:00:00",
          "2022-03-11T00:00:00",
          "2022-03-12T00:00:00",
          "2022-03-13T00:00:00",
          "2022-03-14T00:00:00",
          "2022-03-15T00:00:00",
          "2022-03-16T00:00:00",
          "2022-03-17T00:00:00",
          "2022-03-18T00:00:00",
          "2022-03-19T00:00:00",
          "2022-03-20T00:00:00",
          "2022-03-21T00:00:00",
          "2022-03-22T00:00:00",
          "2022-03-23T00:00:00",
          "2022-03-24T00:00:00",
          "2022-03-25T00:00:00",
          "2022-03-26T00:00:00",
          "2022-03-27T00:00:00",
          "2022-03-28T00:00:00",
          "2022-03-29T00:00:00",
          "2022-03-30T00:00:00",
          "2022-03-31T00:00:00",
          "2022-04-01T00:00:00",
          "2022-04-02T00:00:00",
          "2022-04-03T00:00:00",
          "2022-04-04T00:00:00",
          "2022-04-05T00:00:00",
          "2022-04-06T00:00:00",
          "2022-04-07T00:00:00",
          "2022-04-08T00:00:00",
          "2022-04-09T00:00:00",
          "2022-04-10T00:00:00",
          "2022-04-11T00:00:00",
          "2022-04-12T00:00:00",
          "2022-04-13T00:00:00",
          "2022-04-14T00:00:00",
          "2022-04-15T00:00:00",
          "2022-04-16T00:00:00",
          "2022-04-17T00:00:00",
          "2022-04-18T00:00:00",
          "2022-04-19T00:00:00",
          "2022-04-20T00:00:00",
          "2022-04-21T00:00:00",
          "2022-04-22T00:00:00",
          "2022-04-23T00:00:00",
          "2022-04-24T00:00:00",
          "2022-04-25T00:00:00",
          "2022-04-26T00:00:00",
          "2022-04-27T00:00:00",
          "2022-04-28T00:00:00",
          "2022-04-29T00:00:00",
          "2022-04-30T00:00:00",
          "2022-05-01T00:00:00",
          "2022-05-02T00:00:00",
          "2022-05-03T00:00:00",
          "2022-05-04T00:00:00",
          "2022-05-05T00:00:00",
          "2022-05-06T00:00:00",
          "2022-05-07T00:00:00",
          "2022-05-08T00:00:00",
          "2022-05-09T00:00:00",
          "2022-05-10T00:00:00",
          "2022-05-11T00:00:00",
          "2022-05-12T00:00:00",
          "2022-05-13T00:00:00",
          "2022-05-14T00:00:00",
          "2022-05-15T00:00:00",
          "2022-05-16T00:00:00",
          "2022-05-17T00:00:00",
          "2022-05-18T00:00:00",
          "2022-05-19T00:00:00",
          "2022-05-20T00:00:00",
          "2022-05-21T00:00:00",
          "2022-05-22T00:00:00",
          "2022-05-23T00:00:00",
          "2022-05-24T00:00:00",
          "2022-05-25T00:00:00",
          "2022-05-26T00:00:00",
          "2022-05-27T00:00:00",
          "2022-05-28T00:00:00",
          "2022-05-29T00:00:00",
          "2022-05-30T00:00:00",
          "2022-05-31T00:00:00",
          "2022-06-01T00:00:00",
          "2022-06-02T00:00:00",
          "2022-06-03T00:00:00",
          "2022-06-04T00:00:00",
          "2022-06-05T00:00:00",
          "2022-06-06T00:00:00",
          "2022-06-07T00:00:00",
          "2022-06-08T00:00:00",
          "2022-06-09T00:00:00",
          "2022-06-10T00:00:00",
          "2022-06-11T00:00:00",
          "2022-06-12T00:00:00",
          "2022-06-13T00:00:00",
          "2022-06-14T00:00:00",
          "2022-06-15T00:00:00",
          "2022-06-16T00:00:00",
          "2022-06-17T00:00:00",
          "2022-06-18T00:00:00",
          "2022-06-19T00:00:00",
          "2022-06-20T00:00:00",
          "2022-06-21T00:00:00",
          "2022-06-22T00:00:00",
          "2022-06-23T00:00:00",
          "2022-06-24T00:00:00",
          "2022-06-25T00:00:00",
          "2022-06-26T00:00:00",
          "2022-06-27T00:00:00",
          "2022-06-28T00:00:00",
          "2022-06-29T00:00:00",
          "2022-06-30T00:00:00",
          "2022-07-01T00:00:00",
          "2022-07-02T00:00:00",
          "2022-07-03T00:00:00",
          "2022-07-04T00:00:00",
          "2022-07-05T00:00:00"
         ],
         "y": [
          null,
          null,
          null,
          null,
          null,
          null,
          null,
          null,
          null,
          null,
          null,
          null,
          null,
          null,
          null,
          null,
          null,
          null,
          null,
          20530731.05,
          19929271.05,
          19413437.35,
          19814893.25,
          20081701.9,
          20470359.9,
          20525556.55,
          21222989.65,
          21630026.7,
          21883974.75,
          22070464.25,
          22301706.2,
          22570760.5,
          22717660.55,
          22760827.1,
          22878244.45,
          23002444.1,
          23122388.25,
          23305701.35,
          23658973.85,
          24171804.3,
          24976956.2,
          25714680.95,
          25593204.75,
          25258028.25,
          25124460.4,
          24918135.55,
          24828214.2,
          24656584.6,
          24621742.45,
          24538499.6,
          24433379.85,
          24376830,
          24436213.85,
          24455827.75,
          24415274.35,
          24462548.3,
          24532528.05,
          24459851.3,
          24168931,
          23764362.3,
          23550096,
          23560412.25,
          23595156.9,
          23553626.1,
          23502054.9,
          23409897.35,
          23260908.45,
          23194320.45,
          22899578.1,
          22834741.1,
          22785955.1,
          22522987.05,
          22272729.85,
          22094935.8,
          22039108.35,
          21881415.2,
          21668665.7,
          21322680.4,
          20960555.05,
          20686801.2,
          20587820.55,
          20423935.05,
          20043744.15,
          19736123.35,
          19203485,
          18848707.35,
          18436780.7,
          18054599.45,
          18048855.2,
          17860086.15,
          17542405.3,
          17378609.9,
          16984234.35,
          16436601.35,
          15988088.55,
          15304589.15,
          14696578.7,
          14177437.2,
          13543403.05,
          13089425.3,
          12478221.95,
          11809029.45,
          11502312.85,
          11487970.75,
          11673651.6,
          11591023.65,
          11299239.05,
          10899278.05,
          10495017.35,
          10225626.7,
          10065965.65,
          9871401,
          9858970.3,
          9840837.9,
          9635307.45,
          9692756.05,
          9776010.85,
          10067579,
          10208286.55,
          10112116.35,
          10098777.8,
          10344868.7,
          10578737.35,
          10596171.5,
          10390920.25,
          10374058.5,
          10550418.55,
          10854286.85,
          10881861.25,
          10826319.85,
          10670514.85,
          10455746.2,
          10228439.6,
          10216759.45,
          10196159.2,
          10179788.6,
          10049608.8,
          9832573.15,
          9907977.2,
          10050794.45,
          10127094.15,
          10040942.4,
          9781661.05,
          9482890.7,
          9321209.65,
          9253534.5,
          9142241.15,
          9034384.75,
          9054010,
          9152108.65,
          9444397.55,
          9659141.6,
          10094009.15,
          10359875.8,
          10645274.25,
          10769779.2,
          10942447.75,
          11088888.5,
          11269135.45,
          11432134.55,
          11643225.45,
          11660921.4,
          11710664.05,
          11776212.95,
          11882203.35,
          11993458.8,
          12157196.55,
          12404514.95,
          12669552.75,
          12916035.9,
          13058514.65,
          13463751.8,
          13687055.95,
          13927131.8,
          14086325.1,
          14465394.25,
          14715325.6,
          15080359.5,
          15293134.6,
          15616918.9,
          15817405.75,
          16129616.55,
          16415761.95,
          16624310.55,
          17048259.75,
          16695333.2
         ]
        },
        {
         "mode": "lines",
         "name": "50-day MA",
         "type": "scatter",
         "x": [
          "2022-01-01T00:00:00",
          "2022-01-02T00:00:00",
          "2022-01-03T00:00:00",
          "2022-01-04T00:00:00",
          "2022-01-05T00:00:00",
          "2022-01-06T00:00:00",
          "2022-01-07T00:00:00",
          "2022-01-08T00:00:00",
          "2022-01-09T00:00:00",
          "2022-01-10T00:00:00",
          "2022-01-11T00:00:00",
          "2022-01-12T00:00:00",
          "2022-01-13T00:00:00",
          "2022-01-14T00:00:00",
          "2022-01-15T00:00:00",
          "2022-01-16T00:00:00",
          "2022-01-17T00:00:00",
          "2022-01-18T00:00:00",
          "2022-01-19T00:00:00",
          "2022-01-20T00:00:00",
          "2022-01-21T00:00:00",
          "2022-01-22T00:00:00",
          "2022-01-23T00:00:00",
          "2022-01-24T00:00:00",
          "2022-01-25T00:00:00",
          "2022-01-26T00:00:00",
          "2022-01-27T00:00:00",
          "2022-01-28T00:00:00",
          "2022-01-29T00:00:00",
          "2022-01-30T00:00:00",
          "2022-01-31T00:00:00",
          "2022-02-01T00:00:00",
          "2022-02-02T00:00:00",
          "2022-02-03T00:00:00",
          "2022-02-04T00:00:00",
          "2022-02-05T00:00:00",
          "2022-02-06T00:00:00",
          "2022-02-07T00:00:00",
          "2022-02-08T00:00:00",
          "2022-02-09T00:00:00",
          "2022-02-10T00:00:00",
          "2022-02-11T00:00:00",
          "2022-02-12T00:00:00",
          "2022-02-13T00:00:00",
          "2022-02-14T00:00:00",
          "2022-02-15T00:00:00",
          "2022-02-16T00:00:00",
          "2022-02-17T00:00:00",
          "2022-02-18T00:00:00",
          "2022-02-19T00:00:00",
          "2022-02-20T00:00:00",
          "2022-02-21T00:00:00",
          "2022-02-22T00:00:00",
          "2022-02-23T00:00:00",
          "2022-02-24T00:00:00",
          "2022-02-25T00:00:00",
          "2022-02-26T00:00:00",
          "2022-02-27T00:00:00",
          "2022-02-28T00:00:00",
          "2022-03-01T00:00:00",
          "2022-03-02T00:00:00",
          "2022-03-03T00:00:00",
          "2022-03-04T00:00:00",
          "2022-03-05T00:00:00",
          "2022-03-06T00:00:00",
          "2022-03-07T00:00:00",
          "2022-03-08T00:00:00",
          "2022-03-09T00:00:00",
          "2022-03-10T00:00:00",
          "2022-03-11T00:00:00",
          "2022-03-12T00:00:00",
          "2022-03-13T00:00:00",
          "2022-03-14T00:00:00",
          "2022-03-15T00:00:00",
          "2022-03-16T00:00:00",
          "2022-03-17T00:00:00",
          "2022-03-18T00:00:00",
          "2022-03-19T00:00:00",
          "2022-03-20T00:00:00",
          "2022-03-21T00:00:00",
          "2022-03-22T00:00:00",
          "2022-03-23T00:00:00",
          "2022-03-24T00:00:00",
          "2022-03-25T00:00:00",
          "2022-03-26T00:00:00",
          "2022-03-27T00:00:00",
          "2022-03-28T00:00:00",
          "2022-03-29T00:00:00",
          "2022-03-30T00:00:00",
          "2022-03-31T00:00:00",
          "2022-04-01T00:00:00",
          "2022-04-02T00:00:00",
          "2022-04-03T00:00:00",
          "2022-04-04T00:00:00",
          "2022-04-05T00:00:00",
          "2022-04-06T00:00:00",
          "2022-04-07T00:00:00",
          "2022-04-08T00:00:00",
          "2022-04-09T00:00:00",
          "2022-04-10T00:00:00",
          "2022-04-11T00:00:00",
          "2022-04-12T00:00:00",
          "2022-04-13T00:00:00",
          "2022-04-14T00:00:00",
          "2022-04-15T00:00:00",
          "2022-04-16T00:00:00",
          "2022-04-17T00:00:00",
          "2022-04-18T00:00:00",
          "2022-04-19T00:00:00",
          "2022-04-20T00:00:00",
          "2022-04-21T00:00:00",
          "2022-04-22T00:00:00",
          "2022-04-23T00:00:00",
          "2022-04-24T00:00:00",
          "2022-04-25T00:00:00",
          "2022-04-26T00:00:00",
          "2022-04-27T00:00:00",
          "2022-04-28T00:00:00",
          "2022-04-29T00:00:00",
          "2022-04-30T00:00:00",
          "2022-05-01T00:00:00",
          "2022-05-02T00:00:00",
          "2022-05-03T00:00:00",
          "2022-05-04T00:00:00",
          "2022-05-05T00:00:00",
          "2022-05-06T00:00:00",
          "2022-05-07T00:00:00",
          "2022-05-08T00:00:00",
          "2022-05-09T00:00:00",
          "2022-05-10T00:00:00",
          "2022-05-11T00:00:00",
          "2022-05-12T00:00:00",
          "2022-05-13T00:00:00",
          "2022-05-14T00:00:00",
          "2022-05-15T00:00:00",
          "2022-05-16T00:00:00",
          "2022-05-17T00:00:00",
          "2022-05-18T00:00:00",
          "2022-05-19T00:00:00",
          "2022-05-20T00:00:00",
          "2022-05-21T00:00:00",
          "2022-05-22T00:00:00",
          "2022-05-23T00:00:00",
          "2022-05-24T00:00:00",
          "2022-05-25T00:00:00",
          "2022-05-26T00:00:00",
          "2022-05-27T00:00:00",
          "2022-05-28T00:00:00",
          "2022-05-29T00:00:00",
          "2022-05-30T00:00:00",
          "2022-05-31T00:00:00",
          "2022-06-01T00:00:00",
          "2022-06-02T00:00:00",
          "2022-06-03T00:00:00",
          "2022-06-04T00:00:00",
          "2022-06-05T00:00:00",
          "2022-06-06T00:00:00",
          "2022-06-07T00:00:00",
          "2022-06-08T00:00:00",
          "2022-06-09T00:00:00",
          "2022-06-10T00:00:00",
          "2022-06-11T00:00:00",
          "2022-06-12T00:00:00",
          "2022-06-13T00:00:00",
          "2022-06-14T00:00:00",
          "2022-06-15T00:00:00",
          "2022-06-16T00:00:00",
          "2022-06-17T00:00:00",
          "2022-06-18T00:00:00",
          "2022-06-19T00:00:00",
          "2022-06-20T00:00:00",
          "2022-06-21T00:00:00",
          "2022-06-22T00:00:00",
          "2022-06-23T00:00:00",
          "2022-06-24T00:00:00",
          "2022-06-25T00:00:00",
          "2022-06-26T00:00:00",
          "2022-06-27T00:00:00",
          "2022-06-28T00:00:00",
          "2022-06-29T00:00:00",
          "2022-06-30T00:00:00",
          "2022-07-01T00:00:00",
          "2022-07-02T00:00:00",
          "2022-07-03T00:00:00",
          "2022-07-04T00:00:00",
          "2022-07-05T00:00:00"
         ],
         "y": [
          null,
          null,
          null,
          null,
          null,
          null,
          null,
          null,
          null,
          null,
          null,
          null,
          null,
          null,
          null,
          null,
          null,
          null,
          null,
          null,
          null,
          null,
          null,
          null,
          null,
          null,
          null,
          null,
          null,
          null,
          null,
          null,
          null,
          null,
          null,
          null,
          null,
          null,
          null,
          null,
          null,
          null,
          null,
          null,
          null,
          null,
          null,
          null,
          null,
          22640146.02,
          22618748.4,
          22681865.94,
          22815689.88,
          22833760.52,
          22910615.46,
          22890943.48,
          23099836.08,
          23213232.6,
          23319955.28,
          23390198.58,
          23457815.32,
          23572582.48,
          23647161.84,
          23610243.92,
          23645542.14,
          23636489.26,
          23686975.36,
          23685361.16,
          23573324.78,
          23561750.04,
          23761422.02,
          23925685.82,
          23798824.52,
          23639054.08,
          23538114.84,
          23433286.94,
          23278106.5,
          23090294.08,
          22950587.4,
          22836733.36,
          22772261.06,
          22713852.3,
          22577595.28,
          22400362.42,
          22175638.36,
          21974994.56,
          21812732.34,
          21584920.4,
          21329277.32,
          21037062.78,
          20787601.66,
          20591257.4,
          20355236.36,
          20110483.32,
          19883566.1,
          19587868.38,
          19225452.3,
          18898635.12,
          18519251.64,
          18257103.64,
          17990197.9,
          17686732.08,
          17404034.88,
          17213219.62,
          17078989.26,
          16826384.7,
          16519416.74,
          16160691.1,
          15859711.86,
          15621568.54,
          15393949.52,
          15115652.9,
          14860761.72,
          14625368.04,
          14336867.12,
          14101011.86,
          13831493.26,
          13647938.54,
          13442735.02,
          13168053.74,
          12915326.98,
          12815484.74,
          12726437.88,
          12613713.9,
          12419714.02,
          12223442.02,
          12072117.88,
          11973333.68,
          11828234.34,
          11677376,
          11427027.24,
          11128377.36,
          10934639.9,
          10817622.48,
          10733936.8,
          10633444.36,
          10476624.5,
          10359128.02,
          10186383.82,
          10044337.06,
          9949202.52,
          9880417.74,
          9845408.56,
          9832229.64,
          9752962.46,
          9803020.16,
          9850382.86,
          9916112.7,
          10032477.12,
          10102449.34,
          10213497.48,
          10268422.22,
          10371318.42,
          10366384.5,
          10322585.86,
          10304946.58,
          10333907.98,
          10434972.2,
          10496031.06,
          10526940.2,
          10580106.44,
          10596225.9,
          10586086.06,
          10606379.66,
          10651720.82,
          10723301.26,
          10802857.14,
          10850887.08,
          11016983.6,
          11224017.16,
          11397392.22,
          11515975.46,
          11614645.86,
          11698768.62,
          11800747.8,
          11941480.88,
          11999870.8,
          12125401.26,
          12260540.4,
          12443179.82,
          12638862.8,
          12865774.04,
          13061015,
          13169400.1,
          13392561.04,
          13329519.1
         ]
        }
       ],
       "layout": {
        "autosize": true,
        "barmode": "relative",
        "legend": {
         "tracegroupgap": 0
        },
        "template": {
         "data": {
          "bar": [
           {
            "error_x": {
             "color": "#2a3f5f"
            },
            "error_y": {
             "color": "#2a3f5f"
            },
            "marker": {
             "line": {
              "color": "#E5ECF6",
              "width": 0.5
             },
             "pattern": {
              "fillmode": "overlay",
              "size": 10,
              "solidity": 0.2
             }
            },
            "type": "bar"
           }
          ],
          "barpolar": [
           {
            "marker": {
             "line": {
              "color": "#E5ECF6",
              "width": 0.5
             },
             "pattern": {
              "fillmode": "overlay",
              "size": 10,
              "solidity": 0.2
             }
            },
            "type": "barpolar"
           }
          ],
          "carpet": [
           {
            "aaxis": {
             "endlinecolor": "#2a3f5f",
             "gridcolor": "white",
             "linecolor": "white",
             "minorgridcolor": "white",
             "startlinecolor": "#2a3f5f"
            },
            "baxis": {
             "endlinecolor": "#2a3f5f",
             "gridcolor": "white",
             "linecolor": "white",
             "minorgridcolor": "white",
             "startlinecolor": "#2a3f5f"
            },
            "type": "carpet"
           }
          ],
          "choropleth": [
           {
            "colorbar": {
             "outlinewidth": 0,
             "ticks": ""
            },
            "type": "choropleth"
           }
          ],
          "contour": [
           {
            "colorbar": {
             "outlinewidth": 0,
             "ticks": ""
            },
            "colorscale": [
             [
              0,
              "#0d0887"
             ],
             [
              0.1111111111111111,
              "#46039f"
             ],
             [
              0.2222222222222222,
              "#7201a8"
             ],
             [
              0.3333333333333333,
              "#9c179e"
             ],
             [
              0.4444444444444444,
              "#bd3786"
             ],
             [
              0.5555555555555556,
              "#d8576b"
             ],
             [
              0.6666666666666666,
              "#ed7953"
             ],
             [
              0.7777777777777778,
              "#fb9f3a"
             ],
             [
              0.8888888888888888,
              "#fdca26"
             ],
             [
              1,
              "#f0f921"
             ]
            ],
            "type": "contour"
           }
          ],
          "contourcarpet": [
           {
            "colorbar": {
             "outlinewidth": 0,
             "ticks": ""
            },
            "type": "contourcarpet"
           }
          ],
          "heatmap": [
           {
            "colorbar": {
             "outlinewidth": 0,
             "ticks": ""
            },
            "colorscale": [
             [
              0,
              "#0d0887"
             ],
             [
              0.1111111111111111,
              "#46039f"
             ],
             [
              0.2222222222222222,
              "#7201a8"
             ],
             [
              0.3333333333333333,
              "#9c179e"
             ],
             [
              0.4444444444444444,
              "#bd3786"
             ],
             [
              0.5555555555555556,
              "#d8576b"
             ],
             [
              0.6666666666666666,
              "#ed7953"
             ],
             [
              0.7777777777777778,
              "#fb9f3a"
             ],
             [
              0.8888888888888888,
              "#fdca26"
             ],
             [
              1,
              "#f0f921"
             ]
            ],
            "type": "heatmap"
           }
          ],
          "heatmapgl": [
           {
            "colorbar": {
             "outlinewidth": 0,
             "ticks": ""
            },
            "colorscale": [
             [
              0,
              "#0d0887"
             ],
             [
              0.1111111111111111,
              "#46039f"
             ],
             [
              0.2222222222222222,
              "#7201a8"
             ],
             [
              0.3333333333333333,
              "#9c179e"
             ],
             [
              0.4444444444444444,
              "#bd3786"
             ],
             [
              0.5555555555555556,
              "#d8576b"
             ],
             [
              0.6666666666666666,
              "#ed7953"
             ],
             [
              0.7777777777777778,
              "#fb9f3a"
             ],
             [
              0.8888888888888888,
              "#fdca26"
             ],
             [
              1,
              "#f0f921"
             ]
            ],
            "type": "heatmapgl"
           }
          ],
          "histogram": [
           {
            "marker": {
             "pattern": {
              "fillmode": "overlay",
              "size": 10,
              "solidity": 0.2
             }
            },
            "type": "histogram"
           }
          ],
          "histogram2d": [
           {
            "colorbar": {
             "outlinewidth": 0,
             "ticks": ""
            },
            "colorscale": [
             [
              0,
              "#0d0887"
             ],
             [
              0.1111111111111111,
              "#46039f"
             ],
             [
              0.2222222222222222,
              "#7201a8"
             ],
             [
              0.3333333333333333,
              "#9c179e"
             ],
             [
              0.4444444444444444,
              "#bd3786"
             ],
             [
              0.5555555555555556,
              "#d8576b"
             ],
             [
              0.6666666666666666,
              "#ed7953"
             ],
             [
              0.7777777777777778,
              "#fb9f3a"
             ],
             [
              0.8888888888888888,
              "#fdca26"
             ],
             [
              1,
              "#f0f921"
             ]
            ],
            "type": "histogram2d"
           }
          ],
          "histogram2dcontour": [
           {
            "colorbar": {
             "outlinewidth": 0,
             "ticks": ""
            },
            "colorscale": [
             [
              0,
              "#0d0887"
             ],
             [
              0.1111111111111111,
              "#46039f"
             ],
             [
              0.2222222222222222,
              "#7201a8"
             ],
             [
              0.3333333333333333,
              "#9c179e"
             ],
             [
              0.4444444444444444,
              "#bd3786"
             ],
             [
              0.5555555555555556,
              "#d8576b"
             ],
             [
              0.6666666666666666,
              "#ed7953"
             ],
             [
              0.7777777777777778,
              "#fb9f3a"
             ],
             [
              0.8888888888888888,
              "#fdca26"
             ],
             [
              1,
              "#f0f921"
             ]
            ],
            "type": "histogram2dcontour"
           }
          ],
          "mesh3d": [
           {
            "colorbar": {
             "outlinewidth": 0,
             "ticks": ""
            },
            "type": "mesh3d"
           }
          ],
          "parcoords": [
           {
            "line": {
             "colorbar": {
              "outlinewidth": 0,
              "ticks": ""
             }
            },
            "type": "parcoords"
           }
          ],
          "pie": [
           {
            "automargin": true,
            "type": "pie"
           }
          ],
          "scatter": [
           {
            "fillpattern": {
             "fillmode": "overlay",
             "size": 10,
             "solidity": 0.2
            },
            "type": "scatter"
           }
          ],
          "scatter3d": [
           {
            "line": {
             "colorbar": {
              "outlinewidth": 0,
              "ticks": ""
             }
            },
            "marker": {
             "colorbar": {
              "outlinewidth": 0,
              "ticks": ""
             }
            },
            "type": "scatter3d"
           }
          ],
          "scattercarpet": [
           {
            "marker": {
             "colorbar": {
              "outlinewidth": 0,
              "ticks": ""
             }
            },
            "type": "scattercarpet"
           }
          ],
          "scattergeo": [
           {
            "marker": {
             "colorbar": {
              "outlinewidth": 0,
              "ticks": ""
             }
            },
            "type": "scattergeo"
           }
          ],
          "scattergl": [
           {
            "marker": {
             "colorbar": {
              "outlinewidth": 0,
              "ticks": ""
             }
            },
            "type": "scattergl"
           }
          ],
          "scattermapbox": [
           {
            "marker": {
             "colorbar": {
              "outlinewidth": 0,
              "ticks": ""
             }
            },
            "type": "scattermapbox"
           }
          ],
          "scatterpolar": [
           {
            "marker": {
             "colorbar": {
              "outlinewidth": 0,
              "ticks": ""
             }
            },
            "type": "scatterpolar"
           }
          ],
          "scatterpolargl": [
           {
            "marker": {
             "colorbar": {
              "outlinewidth": 0,
              "ticks": ""
             }
            },
            "type": "scatterpolargl"
           }
          ],
          "scatterternary": [
           {
            "marker": {
             "colorbar": {
              "outlinewidth": 0,
              "ticks": ""
             }
            },
            "type": "scatterternary"
           }
          ],
          "surface": [
           {
            "colorbar": {
             "outlinewidth": 0,
             "ticks": ""
            },
            "colorscale": [
             [
              0,
              "#0d0887"
             ],
             [
              0.1111111111111111,
              "#46039f"
             ],
             [
              0.2222222222222222,
              "#7201a8"
             ],
             [
              0.3333333333333333,
              "#9c179e"
             ],
             [
              0.4444444444444444,
              "#bd3786"
             ],
             [
              0.5555555555555556,
              "#d8576b"
             ],
             [
              0.6666666666666666,
              "#ed7953"
             ],
             [
              0.7777777777777778,
              "#fb9f3a"
             ],
             [
              0.8888888888888888,
              "#fdca26"
             ],
             [
              1,
              "#f0f921"
             ]
            ],
            "type": "surface"
           }
          ],
          "table": [
           {
            "cells": {
             "fill": {
              "color": "#EBF0F8"
             },
             "line": {
              "color": "white"
             }
            },
            "header": {
             "fill": {
              "color": "#C8D4E3"
             },
             "line": {
              "color": "white"
             }
            },
            "type": "table"
           }
          ]
         },
         "layout": {
          "annotationdefaults": {
           "arrowcolor": "#2a3f5f",
           "arrowhead": 0,
           "arrowwidth": 1
          },
          "autotypenumbers": "strict",
          "coloraxis": {
           "colorbar": {
            "outlinewidth": 0,
            "ticks": ""
           }
          },
          "colorscale": {
           "diverging": [
            [
             0,
             "#8e0152"
            ],
            [
             0.1,
             "#c51b7d"
            ],
            [
             0.2,
             "#de77ae"
            ],
            [
             0.3,
             "#f1b6da"
            ],
            [
             0.4,
             "#fde0ef"
            ],
            [
             0.5,
             "#f7f7f7"
            ],
            [
             0.6,
             "#e6f5d0"
            ],
            [
             0.7,
             "#b8e186"
            ],
            [
             0.8,
             "#7fbc41"
            ],
            [
             0.9,
             "#4d9221"
            ],
            [
             1,
             "#276419"
            ]
           ],
           "sequential": [
            [
             0,
             "#0d0887"
            ],
            [
             0.1111111111111111,
             "#46039f"
            ],
            [
             0.2222222222222222,
             "#7201a8"
            ],
            [
             0.3333333333333333,
             "#9c179e"
            ],
            [
             0.4444444444444444,
             "#bd3786"
            ],
            [
             0.5555555555555556,
             "#d8576b"
            ],
            [
             0.6666666666666666,
             "#ed7953"
            ],
            [
             0.7777777777777778,
             "#fb9f3a"
            ],
            [
             0.8888888888888888,
             "#fdca26"
            ],
            [
             1,
             "#f0f921"
            ]
           ],
           "sequentialminus": [
            [
             0,
             "#0d0887"
            ],
            [
             0.1111111111111111,
             "#46039f"
            ],
            [
             0.2222222222222222,
             "#7201a8"
            ],
            [
             0.3333333333333333,
             "#9c179e"
            ],
            [
             0.4444444444444444,
             "#bd3786"
            ],
            [
             0.5555555555555556,
             "#d8576b"
            ],
            [
             0.6666666666666666,
             "#ed7953"
            ],
            [
             0.7777777777777778,
             "#fb9f3a"
            ],
            [
             0.8888888888888888,
             "#fdca26"
            ],
            [
             1,
             "#f0f921"
            ]
           ]
          },
          "colorway": [
           "#636efa",
           "#EF553B",
           "#00cc96",
           "#ab63fa",
           "#FFA15A",
           "#19d3f3",
           "#FF6692",
           "#B6E880",
           "#FF97FF",
           "#FECB52"
          ],
          "font": {
           "color": "#2a3f5f"
          },
          "geo": {
           "bgcolor": "white",
           "lakecolor": "white",
           "landcolor": "#E5ECF6",
           "showlakes": true,
           "showland": true,
           "subunitcolor": "white"
          },
          "hoverlabel": {
           "align": "left"
          },
          "hovermode": "closest",
          "mapbox": {
           "style": "light"
          },
          "paper_bgcolor": "white",
          "plot_bgcolor": "#E5ECF6",
          "polar": {
           "angularaxis": {
            "gridcolor": "white",
            "linecolor": "white",
            "ticks": ""
           },
           "bgcolor": "#E5ECF6",
           "radialaxis": {
            "gridcolor": "white",
            "linecolor": "white",
            "ticks": ""
           }
          },
          "scene": {
           "xaxis": {
            "backgroundcolor": "#E5ECF6",
            "gridcolor": "white",
            "gridwidth": 2,
            "linecolor": "white",
            "showbackground": true,
            "ticks": "",
            "zerolinecolor": "white"
           },
           "yaxis": {
            "backgroundcolor": "#E5ECF6",
            "gridcolor": "white",
            "gridwidth": 2,
            "linecolor": "white",
            "showbackground": true,
            "ticks": "",
            "zerolinecolor": "white"
           },
           "zaxis": {
            "backgroundcolor": "#E5ECF6",
            "gridcolor": "white",
            "gridwidth": 2,
            "linecolor": "white",
            "showbackground": true,
            "ticks": "",
            "zerolinecolor": "white"
           }
          },
          "shapedefaults": {
           "line": {
            "color": "#2a3f5f"
           }
          },
          "ternary": {
           "aaxis": {
            "gridcolor": "white",
            "linecolor": "white",
            "ticks": ""
           },
           "baxis": {
            "gridcolor": "white",
            "linecolor": "white",
            "ticks": ""
           },
           "bgcolor": "#E5ECF6",
           "caxis": {
            "gridcolor": "white",
            "linecolor": "white",
            "ticks": ""
           }
          },
          "title": {
           "x": 0.05
          },
          "xaxis": {
           "automargin": true,
           "gridcolor": "white",
           "linecolor": "white",
           "ticks": "",
           "title": {
            "standoff": 15
           },
           "zerolinecolor": "white",
           "zerolinewidth": 2
          },
          "yaxis": {
           "automargin": true,
           "gridcolor": "white",
           "linecolor": "white",
           "ticks": "",
           "title": {
            "standoff": 15
           },
           "zerolinecolor": "white",
           "zerolinewidth": 2
          }
         }
        },
        "title": {
         "text": "Total Transaction Counts"
        },
        "xaxis": {
         "anchor": "y",
         "autorange": true,
         "domain": [
          0,
          1
         ],
         "range": [
          "2021-12-31 12:00",
          "2022-07-05 12:00"
         ],
         "title": {
          "text": "DATE"
         },
         "type": "date"
        },
        "yaxis": {
         "anchor": "x",
         "autorange": true,
         "domain": [
          0,
          1
         ],
         "range": [
          0,
          31959537.89473684
         ],
         "title": {
          "text": "COUNTS"
         },
         "type": "linear"
        }
       }
      },
      "image/png": "[encoded data removed]",
      "text/html": [
       "<div>                            <div id=\"a30a34d1-457e-49fc-98fd-81a025d11ea4\" class=\"plotly-graph-div\" style=\"height:525px; width:100%;\"></div>            <script type=\"text/javascript\">                require([\"plotly\"], function(Plotly) {                    window.PLOTLYENV=window.PLOTLYENV || {};                                    if (document.getElementById(\"a30a34d1-457e-49fc-98fd-81a025d11ea4\")) {                    Plotly.newPlot(                        \"a30a34d1-457e-49fc-98fd-81a025d11ea4\",                        [{\"alignmentgroup\":\"True\",\"hovertemplate\":\"DATE=%{x}<br>COUNTS=%{y}<extra></extra>\",\"legendgroup\":\"\",\"marker\":{\"color\":\"#636efa\",\"pattern\":{\"shape\":\"\"}},\"name\":\"\",\"offsetgroup\":\"\",\"orientation\":\"v\",\"showlegend\":false,\"textposition\":\"auto\",\"x\":[\"2022-01-01T00:00:00\",\"2022-01-02T00:00:00\",\"2022-01-03T00:00:00\",\"2022-01-04T00:00:00\",\"2022-01-05T00:00:00\",\"2022-01-06T00:00:00\",\"2022-01-07T00:00:00\",\"2022-01-08T00:00:00\",\"2022-01-09T00:00:00\",\"2022-01-10T00:00:00\",\"2022-01-11T00:00:00\",\"2022-01-12T00:00:00\",\"2022-01-13T00:00:00\",\"2022-01-14T00:00:00\",\"2022-01-15T00:00:00\",\"2022-01-16T00:00:00\",\"2022-01-17T00:00:00\",\"2022-01-18T00:00:00\",\"2022-01-19T00:00:00\",\"2022-01-20T00:00:00\",\"2022-01-21T00:00:00\",\"2022-01-22T00:00:00\",\"2022-01-23T00:00:00\",\"2022-01-24T00:00:00\",\"2022-01-25T00:00:00\",\"2022-01-26T00:00:00\",\"2022-01-27T00:00:00\",\"2022-01-28T00:00:00\",\"2022-01-29T00:00:00\",\"2022-01-30T00:00:00\",\"2022-01-31T00:00:00\",\"2022-02-01T00:00:00\",\"2022-02-02T00:00:00\",\"2022-02-03T00:00:00\",\"2022-02-04T00:00:00\",\"2022-02-05T00:00:00\",\"2022-02-06T00:00:00\",\"2022-02-07T00:00:00\",\"2022-02-08T00:00:00\",\"2022-02-09T00:00:00\",\"2022-02-10T00:00:00\",\"2022-02-11T00:00:00\",\"2022-02-12T00:00:00\",\"2022-02-13T00:00:00\",\"2022-02-14T00:00:00\",\"2022-02-15T00:00:00\",\"2022-02-16T00:00:00\",\"2022-02-17T00:00:00\",\"2022-02-18T00:00:00\",\"2022-02-19T00:00:00\",\"2022-02-20T00:00:00\",\"2022-02-21T00:00:00\",\"2022-02-22T00:00:00\",\"2022-02-23T00:00:00\",\"2022-02-24T00:00:00\",\"2022-02-25T00:00:00\",\"2022-02-26T00:00:00\",\"2022-02-27T00:00:00\",\"2022-02-28T00:00:00\",\"2022-03-01T00:00:00\",\"2022-03-02T00:00:00\",\"2022-03-03T00:00:00\",\"2022-03-04T00:00:00\",\"2022-03-05T00:00:00\",\"2022-03-06T00:00:00\",\"2022-03-07T00:00:00\",\"2022-03-08T00:00:00\",\"2022-03-09T00:00:00\",\"2022-03-10T00:00:00\",\"2022-03-11T00:00:00\",\"2022-03-12T00:00:00\",\"2022-03-13T00:00:00\",\"2022-03-14T00:00:00\",\"2022-03-15T00:00:00\",\"2022-03-16T00:00:00\",\"2022-03-17T00:00:00\",\"2022-03-18T00:00:00\",\"2022-03-19T00:00:00\",\"2022-03-20T00:00:00\",\"2022-03-21T00:00:00\",\"2022-03-22T00:00:00\",\"2022-03-23T00:00:00\",\"2022-03-24T00:00:00\",\"2022-03-25T00:00:00\",\"2022-03-26T00:00:00\",\"2022-03-27T00:00:00\",\"2022-03-28T00:00:00\",\"2022-03-29T00:00:00\",\"2022-03-30T00:00:00\",\"2022-03-31T00:00:00\",\"2022-04-01T00:00:00\",\"2022-04-02T00:00:00\",\"2022-04-03T00:00:00\",\"2022-04-04T00:00:00\",\"2022-04-05T00:00:00\",\"2022-04-06T00:00:00\",\"2022-04-07T00:00:00\",\"2022-04-08T00:00:00\",\"2022-04-09T00:00:00\",\"2022-04-10T00:00:00\",\"2022-04-11T00:00:00\",\"2022-04-12T00:00:00\",\"2022-04-13T00:00:00\",\"2022-04-14T00:00:00\",\"2022-04-15T00:00:00\",\"2022-04-16T00:00:00\",\"2022-04-17T00:00:00\",\"2022-04-18T00:00:00\",\"2022-04-19T00:00:00\",\"2022-04-20T00:00:00\",\"2022-04-21T00:00:00\",\"2022-04-22T00:00:00\",\"2022-04-23T00:00:00\",\"2022-04-24T00:00:00\",\"2022-04-25T00:00:00\",\"2022-04-26T00:00:00\",\"2022-04-27T00:00:00\",\"2022-04-28T00:00:00\",\"2022-04-29T00:00:00\",\"2022-04-30T00:00:00\",\"2022-05-01T00:00:00\",\"2022-05-02T00:00:00\",\"2022-05-03T00:00:00\",\"2022-05-04T00:00:00\",\"2022-05-05T00:00:00\",\"2022-05-06T00:00:00\",\"2022-05-07T00:00:00\",\"2022-05-08T00:00:00\",\"2022-05-09T00:00:00\",\"2022-05-10T00:00:00\",\"2022-05-11T00:00:00\",\"2022-05-12T00:00:00\",\"2022-05-13T00:00:00\",\"2022-05-14T00:00:00\",\"2022-05-15T00:00:00\",\"2022-05-16T00:00:00\",\"2022-05-17T00:00:00\",\"2022-05-18T00:00:00\",\"2022-05-19T00:00:00\",\"2022-05-20T00:00:00\",\"2022-05-21T00:00:00\",\"2022-05-22T00:00:00\",\"2022-05-23T00:00:00\",\"2022-05-24T00:00:00\",\"2022-05-25T00:00:00\",\"2022-05-26T00:00:00\",\"2022-05-27T00:00:00\",\"2022-05-28T00:00:00\",\"2022-05-29T00:00:00\",\"2022-05-30T00:00:00\",\"2022-05-31T00:00:00\",\"2022-06-01T00:00:00\",\"2022-06-02T00:00:00\",\"2022-06-03T00:00:00\",\"2022-06-04T00:00:00\",\"2022-06-05T00:00:00\",\"2022-06-06T00:00:00\",\"2022-06-07T00:00:00\",\"2022-06-08T00:00:00\",\"2022-06-09T00:00:00\",\"2022-06-10T00:00:00\",\"2022-06-11T00:00:00\",\"2022-06-12T00:00:00\",\"2022-06-13T00:00:00\",\"2022-06-14T00:00:00\",\"2022-06-15T00:00:00\",\"2022-06-16T00:00:00\",\"2022-06-17T00:00:00\",\"2022-06-18T00:00:00\",\"2022-06-19T00:00:00\",\"2022-06-20T00:00:00\",\"2022-06-21T00:00:00\",\"2022-06-22T00:00:00\",\"2022-06-23T00:00:00\",\"2022-06-24T00:00:00\",\"2022-06-25T00:00:00\",\"2022-06-26T00:00:00\",\"2022-06-27T00:00:00\",\"2022-06-28T00:00:00\",\"2022-06-29T00:00:00\",\"2022-06-30T00:00:00\",\"2022-07-01T00:00:00\",\"2022-07-02T00:00:00\",\"2022-07-03T00:00:00\",\"2022-07-04T00:00:00\",\"2022-07-05T00:00:00\"],\"xaxis\":\"x\",\"y\":[22800147,20251865,17871639,23351108,19278988,25596983,13997251,18826879,19207021,18646143,19207822,19157653,20437158,22999031,21584456,21183912,20643403,22283978,23296111,19993073,10770947,9935191,25900757,28687281,27052148,26700916,27945913,26967620,24285982,22375933,23832661,24538739,23375159,23862362,23932803,23667905,23042286,25950240,30361561,30249682,26873985,24689686,23471233,21983751,24380791,22574419,26147486,23535028,23589139,20711076,21730266,23407742,24562836,24254640,23121735,24613384,24441881,24496705,24543155,22158308,22588659,24896011,24166126,21153135,23349367,20731268,23167708,22203268,17694292,19414336,20754546,18148381,19557692,20698759,22005186,21459521,20186891,17576999,17300648,16683231,20609046,21618301,16562308,15000719,12696600,13635715,14929175,14559643,17579407,15638955,14400929,14872473,11670181,9746099,13034930,7789533,8026682,7194169,4619965,7603676,8384979,8234451,10427976,14713877,16410217,11983156,9093483,6560423,9494193,10251142,11207708,10981180,11421567,9383451,8924321,8938505,9691778,13025532,7434116,5680272,8118208,13156269,15105349,15062560,12305192,11645921,12620684,12637789,10045681,9140314,8091608,6685807,6875435,9149848,8512316,8611093,7088182,8684819,8942197,8536617,9644202,11433234,9919722,9087153,9071571,10292418,10394817,10480661,10438186,11102287,13937386,10980688,15572786,14467181,14220285,11101192,10541553,11613634,12547136,11796599,13866020,11787153,10914575,10398131,11191379,12517527,13669572,15427029,15738942,16031950,16786961,19085431,20038869,19268698,17404151,18682575,15540180,18914312,16802638,18272285,17875757,18031369,16637483,14569103,19670363,5458996],\"yaxis\":\"y\",\"type\":\"bar\"},{\"mode\":\"lines\",\"name\":\"10-day MA\",\"x\":[\"2022-01-01T00:00:00\",\"2022-01-02T00:00:00\",\"2022-01-03T00:00:00\",\"2022-01-04T00:00:00\",\"2022-01-05T00:00:00\",\"2022-01-06T00:00:00\",\"2022-01-07T00:00:00\",\"2022-01-08T00:00:00\",\"2022-01-09T00:00:00\",\"2022-01-10T00:00:00\",\"2022-01-11T00:00:00\",\"2022-01-12T00:00:00\",\"2022-01-13T00:00:00\",\"2022-01-14T00:00:00\",\"2022-01-15T00:00:00\",\"2022-01-16T00:00:00\",\"2022-01-17T00:00:00\",\"2022-01-18T00:00:00\",\"2022-01-19T00:00:00\",\"2022-01-20T00:00:00\",\"2022-01-21T00:00:00\",\"2022-01-22T00:00:00\",\"2022-01-23T00:00:00\",\"2022-01-24T00:00:00\",\"2022-01-25T00:00:00\",\"2022-01-26T00:00:00\",\"2022-01-27T00:00:00\",\"2022-01-28T00:00:00\",\"2022-01-29T00:00:00\",\"2022-01-30T00:00:00\",\"2022-01-31T00:00:00\",\"2022-02-01T00:00:00\",\"2022-02-02T00:00:00\",\"2022-02-03T00:00:00\",\"2022-02-04T00:00:00\",\"2022-02-05T00:00:00\",\"2022-02-06T00:00:00\",\"2022-02-07T00:00:00\",\"2022-02-08T00:00:00\",\"2022-02-09T00:00:00\",\"2022-02-10T00:00:00\",\"2022-02-11T00:00:00\",\"2022-02-12T00:00:00\",\"2022-02-13T00:00:00\",\"2022-02-14T00:00:00\",\"2022-02-15T00:00:00\",\"2022-02-16T00:00:00\",\"2022-02-17T00:00:00\",\"2022-02-18T00:00:00\",\"2022-02-19T00:00:00\",\"2022-02-20T00:00:00\",\"2022-02-21T00:00:00\",\"2022-02-22T00:00:00\",\"2022-02-23T00:00:00\",\"2022-02-24T00:00:00\",\"2022-02-25T00:00:00\",\"2022-02-26T00:00:00\",\"2022-02-27T00:00:00\",\"2022-02-28T00:00:00\",\"2022-03-01T00:00:00\",\"2022-03-02T00:00:00\",\"2022-03-03T00:00:00\",\"2022-03-04T00:00:00\",\"2022-03-05T00:00:00\",\"2022-03-06T00:00:00\",\"2022-03-07T00:00:00\",\"2022-03-08T00:00:00\",\"2022-03-09T00:00:00\",\"2022-03-10T00:00:00\",\"2022-03-11T00:00:00\",\"2022-03-12T00:00:00\",\"2022-03-13T00:00:00\",\"2022-03-14T00:00:00\",\"2022-03-15T00:00:00\",\"2022-03-16T00:00:00\",\"2022-03-17T00:00:00\",\"2022-03-18T00:00:00\",\"2022-03-19T00:00:00\",\"2022-03-20T00:00:00\",\"2022-03-21T00:00:00\",\"2022-03-22T00:00:00\",\"2022-03-23T00:00:00\",\"2022-03-24T00:00:00\",\"2022-03-25T00:00:00\",\"2022-03-26T00:00:00\",\"2022-03-27T00:00:00\",\"2022-03-28T00:00:00\",\"2022-03-29T00:00:00\",\"2022-03-30T00:00:00\",\"2022-03-31T00:00:00\",\"2022-04-01T00:00:00\",\"2022-04-02T00:00:00\",\"2022-04-03T00:00:00\",\"2022-04-04T00:00:00\",\"2022-04-05T00:00:00\",\"2022-04-06T00:00:00\",\"2022-04-07T00:00:00\",\"2022-04-08T00:00:00\",\"2022-04-09T00:00:00\",\"2022-04-10T00:00:00\",\"2022-04-11T00:00:00\",\"2022-04-12T00:00:00\",\"2022-04-13T00:00:00\",\"2022-04-14T00:00:00\",\"2022-04-15T00:00:00\",\"2022-04-16T00:00:00\",\"2022-04-17T00:00:00\",\"2022-04-18T00:00:00\",\"2022-04-19T00:00:00\",\"2022-04-20T00:00:00\",\"2022-04-21T00:00:00\",\"2022-04-22T00:00:00\",\"2022-04-23T00:00:00\",\"2022-04-24T00:00:00\",\"2022-04-25T00:00:00\",\"2022-04-26T00:00:00\",\"2022-04-27T00:00:00\",\"2022-04-28T00:00:00\",\"2022-04-29T00:00:00\",\"2022-04-30T00:00:00\",\"2022-05-01T00:00:00\",\"2022-05-02T00:00:00\",\"2022-05-03T00:00:00\",\"2022-05-04T00:00:00\",\"2022-05-05T00:00:00\",\"2022-05-06T00:00:00\",\"2022-05-07T00:00:00\",\"2022-05-08T00:00:00\",\"2022-05-09T00:00:00\",\"2022-05-10T00:00:00\",\"2022-05-11T00:00:00\",\"2022-05-12T00:00:00\",\"2022-05-13T00:00:00\",\"2022-05-14T00:00:00\",\"2022-05-15T00:00:00\",\"2022-05-16T00:00:00\",\"2022-05-17T00:00:00\",\"2022-05-18T00:00:00\",\"2022-05-19T00:00:00\",\"2022-05-20T00:00:00\",\"2022-05-21T00:00:00\",\"2022-05-22T00:00:00\",\"2022-05-23T00:00:00\",\"2022-05-24T00:00:00\",\"2022-05-25T00:00:00\",\"2022-05-26T00:00:00\",\"2022-05-27T00:00:00\",\"2022-05-28T00:00:00\",\"2022-05-29T00:00:00\",\"2022-05-30T00:00:00\",\"2022-05-31T00:00:00\",\"2022-06-01T00:00:00\",\"2022-06-02T00:00:00\",\"2022-06-03T00:00:00\",\"2022-06-04T00:00:00\",\"2022-06-05T00:00:00\",\"2022-06-06T00:00:00\",\"2022-06-07T00:00:00\",\"2022-06-08T00:00:00\",\"2022-06-09T00:00:00\",\"2022-06-10T00:00:00\",\"2022-06-11T00:00:00\",\"2022-06-12T00:00:00\",\"2022-06-13T00:00:00\",\"2022-06-14T00:00:00\",\"2022-06-15T00:00:00\",\"2022-06-16T00:00:00\",\"2022-06-17T00:00:00\",\"2022-06-18T00:00:00\",\"2022-06-19T00:00:00\",\"2022-06-20T00:00:00\",\"2022-06-21T00:00:00\",\"2022-06-22T00:00:00\",\"2022-06-23T00:00:00\",\"2022-06-24T00:00:00\",\"2022-06-25T00:00:00\",\"2022-06-26T00:00:00\",\"2022-06-27T00:00:00\",\"2022-06-28T00:00:00\",\"2022-06-29T00:00:00\",\"2022-06-30T00:00:00\",\"2022-07-01T00:00:00\",\"2022-07-02T00:00:00\",\"2022-07-03T00:00:00\",\"2022-07-04T00:00:00\",\"2022-07-05T00:00:00\"],\"y\":[null,null,null,null,null,null,null,null,null,19982802.4,19623569.9,19514148.7,19770700.6,19735492.9,19966039.7,19524732.6,20189347.8,20535057.7,20943966.7,21078659.7,20234972.2,19312726.0,19859085.9,20427910.9,20974680.1,21526380.5,22256631.5,22724995.7,22823982.8,23062268.8,24368440.2,25828795.0,25576235.2,25093743.3,24781808.8,24478507.7,23988145.0,23886407.0,24493964.9,25281339.8,25585472.2,25600566.9,25610174.3,25422313.2,25467112.0,25357763.4,25668283.4,25426762.2,24749520.0,23795659.4,23281287.5,23153093.1,23262253.4,23489342.3,23363436.7,23567333.2,23396772.7,23492940.4,23588342.0,23733065.2,23818904.5,23967731.4,23928060.4,23617909.9,23640673.1,23252461.5,23125044.2,22895700.5,22210814.2,21936417.0,21753005.7,21078242.7,20617399.3,20571961.7,20437543.6,20510368.9,20212287.2,19749660.3,19710295.9,19437185.4,19422635.4,19769627.4,19470089.0,18900285.0,17969426.4,17187045.8,16661274.2,16359538.6,16387414.5,16282986.9,15662175.2,14987592.4,14498379.7,13972917.7,14006750.7,13422132.5,12731883.2,11995335.8,10699391.6,9895863.7,9294268.7,8630466.5,8506246.0,9003023.8,9340552.5,9759914.8,9866594.9,9803220.3,10290643.1,10555389.7,10837662.6,11112335.5,11211694.6,10678652.0,9930062.4,9625597.3,9685426.8,10331937.7,10125930.0,9668843.0,9359893.0,9577401.9,9945780.1,10513691.0,10851778.1,11122519.7,11415410.3,11376636.0,11637792.5,11983796.7,11981136.7,11334090.5,10511099.1,9919827.9,9540540.3,9237057.5,8683807.3,8288510.3,8178161.9,8117792.2,8273051.6,8747794.3,9052223.0,9045953.5,9101879.0,9270011.5,9600675.0,9780259.2,9929858.1,10186425.1,10615743.5,10570488.9,11135795.3,11673798.1,12188669.5,12269546.9,12284220.5,12397517.8,12608412.8,12677844.0,12670707.4,12751353.9,12285532.8,11878627.8,11575737.2,11717370.7,12030172.6,12411512.1,12730692.7,13154227.8,13446321.9,14176149.7,15088579.1,15975635.8,16596913.0,17213417.8,17400478.6,17749206.9,17855576.5,18079610.0,18188489.6,18083083.4,17742944.8,17272985.3,17499606.5,16177248.6],\"type\":\"scatter\"},{\"mode\":\"lines\",\"name\":\"20-day MA\",\"x\":[\"2022-01-01T00:00:00\",\"2022-01-02T00:00:00\",\"2022-01-03T00:00:00\",\"2022-01-04T00:00:00\",\"2022-01-05T00:00:00\",\"2022-01-06T00:00:00\",\"2022-01-07T00:00:00\",\"2022-01-08T00:00:00\",\"2022-01-09T00:00:00\",\"2022-01-10T00:00:00\",\"2022-01-11T00:00:00\",\"2022-01-12T00:00:00\",\"2022-01-13T00:00:00\",\"2022-01-14T00:00:00\",\"2022-01-15T00:00:00\",\"2022-01-16T00:00:00\",\"2022-01-17T00:00:00\",\"2022-01-18T00:00:00\",\"2022-01-19T00:00:00\",\"2022-01-20T00:00:00\",\"2022-01-21T00:00:00\",\"2022-01-22T00:00:00\",\"2022-01-23T00:00:00\",\"2022-01-24T00:00:00\",\"2022-01-25T00:00:00\",\"2022-01-26T00:00:00\",\"2022-01-27T00:00:00\",\"2022-01-28T00:00:00\",\"2022-01-29T00:00:00\",\"2022-01-30T00:00:00\",\"2022-01-31T00:00:00\",\"2022-02-01T00:00:00\",\"2022-02-02T00:00:00\",\"2022-02-03T00:00:00\",\"2022-02-04T00:00:00\",\"2022-02-05T00:00:00\",\"2022-02-06T00:00:00\",\"2022-02-07T00:00:00\",\"2022-02-08T00:00:00\",\"2022-02-09T00:00:00\",\"2022-02-10T00:00:00\",\"2022-02-11T00:00:00\",\"2022-02-12T00:00:00\",\"2022-02-13T00:00:00\",\"2022-02-14T00:00:00\",\"2022-02-15T00:00:00\",\"2022-02-16T00:00:00\",\"2022-02-17T00:00:00\",\"2022-02-18T00:00:00\",\"2022-02-19T00:00:00\",\"2022-02-20T00:00:00\",\"2022-02-21T00:00:00\",\"2022-02-22T00:00:00\",\"2022-02-23T00:00:00\",\"2022-02-24T00:00:00\",\"2022-02-25T00:00:00\",\"2022-02-26T00:00:00\",\"2022-02-27T00:00:00\",\"2022-02-28T00:00:00\",\"2022-03-01T00:00:00\",\"2022-03-02T00:00:00\",\"2022-03-03T00:00:00\",\"2022-03-04T00:00:00\",\"2022-03-05T00:00:00\",\"2022-03-06T00:00:00\",\"2022-03-07T00:00:00\",\"2022-03-08T00:00:00\",\"2022-03-09T00:00:00\",\"2022-03-10T00:00:00\",\"2022-03-11T00:00:00\",\"2022-03-12T00:00:00\",\"2022-03-13T00:00:00\",\"2022-03-14T00:00:00\",\"2022-03-15T00:00:00\",\"2022-03-16T00:00:00\",\"2022-03-17T00:00:00\",\"2022-03-18T00:00:00\",\"2022-03-19T00:00:00\",\"2022-03-20T00:00:00\",\"2022-03-21T00:00:00\",\"2022-03-22T00:00:00\",\"2022-03-23T00:00:00\",\"2022-03-24T00:00:00\",\"2022-03-25T00:00:00\",\"2022-03-26T00:00:00\",\"2022-03-27T00:00:00\",\"2022-03-28T00:00:00\",\"2022-03-29T00:00:00\",\"2022-03-30T00:00:00\",\"2022-03-31T00:00:00\",\"2022-04-01T00:00:00\",\"2022-04-02T00:00:00\",\"2022-04-03T00:00:00\",\"2022-04-04T00:00:00\",\"2022-04-05T00:00:00\",\"2022-04-06T00:00:00\",\"2022-04-07T00:00:00\",\"2022-04-08T00:00:00\",\"2022-04-09T00:00:00\",\"2022-04-10T00:00:00\",\"2022-04-11T00:00:00\",\"2022-04-12T00:00:00\",\"2022-04-13T00:00:00\",\"2022-04-14T00:00:00\",\"2022-04-15T00:00:00\",\"2022-04-16T00:00:00\",\"2022-04-17T00:00:00\",\"2022-04-18T00:00:00\",\"2022-04-19T00:00:00\",\"2022-04-20T00:00:00\",\"2022-04-21T00:00:00\",\"2022-04-22T00:00:00\",\"2022-04-23T00:00:00\",\"2022-04-24T00:00:00\",\"2022-04-25T00:00:00\",\"2022-04-26T00:00:00\",\"2022-04-27T00:00:00\",\"2022-04-28T00:00:00\",\"2022-04-29T00:00:00\",\"2022-04-30T00:00:00\",\"2022-05-01T00:00:00\",\"2022-05-02T00:00:00\",\"2022-05-03T00:00:00\",\"2022-05-04T00:00:00\",\"2022-05-05T00:00:00\",\"2022-05-06T00:00:00\",\"2022-05-07T00:00:00\",\"2022-05-08T00:00:00\",\"2022-05-09T00:00:00\",\"2022-05-10T00:00:00\",\"2022-05-11T00:00:00\",\"2022-05-12T00:00:00\",\"2022-05-13T00:00:00\",\"2022-05-14T00:00:00\",\"2022-05-15T00:00:00\",\"2022-05-16T00:00:00\",\"2022-05-17T00:00:00\",\"2022-05-18T00:00:00\",\"2022-05-19T00:00:00\",\"2022-05-20T00:00:00\",\"2022-05-21T00:00:00\",\"2022-05-22T00:00:00\",\"2022-05-23T00:00:00\",\"2022-05-24T00:00:00\",\"2022-05-25T00:00:00\",\"2022-05-26T00:00:00\",\"2022-05-27T00:00:00\",\"2022-05-28T00:00:00\",\"2022-05-29T00:00:00\",\"2022-05-30T00:00:00\",\"2022-05-31T00:00:00\",\"2022-06-01T00:00:00\",\"2022-06-02T00:00:00\",\"2022-06-03T00:00:00\",\"2022-06-04T00:00:00\",\"2022-06-05T00:00:00\",\"2022-06-06T00:00:00\",\"2022-06-07T00:00:00\",\"2022-06-08T00:00:00\",\"2022-06-09T00:00:00\",\"2022-06-10T00:00:00\",\"2022-06-11T00:00:00\",\"2022-06-12T00:00:00\",\"2022-06-13T00:00:00\",\"2022-06-14T00:00:00\",\"2022-06-15T00:00:00\",\"2022-06-16T00:00:00\",\"2022-06-17T00:00:00\",\"2022-06-18T00:00:00\",\"2022-06-19T00:00:00\",\"2022-06-20T00:00:00\",\"2022-06-21T00:00:00\",\"2022-06-22T00:00:00\",\"2022-06-23T00:00:00\",\"2022-06-24T00:00:00\",\"2022-06-25T00:00:00\",\"2022-06-26T00:00:00\",\"2022-06-27T00:00:00\",\"2022-06-28T00:00:00\",\"2022-06-29T00:00:00\",\"2022-06-30T00:00:00\",\"2022-07-01T00:00:00\",\"2022-07-02T00:00:00\",\"2022-07-03T00:00:00\",\"2022-07-04T00:00:00\",\"2022-07-05T00:00:00\"],\"y\":[null,null,null,null,null,null,null,null,null,null,null,null,null,null,null,null,null,null,null,20530731.05,19929271.05,19413437.35,19814893.25,20081701.9,20470359.9,20525556.55,21222989.65,21630026.7,21883974.75,22070464.25,22301706.2,22570760.5,22717660.55,22760827.1,22878244.45,23002444.1,23122388.25,23305701.35,23658973.85,24171804.3,24976956.2,25714680.95,25593204.75,25258028.25,25124460.4,24918135.55,24828214.2,24656584.6,24621742.45,24538499.6,24433379.85,24376830.0,24436213.85,24455827.75,24415274.35,24462548.3,24532528.05,24459851.3,24168931.0,23764362.3,23550096.0,23560412.25,23595156.9,23553626.1,23502054.9,23409897.35,23260908.45,23194320.45,22899578.1,22834741.1,22785955.1,22522987.05,22272729.85,22094935.8,22039108.35,21881415.2,21668665.7,21322680.4,20960555.05,20686801.2,20587820.55,20423935.05,20043744.15,19736123.35,19203485.0,18848707.35,18436780.7,18054599.45,18048855.2,17860086.15,17542405.3,17378609.9,16984234.35,16436601.35,15988088.55,15304589.15,14696578.7,14177437.2,13543403.05,13089425.3,12478221.95,11809029.45,11502312.85,11487970.75,11673651.6,11591023.65,11299239.05,10899278.05,10495017.35,10225626.7,10065965.65,9871401.0,9858970.3,9840837.9,9635307.45,9692756.05,9776010.85,10067579.0,10208286.55,10112116.35,10098777.8,10344868.7,10578737.35,10596171.5,10390920.25,10374058.5,10550418.55,10854286.85,10881861.25,10826319.85,10670514.85,10455746.2,10228439.6,10216759.45,10196159.2,10179788.6,10049608.8,9832573.15,9907977.2,10050794.45,10127094.15,10040942.4,9781661.05,9482890.7,9321209.65,9253534.5,9142241.15,9034384.75,9054010.0,9152108.65,9444397.55,9659141.6,10094009.15,10359875.8,10645274.25,10769779.2,10942447.75,11088888.5,11269135.45,11432134.55,11643225.45,11660921.4,11710664.05,11776212.95,11882203.35,11993458.8,12157196.55,12404514.95,12669552.75,12916035.9,13058514.65,13463751.8,13687055.95,13927131.8,14086325.1,14465394.25,14715325.6,15080359.5,15293134.6,15616918.9,15817405.75,16129616.55,16415761.95,16624310.55,17048259.75,16695333.2],\"type\":\"scatter\"},{\"mode\":\"lines\",\"name\":\"50-day MA\",\"x\":[\"2022-01-01T00:00:00\",\"2022-01-02T00:00:00\",\"2022-01-03T00:00:00\",\"2022-01-04T00:00:00\",\"2022-01-05T00:00:00\",\"2022-01-06T00:00:00\",\"2022-01-07T00:00:00\",\"2022-01-08T00:00:00\",\"2022-01-09T00:00:00\",\"2022-01-10T00:00:00\",\"2022-01-11T00:00:00\",\"2022-01-12T00:00:00\",\"2022-01-13T00:00:00\",\"2022-01-14T00:00:00\",\"2022-01-15T00:00:00\",\"2022-01-16T00:00:00\",\"2022-01-17T00:00:00\",\"2022-01-18T00:00:00\",\"2022-01-19T00:00:00\",\"2022-01-20T00:00:00\",\"2022-01-21T00:00:00\",\"2022-01-22T00:00:00\",\"2022-01-23T00:00:00\",\"2022-01-24T00:00:00\",\"2022-01-25T00:00:00\",\"2022-01-26T00:00:00\",\"2022-01-27T00:00:00\",\"2022-01-28T00:00:00\",\"2022-01-29T00:00:00\",\"2022-01-30T00:00:00\",\"2022-01-31T00:00:00\",\"2022-02-01T00:00:00\",\"2022-02-02T00:00:00\",\"2022-02-03T00:00:00\",\"2022-02-04T00:00:00\",\"2022-02-05T00:00:00\",\"2022-02-06T00:00:00\",\"2022-02-07T00:00:00\",\"2022-02-08T00:00:00\",\"2022-02-09T00:00:00\",\"2022-02-10T00:00:00\",\"2022-02-11T00:00:00\",\"2022-02-12T00:00:00\",\"2022-02-13T00:00:00\",\"2022-02-14T00:00:00\",\"2022-02-15T00:00:00\",\"2022-02-16T00:00:00\",\"2022-02-17T00:00:00\",\"2022-02-18T00:00:00\",\"2022-02-19T00:00:00\",\"2022-02-20T00:00:00\",\"2022-02-21T00:00:00\",\"2022-02-22T00:00:00\",\"2022-02-23T00:00:00\",\"2022-02-24T00:00:00\",\"2022-02-25T00:00:00\",\"2022-02-26T00:00:00\",\"2022-02-27T00:00:00\",\"2022-02-28T00:00:00\",\"2022-03-01T00:00:00\",\"2022-03-02T00:00:00\",\"2022-03-03T00:00:00\",\"2022-03-04T00:00:00\",\"2022-03-05T00:00:00\",\"2022-03-06T00:00:00\",\"2022-03-07T00:00:00\",\"2022-03-08T00:00:00\",\"2022-03-09T00:00:00\",\"2022-03-10T00:00:00\",\"2022-03-11T00:00:00\",\"2022-03-12T00:00:00\",\"2022-03-13T00:00:00\",\"2022-03-14T00:00:00\",\"2022-03-15T00:00:00\",\"2022-03-16T00:00:00\",\"2022-03-17T00:00:00\",\"2022-03-18T00:00:00\",\"2022-03-19T00:00:00\",\"2022-03-20T00:00:00\",\"2022-03-21T00:00:00\",\"2022-03-22T00:00:00\",\"2022-03-23T00:00:00\",\"2022-03-24T00:00:00\",\"2022-03-25T00:00:00\",\"2022-03-26T00:00:00\",\"2022-03-27T00:00:00\",\"2022-03-28T00:00:00\",\"2022-03-29T00:00:00\",\"2022-03-30T00:00:00\",\"2022-03-31T00:00:00\",\"2022-04-01T00:00:00\",\"2022-04-02T00:00:00\",\"2022-04-03T00:00:00\",\"2022-04-04T00:00:00\",\"2022-04-05T00:00:00\",\"2022-04-06T00:00:00\",\"2022-04-07T00:00:00\",\"2022-04-08T00:00:00\",\"2022-04-09T00:00:00\",\"2022-04-10T00:00:00\",\"2022-04-11T00:00:00\",\"2022-04-12T00:00:00\",\"2022-04-13T00:00:00\",\"2022-04-14T00:00:00\",\"2022-04-15T00:00:00\",\"2022-04-16T00:00:00\",\"2022-04-17T00:00:00\",\"2022-04-18T00:00:00\",\"2022-04-19T00:00:00\",\"2022-04-20T00:00:00\",\"2022-04-21T00:00:00\",\"2022-04-22T00:00:00\",\"2022-04-23T00:00:00\",\"2022-04-24T00:00:00\",\"2022-04-25T00:00:00\",\"2022-04-26T00:00:00\",\"2022-04-27T00:00:00\",\"2022-04-28T00:00:00\",\"2022-04-29T00:00:00\",\"2022-04-30T00:00:00\",\"2022-05-01T00:00:00\",\"2022-05-02T00:00:00\",\"2022-05-03T00:00:00\",\"2022-05-04T00:00:00\",\"2022-05-05T00:00:00\",\"2022-05-06T00:00:00\",\"2022-05-07T00:00:00\",\"2022-05-08T00:00:00\",\"2022-05-09T00:00:00\",\"2022-05-10T00:00:00\",\"2022-05-11T00:00:00\",\"2022-05-12T00:00:00\",\"2022-05-13T00:00:00\",\"2022-05-14T00:00:00\",\"2022-05-15T00:00:00\",\"2022-05-16T00:00:00\",\"2022-05-17T00:00:00\",\"2022-05-18T00:00:00\",\"2022-05-19T00:00:00\",\"2022-05-20T00:00:00\",\"2022-05-21T00:00:00\",\"2022-05-22T00:00:00\",\"2022-05-23T00:00:00\",\"2022-05-24T00:00:00\",\"2022-05-25T00:00:00\",\"2022-05-26T00:00:00\",\"2022-05-27T00:00:00\",\"2022-05-28T00:00:00\",\"2022-05-29T00:00:00\",\"2022-05-30T00:00:00\",\"2022-05-31T00:00:00\",\"2022-06-01T00:00:00\",\"2022-06-02T00:00:00\",\"2022-06-03T00:00:00\",\"2022-06-04T00:00:00\",\"2022-06-05T00:00:00\",\"2022-06-06T00:00:00\",\"2022-06-07T00:00:00\",\"2022-06-08T00:00:00\",\"2022-06-09T00:00:00\",\"2022-06-10T00:00:00\",\"2022-06-11T00:00:00\",\"2022-06-12T00:00:00\",\"2022-06-13T00:00:00\",\"2022-06-14T00:00:00\",\"2022-06-15T00:00:00\",\"2022-06-16T00:00:00\",\"2022-06-17T00:00:00\",\"2022-06-18T00:00:00\",\"2022-06-19T00:00:00\",\"2022-06-20T00:00:00\",\"2022-06-21T00:00:00\",\"2022-06-22T00:00:00\",\"2022-06-23T00:00:00\",\"2022-06-24T00:00:00\",\"2022-06-25T00:00:00\",\"2022-06-26T00:00:00\",\"2022-06-27T00:00:00\",\"2022-06-28T00:00:00\",\"2022-06-29T00:00:00\",\"2022-06-30T00:00:00\",\"2022-07-01T00:00:00\",\"2022-07-02T00:00:00\",\"2022-07-03T00:00:00\",\"2022-07-04T00:00:00\",\"2022-07-05T00:00:00\"],\"y\":[null,null,null,null,null,null,null,null,null,null,null,null,null,null,null,null,null,null,null,null,null,null,null,null,null,null,null,null,null,null,null,null,null,null,null,null,null,null,null,null,null,null,null,null,null,null,null,null,null,22640146.02,22618748.4,22681865.94,22815689.88,22833760.52,22910615.46,22890943.48,23099836.08,23213232.6,23319955.28,23390198.58,23457815.32,23572582.48,23647161.84,23610243.92,23645542.14,23636489.26,23686975.36,23685361.16,23573324.78,23561750.04,23761422.02,23925685.82,23798824.52,23639054.08,23538114.84,23433286.94,23278106.5,23090294.08,22950587.4,22836733.36,22772261.06,22713852.3,22577595.28,22400362.42,22175638.36,21974994.56,21812732.34,21584920.4,21329277.32,21037062.78,20787601.66,20591257.4,20355236.36,20110483.32,19883566.1,19587868.38,19225452.3,18898635.12,18519251.64,18257103.64,17990197.9,17686732.08,17404034.88,17213219.62,17078989.26,16826384.7,16519416.74,16160691.1,15859711.86,15621568.54,15393949.52,15115652.9,14860761.72,14625368.04,14336867.12,14101011.86,13831493.26,13647938.54,13442735.02,13168053.74,12915326.98,12815484.74,12726437.88,12613713.9,12419714.02,12223442.02,12072117.88,11973333.68,11828234.34,11677376.0,11427027.24,11128377.36,10934639.9,10817622.48,10733936.8,10633444.36,10476624.5,10359128.02,10186383.82,10044337.06,9949202.52,9880417.74,9845408.56,9832229.64,9752962.46,9803020.16,9850382.86,9916112.7,10032477.12,10102449.34,10213497.48,10268422.22,10371318.42,10366384.5,10322585.86,10304946.58,10333907.98,10434972.2,10496031.06,10526940.2,10580106.44,10596225.9,10586086.06,10606379.66,10651720.82,10723301.26,10802857.14,10850887.08,11016983.6,11224017.16,11397392.22,11515975.46,11614645.86,11698768.62,11800747.8,11941480.88,11999870.8,12125401.26,12260540.4,12443179.82,12638862.8,12865774.04,13061015.0,13169400.1,13392561.04,13329519.1],\"type\":\"scatter\"}],                        {\"template\":{\"data\":{\"histogram2dcontour\":[{\"type\":\"histogram2dcontour\",\"colorbar\":{\"outlinewidth\":0,\"ticks\":\"\"},\"colorscale\":[[0.0,\"#0d0887\"],[0.1111111111111111,\"#46039f\"],[0.2222222222222222,\"#7201a8\"],[0.3333333333333333,\"#9c179e\"],[0.4444444444444444,\"#bd3786\"],[0.5555555555555556,\"#d8576b\"],[0.6666666666666666,\"#ed7953\"],[0.7777777777777778,\"#fb9f3a\"],[0.8888888888888888,\"#fdca26\"],[1.0,\"#f0f921\"]]}],\"choropleth\":[{\"type\":\"choropleth\",\"colorbar\":{\"outlinewidth\":0,\"ticks\":\"\"}}],\"histogram2d\":[{\"type\":\"histogram2d\",\"colorbar\":{\"outlinewidth\":0,\"ticks\":\"\"},\"colorscale\":[[0.0,\"#0d0887\"],[0.1111111111111111,\"#46039f\"],[0.2222222222222222,\"#7201a8\"],[0.3333333333333333,\"#9c179e\"],[0.4444444444444444,\"#bd3786\"],[0.5555555555555556,\"#d8576b\"],[0.6666666666666666,\"#ed7953\"],[0.7777777777777778,\"#fb9f3a\"],[0.8888888888888888,\"#fdca26\"],[1.0,\"#f0f921\"]]}],\"heatmap\":[{\"type\":\"heatmap\",\"colorbar\":{\"outlinewidth\":0,\"ticks\":\"\"},\"colorscale\":[[0.0,\"#0d0887\"],[0.1111111111111111,\"#46039f\"],[0.2222222222222222,\"#7201a8\"],[0.3333333333333333,\"#9c179e\"],[0.4444444444444444,\"#bd3786\"],[0.5555555555555556,\"#d8576b\"],[0.6666666666666666,\"#ed7953\"],[0.7777777777777778,\"#fb9f3a\"],[0.8888888888888888,\"#fdca26\"],[1.0,\"#f0f921\"]]}],\"heatmapgl\":[{\"type\":\"heatmapgl\",\"colorbar\":{\"outlinewidth\":0,\"ticks\":\"\"},\"colorscale\":[[0.0,\"#0d0887\"],[0.1111111111111111,\"#46039f\"],[0.2222222222222222,\"#7201a8\"],[0.3333333333333333,\"#9c179e\"],[0.4444444444444444,\"#bd3786\"],[0.5555555555555556,\"#d8576b\"],[0.6666666666666666,\"#ed7953\"],[0.7777777777777778,\"#fb9f3a\"],[0.8888888888888888,\"#fdca26\"],[1.0,\"#f0f921\"]]}],\"contourcarpet\":[{\"type\":\"contourcarpet\",\"colorbar\":{\"outlinewidth\":0,\"ticks\":\"\"}}],\"contour\":[{\"type\":\"contour\",\"colorbar\":{\"outlinewidth\":0,\"ticks\":\"\"},\"colorscale\":[[0.0,\"#0d0887\"],[0.1111111111111111,\"#46039f\"],[0.2222222222222222,\"#7201a8\"],[0.3333333333333333,\"#9c179e\"],[0.4444444444444444,\"#bd3786\"],[0.5555555555555556,\"#d8576b\"],[0.6666666666666666,\"#ed7953\"],[0.7777777777777778,\"#fb9f3a\"],[0.8888888888888888,\"#fdca26\"],[1.0,\"#f0f921\"]]}],\"surface\":[{\"type\":\"surface\",\"colorbar\":{\"outlinewidth\":0,\"ticks\":\"\"},\"colorscale\":[[0.0,\"#0d0887\"],[0.1111111111111111,\"#46039f\"],[0.2222222222222222,\"#7201a8\"],[0.3333333333333333,\"#9c179e\"],[0.4444444444444444,\"#bd3786\"],[0.5555555555555556,\"#d8576b\"],[0.6666666666666666,\"#ed7953\"],[0.7777777777777778,\"#fb9f3a\"],[0.8888888888888888,\"#fdca26\"],[1.0,\"#f0f921\"]]}],\"mesh3d\":[{\"type\":\"mesh3d\",\"colorbar\":{\"outlinewidth\":0,\"ticks\":\"\"}}],\"scatter\":[{\"fillpattern\":{\"fillmode\":\"overlay\",\"size\":10,\"solidity\":0.2},\"type\":\"scatter\"}],\"parcoords\":[{\"type\":\"parcoords\",\"line\":{\"colorbar\":{\"outlinewidth\":0,\"ticks\":\"\"}}}],\"scatterpolargl\":[{\"type\":\"scatterpolargl\",\"marker\":{\"colorbar\":{\"outlinewidth\":0,\"ticks\":\"\"}}}],\"bar\":[{\"error_x\":{\"color\":\"#2a3f5f\"},\"error_y\":{\"color\":\"#2a3f5f\"},\"marker\":{\"line\":{\"color\":\"#E5ECF6\",\"width\":0.5},\"pattern\":{\"fillmode\":\"overlay\",\"size\":10,\"solidity\":0.2}},\"type\":\"bar\"}],\"scattergeo\":[{\"type\":\"scattergeo\",\"marker\":{\"colorbar\":{\"outlinewidth\":0,\"ticks\":\"\"}}}],\"scatterpolar\":[{\"type\":\"scatterpolar\",\"marker\":{\"colorbar\":{\"outlinewidth\":0,\"ticks\":\"\"}}}],\"histogram\":[{\"marker\":{\"pattern\":{\"fillmode\":\"overlay\",\"size\":10,\"solidity\":0.2}},\"type\":\"histogram\"}],\"scattergl\":[{\"type\":\"scattergl\",\"marker\":{\"colorbar\":{\"outlinewidth\":0,\"ticks\":\"\"}}}],\"scatter3d\":[{\"type\":\"scatter3d\",\"line\":{\"colorbar\":{\"outlinewidth\":0,\"ticks\":\"\"}},\"marker\":{\"colorbar\":{\"outlinewidth\":0,\"ticks\":\"\"}}}],\"scattermapbox\":[{\"type\":\"scattermapbox\",\"marker\":{\"colorbar\":{\"outlinewidth\":0,\"ticks\":\"\"}}}],\"scatterternary\":[{\"type\":\"scatterternary\",\"marker\":{\"colorbar\":{\"outlinewidth\":0,\"ticks\":\"\"}}}],\"scattercarpet\":[{\"type\":\"scattercarpet\",\"marker\":{\"colorbar\":{\"outlinewidth\":0,\"ticks\":\"\"}}}],\"carpet\":[{\"aaxis\":{\"endlinecolor\":\"#2a3f5f\",\"gridcolor\":\"white\",\"linecolor\":\"white\",\"minorgridcolor\":\"white\",\"startlinecolor\":\"#2a3f5f\"},\"baxis\":{\"endlinecolor\":\"#2a3f5f\",\"gridcolor\":\"white\",\"linecolor\":\"white\",\"minorgridcolor\":\"white\",\"startlinecolor\":\"#2a3f5f\"},\"type\":\"carpet\"}],\"table\":[{\"cells\":{\"fill\":{\"color\":\"#EBF0F8\"},\"line\":{\"color\":\"white\"}},\"header\":{\"fill\":{\"color\":\"#C8D4E3\"},\"line\":{\"color\":\"white\"}},\"type\":\"table\"}],\"barpolar\":[{\"marker\":{\"line\":{\"color\":\"#E5ECF6\",\"width\":0.5},\"pattern\":{\"fillmode\":\"overlay\",\"size\":10,\"solidity\":0.2}},\"type\":\"barpolar\"}],\"pie\":[{\"automargin\":true,\"type\":\"pie\"}]},\"layout\":{\"autotypenumbers\":\"strict\",\"colorway\":[\"#636efa\",\"#EF553B\",\"#00cc96\",\"#ab63fa\",\"#FFA15A\",\"#19d3f3\",\"#FF6692\",\"#B6E880\",\"#FF97FF\",\"#FECB52\"],\"font\":{\"color\":\"#2a3f5f\"},\"hovermode\":\"closest\",\"hoverlabel\":{\"align\":\"left\"},\"paper_bgcolor\":\"white\",\"plot_bgcolor\":\"#E5ECF6\",\"polar\":{\"bgcolor\":\"#E5ECF6\",\"angularaxis\":{\"gridcolor\":\"white\",\"linecolor\":\"white\",\"ticks\":\"\"},\"radialaxis\":{\"gridcolor\":\"white\",\"linecolor\":\"white\",\"ticks\":\"\"}},\"ternary\":{\"bgcolor\":\"#E5ECF6\",\"aaxis\":{\"gridcolor\":\"white\",\"linecolor\":\"white\",\"ticks\":\"\"},\"baxis\":{\"gridcolor\":\"white\",\"linecolor\":\"white\",\"ticks\":\"\"},\"caxis\":{\"gridcolor\":\"white\",\"linecolor\":\"white\",\"ticks\":\"\"}},\"coloraxis\":{\"colorbar\":{\"outlinewidth\":0,\"ticks\":\"\"}},\"colorscale\":{\"sequential\":[[0.0,\"#0d0887\"],[0.1111111111111111,\"#46039f\"],[0.2222222222222222,\"#7201a8\"],[0.3333333333333333,\"#9c179e\"],[0.4444444444444444,\"#bd3786\"],[0.5555555555555556,\"#d8576b\"],[0.6666666666666666,\"#ed7953\"],[0.7777777777777778,\"#fb9f3a\"],[0.8888888888888888,\"#fdca26\"],[1.0,\"#f0f921\"]],\"sequentialminus\":[[0.0,\"#0d0887\"],[0.1111111111111111,\"#46039f\"],[0.2222222222222222,\"#7201a8\"],[0.3333333333333333,\"#9c179e\"],[0.4444444444444444,\"#bd3786\"],[0.5555555555555556,\"#d8576b\"],[0.6666666666666666,\"#ed7953\"],[0.7777777777777778,\"#fb9f3a\"],[0.8888888888888888,\"#fdca26\"],[1.0,\"#f0f921\"]],\"diverging\":[[0,\"#8e0152\"],[0.1,\"#c51b7d\"],[0.2,\"#de77ae\"],[0.3,\"#f1b6da\"],[0.4,\"#fde0ef\"],[0.5,\"#f7f7f7\"],[0.6,\"#e6f5d0\"],[0.7,\"#b8e186\"],[0.8,\"#7fbc41\"],[0.9,\"#4d9221\"],[1,\"#276419\"]]},\"xaxis\":{\"gridcolor\":\"white\",\"linecolor\":\"white\",\"ticks\":\"\",\"title\":{\"standoff\":15},\"zerolinecolor\":\"white\",\"automargin\":true,\"zerolinewidth\":2},\"yaxis\":{\"gridcolor\":\"white\",\"linecolor\":\"white\",\"ticks\":\"\",\"title\":{\"standoff\":15},\"zerolinecolor\":\"white\",\"automargin\":true,\"zerolinewidth\":2},\"scene\":{\"xaxis\":{\"backgroundcolor\":\"#E5ECF6\",\"gridcolor\":\"white\",\"linecolor\":\"white\",\"showbackground\":true,\"ticks\":\"\",\"zerolinecolor\":\"white\",\"gridwidth\":2},\"yaxis\":{\"backgroundcolor\":\"#E5ECF6\",\"gridcolor\":\"white\",\"linecolor\":\"white\",\"showbackground\":true,\"ticks\":\"\",\"zerolinecolor\":\"white\",\"gridwidth\":2},\"zaxis\":{\"backgroundcolor\":\"#E5ECF6\",\"gridcolor\":\"white\",\"linecolor\":\"white\",\"showbackground\":true,\"ticks\":\"\",\"zerolinecolor\":\"white\",\"gridwidth\":2}},\"shapedefaults\":{\"line\":{\"color\":\"#2a3f5f\"}},\"annotationdefaults\":{\"arrowcolor\":\"#2a3f5f\",\"arrowhead\":0,\"arrowwidth\":1},\"geo\":{\"bgcolor\":\"white\",\"landcolor\":\"#E5ECF6\",\"subunitcolor\":\"white\",\"showland\":true,\"showlakes\":true,\"lakecolor\":\"white\"},\"title\":{\"x\":0.05},\"mapbox\":{\"style\":\"light\"}}},\"xaxis\":{\"anchor\":\"y\",\"domain\":[0.0,1.0],\"title\":{\"text\":\"DATE\"}},\"yaxis\":{\"anchor\":\"x\",\"domain\":[0.0,1.0],\"title\":{\"text\":\"COUNTS\"}},\"legend\":{\"tracegroupgap\":0},\"title\":{\"text\":\"Total Transaction Counts\"},\"barmode\":\"relative\"},                        {\"responsive\": true}                    ).then(function(){\n",
       "                            \n",
       "var gd = document.getElementById('a30a34d1-457e-49fc-98fd-81a025d11ea4');\n",
       "var x = new MutationObserver(function (mutations, observer) {{\n",
       "        var display = window.getComputedStyle(gd).display;\n",
       "        if (!display || display === 'none') {{\n",
       "            console.log([gd, 'removed!']);\n",
       "            Plotly.purge(gd);\n",
       "            observer.disconnect();\n",
       "        }}\n",
       "}});\n",
       "\n",
       "// Listen for the removal of the full notebook cells\n",
       "var notebookContainer = gd.closest('#notebook-container');\n",
       "if (notebookContainer) {{\n",
       "    x.observe(notebookContainer, {childList: true});\n",
       "}}\n",
       "\n",
       "// Listen for the clearing of the current output cell\n",
       "var outputEl = gd.closest('.output');\n",
       "if (outputEl) {{\n",
       "    x.observe(outputEl, {childList: true});\n",
       "}}\n",
       "\n",
       "                        })                };                });            </script>        </div>"
      ]
     },
     "metadata": {},
     "output_type": "display_data"
    }
   ],
   "source": [
    "plot_total_counts(data)"
   ]
  },
  {
   "cell_type": "code",
   "execution_count": null,
   "id": "3e650a0b-f513-4dcd-b2d6-a106191bfc48",
   "metadata": {},
   "outputs": [],
   "source": []
  },
  {
   "cell_type": "code",
   "execution_count": null,
   "id": "bcc654db-27fe-43d9-92c1-3c74123d3151",
   "metadata": {},
   "outputs": [],
   "source": [
    "df"
   ]
  },
  {
   "cell_type": "code",
   "execution_count": null,
   "id": "ff03efe5-0a1b-4c7e-87f8-35e16cee23a8",
   "metadata": {},
   "outputs": [],
   "source": []
  },
  {
   "cell_type": "code",
   "execution_count": null,
   "id": "d1718a35-9fba-4e0f-9b7f-30775cf7101c",
   "metadata": {},
   "outputs": [],
   "source": []
  },
  {
   "cell_type": "code",
   "execution_count": null,
   "id": "d337f90e-e103-41ed-8150-e2068828d618",
   "metadata": {},
   "outputs": [],
   "source": []
  },
  {
   "cell_type": "code",
   "execution_count": 111,
   "id": "f478fa42-6fe5-4e57-96cb-762af77b562d",
   "metadata": {},
   "outputs": [],
   "source": [
    "votes['BLOCK_TIMESTAMP'] = pd.to_datetime(votes['BLOCK_TIMESTAMP']) \n",
    "votes['PROPOSALID'] = votes['PROPOSALID'].astype('int')\n",
    "votes['SUPPORT'] = votes['SUPPORT'].astype('int')\n",
    "votes['VOTES'] = votes['VOTES'].astype('int')\n",
    "traits['MINT_TIME'] = pd.to_datetime(traits['MINT_TIME'])\n",
    "traits = traits.sort_values('MINT_TIME')\n",
    "\n",
    "df = votes.groupby(['PROPOSALID','SUPPORT'])['VOTES'].sum().reset_index().sort_values('PROPOSALID')\n",
    "turnout = votes.groupby('PROPOSALID')['VOTES'].sum()\n",
    "proposal_start = votes.groupby('PROPOSALID')['BLOCK_TIMESTAMP'].max()\n",
    "d = pd.Series({i: traits[traits['MINT_TIME']<j]['TOKENID'].count() for i,j in proposal_start.iteritems()},name='MINTED')\n",
    "data = turnout.to_frame().join(d)\n",
    "data['PROPORTION'] =  data['VOTES'] / data['MINTED']"
   ]
  },
  {
   "cell_type": "code",
   "execution_count": 155,
   "id": "07f9c148-f4b1-4bd0-aac6-73a653202433",
   "metadata": {},
   "outputs": [
    {
     "data": {
      "text/plain": [
       "104"
      ]
     },
     "execution_count": 155,
     "metadata": {},
     "output_type": "execute_result"
    }
   ],
   "source": [
    "votes['PROPOSALID'].max()\n"
   ]
  },
  {
   "cell_type": "code",
   "execution_count": 173,
   "id": "fda36f52-cc0e-4e02-8178-c7d62d154b56",
   "metadata": {},
   "outputs": [],
   "source": [
    "proposal=102"
   ]
  },
  {
   "cell_type": "code",
   "execution_count": 174,
   "id": "09905b12-735e-4e59-bcb2-95256cad11eb",
   "metadata": {},
   "outputs": [],
   "source": [
    "selected_proposal = votes.query('PROPOSALID==@proposal')"
   ]
  },
  {
   "cell_type": "code",
   "execution_count": 175,
   "id": "186cf924-d96e-430f-96d2-7a1364f4d367",
   "metadata": {},
   "outputs": [
    {
     "data": {
      "text/plain": [
       "95.65217391304348"
      ]
     },
     "execution_count": 175,
     "metadata": {},
     "output_type": "execute_result"
    }
   ],
   "source": [
    "s = selected_proposal.groupby('SUPPORT')['VOTES'].sum()\n",
    "s.loc[1] / s.sum() * 100"
   ]
  },
  {
   "cell_type": "code",
   "execution_count": 176,
   "id": "5562391e-8790-4dfe-9b17-f278c2ce9f34",
   "metadata": {},
   "outputs": [
    {
     "data": {
      "text/plain": [
       "13"
      ]
     },
     "execution_count": 176,
     "metadata": {},
     "output_type": "execute_result"
    }
   ],
   "source": [
    "selected_proposal['VOTER'].nunique()"
   ]
  },
  {
   "cell_type": "code",
   "execution_count": 177,
   "id": "f8bf1d09-0de0-433a-af84-8752a1230c20",
   "metadata": {},
   "outputs": [
    {
     "data": {
      "text/plain": [
       "92.3076923076923"
      ]
     },
     "execution_count": 177,
     "metadata": {},
     "output_type": "execute_result"
    }
   ],
   "source": [
    "s = selected_proposal.groupby('SUPPORT')['VOTER'].count()\n",
    "s.loc[1] / s.sum() * 100"
   ]
  },
  {
   "cell_type": "code",
   "execution_count": 180,
   "id": "7a0dd8b5-8e6c-43bc-8648-a7e1d24a3f0e",
   "metadata": {},
   "outputs": [
    {
     "data": {
      "text/plain": [
       "365"
      ]
     },
     "execution_count": 180,
     "metadata": {},
     "output_type": "execute_result"
    }
   ],
   "source": [
    "data.loc[proposal,'MINTED']"
   ]
  },
  {
   "cell_type": "code",
   "execution_count": 184,
   "id": "570324bc-9b00-4220-bc79-ff44fde2a944",
   "metadata": {},
   "outputs": [
    {
     "data": {
      "text/html": [
       "<div>\n",
       "<style scoped>\n",
       "    .dataframe tbody tr th:only-of-type {\n",
       "        vertical-align: middle;\n",
       "    }\n",
       "\n",
       "    .dataframe tbody tr th {\n",
       "        vertical-align: top;\n",
       "    }\n",
       "\n",
       "    .dataframe thead th {\n",
       "        text-align: right;\n",
       "    }\n",
       "</style>\n",
       "<table border=\"1\" class=\"dataframe\">\n",
       "  <thead>\n",
       "    <tr style=\"text-align: right;\">\n",
       "      <th></th>\n",
       "      <th>BLOCK_TIMESTAMP</th>\n",
       "      <th>PROPOSALID</th>\n",
       "      <th>REASON</th>\n",
       "      <th>SUPPORT</th>\n",
       "      <th>VOTER</th>\n",
       "      <th>VOTES</th>\n",
       "      <th>EVENT</th>\n",
       "    </tr>\n",
       "  </thead>\n",
       "  <tbody>\n",
       "    <tr>\n",
       "      <th>606</th>\n",
       "      <td>2022-03-05 18:30:15</td>\n",
       "      <td>41</td>\n",
       "      <td></td>\n",
       "      <td>1</td>\n",
       "      <td>0xcc2688350d29623e2a0844cc8885f9050f0f6ed5</td>\n",
       "      <td>2</td>\n",
       "      <td>1</td>\n",
       "    </tr>\n",
       "    <tr>\n",
       "      <th>734</th>\n",
       "      <td>2022-03-07 16:43:05</td>\n",
       "      <td>42</td>\n",
       "      <td></td>\n",
       "      <td>1</td>\n",
       "      <td>0xcc2688350d29623e2a0844cc8885f9050f0f6ed5</td>\n",
       "      <td>2</td>\n",
       "      <td>1</td>\n",
       "    </tr>\n",
       "    <tr>\n",
       "      <th>1478</th>\n",
       "      <td>2022-03-13 16:50:51</td>\n",
       "      <td>43</td>\n",
       "      <td></td>\n",
       "      <td>1</td>\n",
       "      <td>0xcc2688350d29623e2a0844cc8885f9050f0f6ed5</td>\n",
       "      <td>4</td>\n",
       "      <td>1</td>\n",
       "    </tr>\n",
       "    <tr>\n",
       "      <th>121</th>\n",
       "      <td>2022-03-22 00:08:56</td>\n",
       "      <td>44</td>\n",
       "      <td></td>\n",
       "      <td>1</td>\n",
       "      <td>0xcc2688350d29623e2a0844cc8885f9050f0f6ed5</td>\n",
       "      <td>5</td>\n",
       "      <td>1</td>\n",
       "    </tr>\n",
       "    <tr>\n",
       "      <th>518</th>\n",
       "      <td>2022-03-27 01:12:29</td>\n",
       "      <td>45</td>\n",
       "      <td></td>\n",
       "      <td>1</td>\n",
       "      <td>0xcc2688350d29623e2a0844cc8885f9050f0f6ed5</td>\n",
       "      <td>5</td>\n",
       "      <td>1</td>\n",
       "    </tr>\n",
       "    <tr>\n",
       "      <th>1544</th>\n",
       "      <td>2022-03-29 16:45:22</td>\n",
       "      <td>46</td>\n",
       "      <td></td>\n",
       "      <td>1</td>\n",
       "      <td>0xcc2688350d29623e2a0844cc8885f9050f0f6ed5</td>\n",
       "      <td>5</td>\n",
       "      <td>1</td>\n",
       "    </tr>\n",
       "    <tr>\n",
       "      <th>1233</th>\n",
       "      <td>2022-04-04 22:51:10</td>\n",
       "      <td>47</td>\n",
       "      <td></td>\n",
       "      <td>1</td>\n",
       "      <td>0xcc2688350d29623e2a0844cc8885f9050f0f6ed5</td>\n",
       "      <td>5</td>\n",
       "      <td>1</td>\n",
       "    </tr>\n",
       "    <tr>\n",
       "      <th>503</th>\n",
       "      <td>2022-04-04 22:57:28</td>\n",
       "      <td>48</td>\n",
       "      <td></td>\n",
       "      <td>0</td>\n",
       "      <td>0xcc2688350d29623e2a0844cc8885f9050f0f6ed5</td>\n",
       "      <td>5</td>\n",
       "      <td>1</td>\n",
       "    </tr>\n",
       "    <tr>\n",
       "      <th>1524</th>\n",
       "      <td>2022-04-07 13:52:02</td>\n",
       "      <td>49</td>\n",
       "      <td></td>\n",
       "      <td>1</td>\n",
       "      <td>0xcc2688350d29623e2a0844cc8885f9050f0f6ed5</td>\n",
       "      <td>5</td>\n",
       "      <td>1</td>\n",
       "    </tr>\n",
       "    <tr>\n",
       "      <th>735</th>\n",
       "      <td>2022-04-11 23:26:08</td>\n",
       "      <td>51</td>\n",
       "      <td></td>\n",
       "      <td>1</td>\n",
       "      <td>0xcc2688350d29623e2a0844cc8885f9050f0f6ed5</td>\n",
       "      <td>7</td>\n",
       "      <td>1</td>\n",
       "    </tr>\n",
       "    <tr>\n",
       "      <th>723</th>\n",
       "      <td>2022-04-11 23:32:29</td>\n",
       "      <td>52</td>\n",
       "      <td></td>\n",
       "      <td>1</td>\n",
       "      <td>0xcc2688350d29623e2a0844cc8885f9050f0f6ed5</td>\n",
       "      <td>7</td>\n",
       "      <td>1</td>\n",
       "    </tr>\n",
       "    <tr>\n",
       "      <th>691</th>\n",
       "      <td>2022-04-14 03:02:22</td>\n",
       "      <td>53</td>\n",
       "      <td>we liked it</td>\n",
       "      <td>1</td>\n",
       "      <td>0xcc2688350d29623e2a0844cc8885f9050f0f6ed5</td>\n",
       "      <td>7</td>\n",
       "      <td>1</td>\n",
       "    </tr>\n",
       "    <tr>\n",
       "      <th>39</th>\n",
       "      <td>2022-04-15 23:44:37</td>\n",
       "      <td>54</td>\n",
       "      <td>We read this one, and you know, thought it was...</td>\n",
       "      <td>1</td>\n",
       "      <td>0xcc2688350d29623e2a0844cc8885f9050f0f6ed5</td>\n",
       "      <td>7</td>\n",
       "      <td>1</td>\n",
       "    </tr>\n",
       "    <tr>\n",
       "      <th>1037</th>\n",
       "      <td>2022-04-15 23:47:33</td>\n",
       "      <td>55</td>\n",
       "      <td>The committee tasked with doing the work in th...</td>\n",
       "      <td>0</td>\n",
       "      <td>0xcc2688350d29623e2a0844cc8885f9050f0f6ed5</td>\n",
       "      <td>7</td>\n",
       "      <td>1</td>\n",
       "    </tr>\n",
       "    <tr>\n",
       "      <th>744</th>\n",
       "      <td>2022-04-17 18:36:07</td>\n",
       "      <td>56</td>\n",
       "      <td>nouncil supports fun</td>\n",
       "      <td>1</td>\n",
       "      <td>0xcc2688350d29623e2a0844cc8885f9050f0f6ed5</td>\n",
       "      <td>7</td>\n",
       "      <td>1</td>\n",
       "    </tr>\n",
       "    <tr>\n",
       "      <th>9</th>\n",
       "      <td>2022-04-18 15:51:14</td>\n",
       "      <td>57</td>\n",
       "      <td>In general Nouncil was supportive of this prop...</td>\n",
       "      <td>0</td>\n",
       "      <td>0xcc2688350d29623e2a0844cc8885f9050f0f6ed5</td>\n",
       "      <td>7</td>\n",
       "      <td>1</td>\n",
       "    </tr>\n",
       "    <tr>\n",
       "      <th>1372</th>\n",
       "      <td>2022-04-18 16:04:36</td>\n",
       "      <td>58</td>\n",
       "      <td>Time is precious.</td>\n",
       "      <td>1</td>\n",
       "      <td>0xcc2688350d29623e2a0844cc8885f9050f0f6ed5</td>\n",
       "      <td>7</td>\n",
       "      <td>1</td>\n",
       "    </tr>\n",
       "    <tr>\n",
       "      <th>1355</th>\n",
       "      <td>2022-04-21 23:35:21</td>\n",
       "      <td>60</td>\n",
       "      <td>🙏 Nouncil Abstains 🙏</td>\n",
       "      <td>2</td>\n",
       "      <td>0xcc2688350d29623e2a0844cc8885f9050f0f6ed5</td>\n",
       "      <td>7</td>\n",
       "      <td>1</td>\n",
       "    </tr>\n",
       "    <tr>\n",
       "      <th>43</th>\n",
       "      <td>2022-04-21 23:44:08</td>\n",
       "      <td>61</td>\n",
       "      <td>CDT bullied us into doing this</td>\n",
       "      <td>1</td>\n",
       "      <td>0xcc2688350d29623e2a0844cc8885f9050f0f6ed5</td>\n",
       "      <td>7</td>\n",
       "      <td>1</td>\n",
       "    </tr>\n",
       "    <tr>\n",
       "      <th>1553</th>\n",
       "      <td>2022-04-21 23:48:05</td>\n",
       "      <td>62</td>\n",
       "      <td>Nouncil &lt;3 Prop House</td>\n",
       "      <td>1</td>\n",
       "      <td>0xcc2688350d29623e2a0844cc8885f9050f0f6ed5</td>\n",
       "      <td>7</td>\n",
       "      <td>1</td>\n",
       "    </tr>\n",
       "    <tr>\n",
       "      <th>1457</th>\n",
       "      <td>2022-04-26 02:55:13</td>\n",
       "      <td>63</td>\n",
       "      <td>⌐◨-◨ ❄</td>\n",
       "      <td>1</td>\n",
       "      <td>0xcc2688350d29623e2a0844cc8885f9050f0f6ed5</td>\n",
       "      <td>5</td>\n",
       "      <td>1</td>\n",
       "    </tr>\n",
       "    <tr>\n",
       "      <th>1492</th>\n",
       "      <td>2022-04-26 03:02:00</td>\n",
       "      <td>64</td>\n",
       "      <td>⌐◨-◨-◨-◨-◨-◨</td>\n",
       "      <td>1</td>\n",
       "      <td>0xcc2688350d29623e2a0844cc8885f9050f0f6ed5</td>\n",
       "      <td>6</td>\n",
       "      <td>1</td>\n",
       "    </tr>\n",
       "    <tr>\n",
       "      <th>851</th>\n",
       "      <td>2022-04-26 03:49:38</td>\n",
       "      <td>65</td>\n",
       "      <td>We read through the proposal, considered it a ...</td>\n",
       "      <td>1</td>\n",
       "      <td>0xcc2688350d29623e2a0844cc8885f9050f0f6ed5</td>\n",
       "      <td>6</td>\n",
       "      <td>1</td>\n",
       "    </tr>\n",
       "    <tr>\n",
       "      <th>300</th>\n",
       "      <td>2022-04-27 03:22:55</td>\n",
       "      <td>67</td>\n",
       "      <td>nouncil &lt;3 nouncil</td>\n",
       "      <td>1</td>\n",
       "      <td>0xcc2688350d29623e2a0844cc8885f9050f0f6ed5</td>\n",
       "      <td>6</td>\n",
       "      <td>1</td>\n",
       "    </tr>\n",
       "    <tr>\n",
       "      <th>1357</th>\n",
       "      <td>2022-04-28 05:22:04</td>\n",
       "      <td>68</td>\n",
       "      <td>ESports are big already and that audience is o...</td>\n",
       "      <td>1</td>\n",
       "      <td>0xcc2688350d29623e2a0844cc8885f9050f0f6ed5</td>\n",
       "      <td>6</td>\n",
       "      <td>1</td>\n",
       "    </tr>\n",
       "    <tr>\n",
       "      <th>1365</th>\n",
       "      <td>2022-04-28 05:24:25</td>\n",
       "      <td>69</td>\n",
       "      <td>Nouncil halten es für wichtig, Initiativen zu ...</td>\n",
       "      <td>1</td>\n",
       "      <td>0xcc2688350d29623e2a0844cc8885f9050f0f6ed5</td>\n",
       "      <td>6</td>\n",
       "      <td>1</td>\n",
       "    </tr>\n",
       "    <tr>\n",
       "      <th>1360</th>\n",
       "      <td>2022-04-28 05:28:59</td>\n",
       "      <td>70</td>\n",
       "      <td>We like the Sharks. And for that reason, we're...</td>\n",
       "      <td>1</td>\n",
       "      <td>0xcc2688350d29623e2a0844cc8885f9050f0f6ed5</td>\n",
       "      <td>6</td>\n",
       "      <td>1</td>\n",
       "    </tr>\n",
       "    <tr>\n",
       "      <th>648</th>\n",
       "      <td>2022-05-08 17:36:50</td>\n",
       "      <td>71</td>\n",
       "      <td>Nouncil wants to support this Prop because Leo...</td>\n",
       "      <td>1</td>\n",
       "      <td>0xcc2688350d29623e2a0844cc8885f9050f0f6ed5</td>\n",
       "      <td>6</td>\n",
       "      <td>1</td>\n",
       "    </tr>\n",
       "    <tr>\n",
       "      <th>806</th>\n",
       "      <td>2022-05-10 00:56:55</td>\n",
       "      <td>72</td>\n",
       "      <td>Klim is a valued enthusiastic member of the No...</td>\n",
       "      <td>1</td>\n",
       "      <td>0xcc2688350d29623e2a0844cc8885f9050f0f6ed5</td>\n",
       "      <td>6</td>\n",
       "      <td>1</td>\n",
       "    </tr>\n",
       "    <tr>\n",
       "      <th>365</th>\n",
       "      <td>2022-05-12 19:48:26</td>\n",
       "      <td>73</td>\n",
       "      <td>We thought this Proposal was far from stupid, ...</td>\n",
       "      <td>1</td>\n",
       "      <td>0xcc2688350d29623e2a0844cc8885f9050f0f6ed5</td>\n",
       "      <td>6</td>\n",
       "      <td>1</td>\n",
       "    </tr>\n",
       "    <tr>\n",
       "      <th>253</th>\n",
       "      <td>2022-05-15 02:40:36</td>\n",
       "      <td>74</td>\n",
       "      <td>On Nouncil call, we had a fruitful discussion ...</td>\n",
       "      <td>0</td>\n",
       "      <td>0xcc2688350d29623e2a0844cc8885f9050f0f6ed5</td>\n",
       "      <td>7</td>\n",
       "      <td>1</td>\n",
       "    </tr>\n",
       "    <tr>\n",
       "      <th>537</th>\n",
       "      <td>2022-05-15 02:51:56</td>\n",
       "      <td>75</td>\n",
       "      <td>This was probably our most contentious YES vot...</td>\n",
       "      <td>1</td>\n",
       "      <td>0xcc2688350d29623e2a0844cc8885f9050f0f6ed5</td>\n",
       "      <td>7</td>\n",
       "      <td>1</td>\n",
       "    </tr>\n",
       "    <tr>\n",
       "      <th>627</th>\n",
       "      <td>2022-05-20 11:48:52</td>\n",
       "      <td>77</td>\n",
       "      <td>Even if we had never heard of this Joel guy be...</td>\n",
       "      <td>1</td>\n",
       "      <td>0xcc2688350d29623e2a0844cc8885f9050f0f6ed5</td>\n",
       "      <td>7</td>\n",
       "      <td>1</td>\n",
       "    </tr>\n",
       "    <tr>\n",
       "      <th>500</th>\n",
       "      <td>2022-05-22 19:07:46</td>\n",
       "      <td>81</td>\n",
       "      <td>Nouncil &lt;3 Lil Nouns\\n\\nWe prefer Prop 82 with...</td>\n",
       "      <td>0</td>\n",
       "      <td>0xcc2688350d29623e2a0844cc8885f9050f0f6ed5</td>\n",
       "      <td>8</td>\n",
       "      <td>1</td>\n",
       "    </tr>\n",
       "    <tr>\n",
       "      <th>650</th>\n",
       "      <td>2022-05-24 03:29:57</td>\n",
       "      <td>82</td>\n",
       "      <td>As a representative council of mostly Nounish ...</td>\n",
       "      <td>1</td>\n",
       "      <td>0xcc2688350d29623e2a0844cc8885f9050f0f6ed5</td>\n",
       "      <td>8</td>\n",
       "      <td>1</td>\n",
       "    </tr>\n",
       "    <tr>\n",
       "      <th>131</th>\n",
       "      <td>2022-05-24 03:43:20</td>\n",
       "      <td>83</td>\n",
       "      <td>Brandon's Nounish art is really special, and t...</td>\n",
       "      <td>1</td>\n",
       "      <td>0xcc2688350d29623e2a0844cc8885f9050f0f6ed5</td>\n",
       "      <td>8</td>\n",
       "      <td>1</td>\n",
       "    </tr>\n",
       "    <tr>\n",
       "      <th>1258</th>\n",
       "      <td>2022-05-31 04:16:34</td>\n",
       "      <td>84</td>\n",
       "      <td>We overall support this team. They did a great...</td>\n",
       "      <td>1</td>\n",
       "      <td>0xcc2688350d29623e2a0844cc8885f9050f0f6ed5</td>\n",
       "      <td>10</td>\n",
       "      <td>1</td>\n",
       "    </tr>\n",
       "    <tr>\n",
       "      <th>1462</th>\n",
       "      <td>2022-05-31 04:23:09</td>\n",
       "      <td>85</td>\n",
       "      <td>Dutch Impressionist Vincent Van Gogh once famo...</td>\n",
       "      <td>1</td>\n",
       "      <td>0xcc2688350d29623e2a0844cc8885f9050f0f6ed5</td>\n",
       "      <td>10</td>\n",
       "      <td>1</td>\n",
       "    </tr>\n",
       "    <tr>\n",
       "      <th>277</th>\n",
       "      <td>2022-05-31 04:25:42</td>\n",
       "      <td>86</td>\n",
       "      <td>Ultimately, Nouncil was not able to reach a co...</td>\n",
       "      <td>2</td>\n",
       "      <td>0xcc2688350d29623e2a0844cc8885f9050f0f6ed5</td>\n",
       "      <td>10</td>\n",
       "      <td>1</td>\n",
       "    </tr>\n",
       "    <tr>\n",
       "      <th>26</th>\n",
       "      <td>2022-06-03 02:26:45</td>\n",
       "      <td>87</td>\n",
       "      <td>Looking forward to seeing these posters, such ...</td>\n",
       "      <td>1</td>\n",
       "      <td>0xcc2688350d29623e2a0844cc8885f9050f0f6ed5</td>\n",
       "      <td>10</td>\n",
       "      <td>1</td>\n",
       "    </tr>\n",
       "    <tr>\n",
       "      <th>207</th>\n",
       "      <td>2022-06-09 23:19:34</td>\n",
       "      <td>89</td>\n",
       "      <td>we support\\nnoggles on wall 🙏\\n\\n_|___|___|___...</td>\n",
       "      <td>1</td>\n",
       "      <td>0xcc2688350d29623e2a0844cc8885f9050f0f6ed5</td>\n",
       "      <td>13</td>\n",
       "      <td>1</td>\n",
       "    </tr>\n",
       "    <tr>\n",
       "      <th>1390</th>\n",
       "      <td>2022-06-11 17:09:35</td>\n",
       "      <td>90</td>\n",
       "      <td>GOAT GOAT GOAT GOAT GOAT GOAT GOAT GOAT GOAT G...</td>\n",
       "      <td>1</td>\n",
       "      <td>0xcc2688350d29623e2a0844cc8885f9050f0f6ed5</td>\n",
       "      <td>13</td>\n",
       "      <td>1</td>\n",
       "    </tr>\n",
       "    <tr>\n",
       "      <th>1386</th>\n",
       "      <td>2022-06-11 17:13:13</td>\n",
       "      <td>91</td>\n",
       "      <td>r-[ g ]-[ g ]</td>\n",
       "      <td>1</td>\n",
       "      <td>0xcc2688350d29623e2a0844cc8885f9050f0f6ed5</td>\n",
       "      <td>13</td>\n",
       "      <td>1</td>\n",
       "    </tr>\n",
       "    <tr>\n",
       "      <th>1178</th>\n",
       "      <td>2022-06-11 17:23:26</td>\n",
       "      <td>92</td>\n",
       "      <td>⌐◨-◨</td>\n",
       "      <td>1</td>\n",
       "      <td>0xcc2688350d29623e2a0844cc8885f9050f0f6ed5</td>\n",
       "      <td>13</td>\n",
       "      <td>1</td>\n",
       "    </tr>\n",
       "    <tr>\n",
       "      <th>212</th>\n",
       "      <td>2022-06-14 16:23:56</td>\n",
       "      <td>95</td>\n",
       "      <td>Nouncil was impressed by the sheer amount of p...</td>\n",
       "      <td>1</td>\n",
       "      <td>0xcc2688350d29623e2a0844cc8885f9050f0f6ed5</td>\n",
       "      <td>13</td>\n",
       "      <td>1</td>\n",
       "    </tr>\n",
       "    <tr>\n",
       "      <th>213</th>\n",
       "      <td>2022-06-14 16:23:56</td>\n",
       "      <td>94</td>\n",
       "      <td>This was one of our most contentious votes to ...</td>\n",
       "      <td>1</td>\n",
       "      <td>0xcc2688350d29623e2a0844cc8885f9050f0f6ed5</td>\n",
       "      <td>13</td>\n",
       "      <td>1</td>\n",
       "    </tr>\n",
       "    <tr>\n",
       "      <th>1182</th>\n",
       "      <td>2022-06-21 22:16:51</td>\n",
       "      <td>97</td>\n",
       "      <td>\"Premium OpenSauce baked beans\" 🙏</td>\n",
       "      <td>1</td>\n",
       "      <td>0xcc2688350d29623e2a0844cc8885f9050f0f6ed5</td>\n",
       "      <td>12</td>\n",
       "      <td>1</td>\n",
       "    </tr>\n",
       "    <tr>\n",
       "      <th>497</th>\n",
       "      <td>2022-06-26 01:04:12</td>\n",
       "      <td>98</td>\n",
       "      <td>⌐◨-◨</td>\n",
       "      <td>1</td>\n",
       "      <td>0xcc2688350d29623e2a0844cc8885f9050f0f6ed5</td>\n",
       "      <td>12</td>\n",
       "      <td>1</td>\n",
       "    </tr>\n",
       "    <tr>\n",
       "      <th>275</th>\n",
       "      <td>2022-06-27 21:16:59</td>\n",
       "      <td>99</td>\n",
       "      <td>⌐◨-◨ 💨⛵</td>\n",
       "      <td>1</td>\n",
       "      <td>0xcc2688350d29623e2a0844cc8885f9050f0f6ed5</td>\n",
       "      <td>12</td>\n",
       "      <td>1</td>\n",
       "    </tr>\n",
       "    <tr>\n",
       "      <th>820</th>\n",
       "      <td>2022-06-29 17:04:49</td>\n",
       "      <td>100</td>\n",
       "      <td>⌐◨-◨ 🍻</td>\n",
       "      <td>1</td>\n",
       "      <td>0xcc2688350d29623e2a0844cc8885f9050f0f6ed5</td>\n",
       "      <td>12</td>\n",
       "      <td>1</td>\n",
       "    </tr>\n",
       "    <tr>\n",
       "      <th>391</th>\n",
       "      <td>2022-06-29 17:15:30</td>\n",
       "      <td>101</td>\n",
       "      <td>One Noun Square, every day, forever. 🙏</td>\n",
       "      <td>1</td>\n",
       "      <td>0xcc2688350d29623e2a0844cc8885f9050f0f6ed5</td>\n",
       "      <td>12</td>\n",
       "      <td>1</td>\n",
       "    </tr>\n",
       "    <tr>\n",
       "      <th>561</th>\n",
       "      <td>2022-07-05 04:34:42</td>\n",
       "      <td>102</td>\n",
       "      <td>⌐◨-◨</td>\n",
       "      <td>1</td>\n",
       "      <td>0xcc2688350d29623e2a0844cc8885f9050f0f6ed5</td>\n",
       "      <td>12</td>\n",
       "      <td>1</td>\n",
       "    </tr>\n",
       "    <tr>\n",
       "      <th>789</th>\n",
       "      <td>2022-07-05 04:38:30</td>\n",
       "      <td>103</td>\n",
       "      <td>⌐◨-◨</td>\n",
       "      <td>1</td>\n",
       "      <td>0xcc2688350d29623e2a0844cc8885f9050f0f6ed5</td>\n",
       "      <td>12</td>\n",
       "      <td>1</td>\n",
       "    </tr>\n",
       "    <tr>\n",
       "      <th>1342</th>\n",
       "      <td>2022-07-05 04:40:07</td>\n",
       "      <td>104</td>\n",
       "      <td>⌐◨-◨</td>\n",
       "      <td>1</td>\n",
       "      <td>0xcc2688350d29623e2a0844cc8885f9050f0f6ed5</td>\n",
       "      <td>12</td>\n",
       "      <td>1</td>\n",
       "    </tr>\n",
       "  </tbody>\n",
       "</table>\n",
       "</div>"
      ],
      "text/plain": [
       "         BLOCK_TIMESTAMP  PROPOSALID  \\\n",
       "606  2022-03-05 18:30:15          41   \n",
       "734  2022-03-07 16:43:05          42   \n",
       "1478 2022-03-13 16:50:51          43   \n",
       "121  2022-03-22 00:08:56          44   \n",
       "518  2022-03-27 01:12:29          45   \n",
       "1544 2022-03-29 16:45:22          46   \n",
       "1233 2022-04-04 22:51:10          47   \n",
       "503  2022-04-04 22:57:28          48   \n",
       "1524 2022-04-07 13:52:02          49   \n",
       "735  2022-04-11 23:26:08          51   \n",
       "723  2022-04-11 23:32:29          52   \n",
       "691  2022-04-14 03:02:22          53   \n",
       "39   2022-04-15 23:44:37          54   \n",
       "1037 2022-04-15 23:47:33          55   \n",
       "744  2022-04-17 18:36:07          56   \n",
       "9    2022-04-18 15:51:14          57   \n",
       "1372 2022-04-18 16:04:36          58   \n",
       "1355 2022-04-21 23:35:21          60   \n",
       "43   2022-04-21 23:44:08          61   \n",
       "1553 2022-04-21 23:48:05          62   \n",
       "1457 2022-04-26 02:55:13          63   \n",
       "1492 2022-04-26 03:02:00          64   \n",
       "851  2022-04-26 03:49:38          65   \n",
       "300  2022-04-27 03:22:55          67   \n",
       "1357 2022-04-28 05:22:04          68   \n",
       "1365 2022-04-28 05:24:25          69   \n",
       "1360 2022-04-28 05:28:59          70   \n",
       "648  2022-05-08 17:36:50          71   \n",
       "806  2022-05-10 00:56:55          72   \n",
       "365  2022-05-12 19:48:26          73   \n",
       "253  2022-05-15 02:40:36          74   \n",
       "537  2022-05-15 02:51:56          75   \n",
       "627  2022-05-20 11:48:52          77   \n",
       "500  2022-05-22 19:07:46          81   \n",
       "650  2022-05-24 03:29:57          82   \n",
       "131  2022-05-24 03:43:20          83   \n",
       "1258 2022-05-31 04:16:34          84   \n",
       "1462 2022-05-31 04:23:09          85   \n",
       "277  2022-05-31 04:25:42          86   \n",
       "26   2022-06-03 02:26:45          87   \n",
       "207  2022-06-09 23:19:34          89   \n",
       "1390 2022-06-11 17:09:35          90   \n",
       "1386 2022-06-11 17:13:13          91   \n",
       "1178 2022-06-11 17:23:26          92   \n",
       "212  2022-06-14 16:23:56          95   \n",
       "213  2022-06-14 16:23:56          94   \n",
       "1182 2022-06-21 22:16:51          97   \n",
       "497  2022-06-26 01:04:12          98   \n",
       "275  2022-06-27 21:16:59          99   \n",
       "820  2022-06-29 17:04:49         100   \n",
       "391  2022-06-29 17:15:30         101   \n",
       "561  2022-07-05 04:34:42         102   \n",
       "789  2022-07-05 04:38:30         103   \n",
       "1342 2022-07-05 04:40:07         104   \n",
       "\n",
       "                                                 REASON  SUPPORT  \\\n",
       "606                                                            1   \n",
       "734                                                            1   \n",
       "1478                                                           1   \n",
       "121                                                            1   \n",
       "518                                                            1   \n",
       "1544                                                           1   \n",
       "1233                                                           1   \n",
       "503                                                            0   \n",
       "1524                                                           1   \n",
       "735                                                            1   \n",
       "723                                                            1   \n",
       "691                                         we liked it        1   \n",
       "39    We read this one, and you know, thought it was...        1   \n",
       "1037  The committee tasked with doing the work in th...        0   \n",
       "744                                nouncil supports fun        1   \n",
       "9     In general Nouncil was supportive of this prop...        0   \n",
       "1372                                  Time is precious.        1   \n",
       "1355                               🙏 Nouncil Abstains 🙏        2   \n",
       "43                       CDT bullied us into doing this        1   \n",
       "1553                              Nouncil <3 Prop House        1   \n",
       "1457                                             ⌐◨-◨ ❄        1   \n",
       "1492                                      ⌐◨-◨-◨-◨-◨-◨         1   \n",
       "851   We read through the proposal, considered it a ...        1   \n",
       "300                                  nouncil <3 nouncil        1   \n",
       "1357  ESports are big already and that audience is o...        1   \n",
       "1365  Nouncil halten es für wichtig, Initiativen zu ...        1   \n",
       "1360  We like the Sharks. And for that reason, we're...        1   \n",
       "648   Nouncil wants to support this Prop because Leo...        1   \n",
       "806   Klim is a valued enthusiastic member of the No...        1   \n",
       "365   We thought this Proposal was far from stupid, ...        1   \n",
       "253   On Nouncil call, we had a fruitful discussion ...        0   \n",
       "537   This was probably our most contentious YES vot...        1   \n",
       "627   Even if we had never heard of this Joel guy be...        1   \n",
       "500   Nouncil <3 Lil Nouns\\n\\nWe prefer Prop 82 with...        0   \n",
       "650   As a representative council of mostly Nounish ...        1   \n",
       "131   Brandon's Nounish art is really special, and t...        1   \n",
       "1258  We overall support this team. They did a great...        1   \n",
       "1462  Dutch Impressionist Vincent Van Gogh once famo...        1   \n",
       "277   Ultimately, Nouncil was not able to reach a co...        2   \n",
       "26    Looking forward to seeing these posters, such ...        1   \n",
       "207   we support\\nnoggles on wall 🙏\\n\\n_|___|___|___...        1   \n",
       "1390  GOAT GOAT GOAT GOAT GOAT GOAT GOAT GOAT GOAT G...        1   \n",
       "1386                                      r-[ g ]-[ g ]        1   \n",
       "1178                                               ⌐◨-◨        1   \n",
       "212   Nouncil was impressed by the sheer amount of p...        1   \n",
       "213   This was one of our most contentious votes to ...        1   \n",
       "1182                  \"Premium OpenSauce baked beans\" 🙏        1   \n",
       "497                                                ⌐◨-◨        1   \n",
       "275                                             ⌐◨-◨ 💨⛵        1   \n",
       "820                                              ⌐◨-◨ 🍻        1   \n",
       "391              One Noun Square, every day, forever. 🙏        1   \n",
       "561                                                ⌐◨-◨        1   \n",
       "789                                                ⌐◨-◨        1   \n",
       "1342                                               ⌐◨-◨        1   \n",
       "\n",
       "                                           VOTER  VOTES  EVENT  \n",
       "606   0xcc2688350d29623e2a0844cc8885f9050f0f6ed5      2      1  \n",
       "734   0xcc2688350d29623e2a0844cc8885f9050f0f6ed5      2      1  \n",
       "1478  0xcc2688350d29623e2a0844cc8885f9050f0f6ed5      4      1  \n",
       "121   0xcc2688350d29623e2a0844cc8885f9050f0f6ed5      5      1  \n",
       "518   0xcc2688350d29623e2a0844cc8885f9050f0f6ed5      5      1  \n",
       "1544  0xcc2688350d29623e2a0844cc8885f9050f0f6ed5      5      1  \n",
       "1233  0xcc2688350d29623e2a0844cc8885f9050f0f6ed5      5      1  \n",
       "503   0xcc2688350d29623e2a0844cc8885f9050f0f6ed5      5      1  \n",
       "1524  0xcc2688350d29623e2a0844cc8885f9050f0f6ed5      5      1  \n",
       "735   0xcc2688350d29623e2a0844cc8885f9050f0f6ed5      7      1  \n",
       "723   0xcc2688350d29623e2a0844cc8885f9050f0f6ed5      7      1  \n",
       "691   0xcc2688350d29623e2a0844cc8885f9050f0f6ed5      7      1  \n",
       "39    0xcc2688350d29623e2a0844cc8885f9050f0f6ed5      7      1  \n",
       "1037  0xcc2688350d29623e2a0844cc8885f9050f0f6ed5      7      1  \n",
       "744   0xcc2688350d29623e2a0844cc8885f9050f0f6ed5      7      1  \n",
       "9     0xcc2688350d29623e2a0844cc8885f9050f0f6ed5      7      1  \n",
       "1372  0xcc2688350d29623e2a0844cc8885f9050f0f6ed5      7      1  \n",
       "1355  0xcc2688350d29623e2a0844cc8885f9050f0f6ed5      7      1  \n",
       "43    0xcc2688350d29623e2a0844cc8885f9050f0f6ed5      7      1  \n",
       "1553  0xcc2688350d29623e2a0844cc8885f9050f0f6ed5      7      1  \n",
       "1457  0xcc2688350d29623e2a0844cc8885f9050f0f6ed5      5      1  \n",
       "1492  0xcc2688350d29623e2a0844cc8885f9050f0f6ed5      6      1  \n",
       "851   0xcc2688350d29623e2a0844cc8885f9050f0f6ed5      6      1  \n",
       "300   0xcc2688350d29623e2a0844cc8885f9050f0f6ed5      6      1  \n",
       "1357  0xcc2688350d29623e2a0844cc8885f9050f0f6ed5      6      1  \n",
       "1365  0xcc2688350d29623e2a0844cc8885f9050f0f6ed5      6      1  \n",
       "1360  0xcc2688350d29623e2a0844cc8885f9050f0f6ed5      6      1  \n",
       "648   0xcc2688350d29623e2a0844cc8885f9050f0f6ed5      6      1  \n",
       "806   0xcc2688350d29623e2a0844cc8885f9050f0f6ed5      6      1  \n",
       "365   0xcc2688350d29623e2a0844cc8885f9050f0f6ed5      6      1  \n",
       "253   0xcc2688350d29623e2a0844cc8885f9050f0f6ed5      7      1  \n",
       "537   0xcc2688350d29623e2a0844cc8885f9050f0f6ed5      7      1  \n",
       "627   0xcc2688350d29623e2a0844cc8885f9050f0f6ed5      7      1  \n",
       "500   0xcc2688350d29623e2a0844cc8885f9050f0f6ed5      8      1  \n",
       "650   0xcc2688350d29623e2a0844cc8885f9050f0f6ed5      8      1  \n",
       "131   0xcc2688350d29623e2a0844cc8885f9050f0f6ed5      8      1  \n",
       "1258  0xcc2688350d29623e2a0844cc8885f9050f0f6ed5     10      1  \n",
       "1462  0xcc2688350d29623e2a0844cc8885f9050f0f6ed5     10      1  \n",
       "277   0xcc2688350d29623e2a0844cc8885f9050f0f6ed5     10      1  \n",
       "26    0xcc2688350d29623e2a0844cc8885f9050f0f6ed5     10      1  \n",
       "207   0xcc2688350d29623e2a0844cc8885f9050f0f6ed5     13      1  \n",
       "1390  0xcc2688350d29623e2a0844cc8885f9050f0f6ed5     13      1  \n",
       "1386  0xcc2688350d29623e2a0844cc8885f9050f0f6ed5     13      1  \n",
       "1178  0xcc2688350d29623e2a0844cc8885f9050f0f6ed5     13      1  \n",
       "212   0xcc2688350d29623e2a0844cc8885f9050f0f6ed5     13      1  \n",
       "213   0xcc2688350d29623e2a0844cc8885f9050f0f6ed5     13      1  \n",
       "1182  0xcc2688350d29623e2a0844cc8885f9050f0f6ed5     12      1  \n",
       "497   0xcc2688350d29623e2a0844cc8885f9050f0f6ed5     12      1  \n",
       "275   0xcc2688350d29623e2a0844cc8885f9050f0f6ed5     12      1  \n",
       "820   0xcc2688350d29623e2a0844cc8885f9050f0f6ed5     12      1  \n",
       "391   0xcc2688350d29623e2a0844cc8885f9050f0f6ed5     12      1  \n",
       "561   0xcc2688350d29623e2a0844cc8885f9050f0f6ed5     12      1  \n",
       "789   0xcc2688350d29623e2a0844cc8885f9050f0f6ed5     12      1  \n",
       "1342  0xcc2688350d29623e2a0844cc8885f9050f0f6ed5     12      1  "
      ]
     },
     "execution_count": 184,
     "metadata": {},
     "output_type": "execute_result"
    }
   ],
   "source": [
    "votes.query('VOTER==\"0xcc2688350d29623e2a0844cc8885f9050f0f6ed5\"').sort_values('BLOCK_TIMESTAMP')"
   ]
  },
  {
   "cell_type": "code",
   "execution_count": 172,
   "id": "9fd00e15-6aeb-4dd8-b4e2-1da717d9cd4d",
   "metadata": {},
   "outputs": [
    {
     "data": {
      "text/html": [
       "<div>\n",
       "<style scoped>\n",
       "    .dataframe tbody tr th:only-of-type {\n",
       "        vertical-align: middle;\n",
       "    }\n",
       "\n",
       "    .dataframe tbody tr th {\n",
       "        vertical-align: top;\n",
       "    }\n",
       "\n",
       "    .dataframe thead th {\n",
       "        text-align: right;\n",
       "    }\n",
       "</style>\n",
       "<table border=\"1\" class=\"dataframe\">\n",
       "  <thead>\n",
       "    <tr style=\"text-align: right;\">\n",
       "      <th></th>\n",
       "      <th>BLOCK_TIMESTAMP</th>\n",
       "      <th>PROPOSALID</th>\n",
       "      <th>REASON</th>\n",
       "      <th>SUPPORT</th>\n",
       "      <th>VOTER</th>\n",
       "      <th>VOTES</th>\n",
       "      <th>EVENT</th>\n",
       "    </tr>\n",
       "  </thead>\n",
       "  <tbody>\n",
       "    <tr>\n",
       "      <th>71</th>\n",
       "      <td>2022-07-04 10:40:02</td>\n",
       "      <td>103</td>\n",
       "      <td>Easy yes for me. Attract builders to Nouns whi...</td>\n",
       "      <td>1</td>\n",
       "      <td>0xa86882277e69fbf0a51805cdc8b0a3a113079e63</td>\n",
       "      <td>4</td>\n",
       "      <td>1</td>\n",
       "    </tr>\n",
       "    <tr>\n",
       "      <th>163</th>\n",
       "      <td>2022-07-03 21:47:26</td>\n",
       "      <td>103</td>\n",
       "      <td></td>\n",
       "      <td>1</td>\n",
       "      <td>0xa8d04cd4e1951291740ef977d56336fdc7f394c5</td>\n",
       "      <td>5</td>\n",
       "      <td>1</td>\n",
       "    </tr>\n",
       "    <tr>\n",
       "      <th>165</th>\n",
       "      <td>2022-07-04 13:44:10</td>\n",
       "      <td>103</td>\n",
       "      <td></td>\n",
       "      <td>1</td>\n",
       "      <td>0x36a5bc205df1ed65c86301022cfc343a6ce546ff</td>\n",
       "      <td>2</td>\n",
       "      <td>1</td>\n",
       "    </tr>\n",
       "    <tr>\n",
       "      <th>169</th>\n",
       "      <td>2022-07-04 13:54:49</td>\n",
       "      <td>103</td>\n",
       "      <td>Removing single points of failure is an import...</td>\n",
       "      <td>1</td>\n",
       "      <td>0x5d802e2fe48392c104ce0401c7eca8a4456f1f16</td>\n",
       "      <td>12</td>\n",
       "      <td>1</td>\n",
       "    </tr>\n",
       "    <tr>\n",
       "      <th>295</th>\n",
       "      <td>2022-07-04 23:44:57</td>\n",
       "      <td>103</td>\n",
       "      <td></td>\n",
       "      <td>1</td>\n",
       "      <td>0xa555d1ee16780b2d414ed97f4f169c0740099615</td>\n",
       "      <td>2</td>\n",
       "      <td>1</td>\n",
       "    </tr>\n",
       "    <tr>\n",
       "      <th>638</th>\n",
       "      <td>2022-07-04 12:04:45</td>\n",
       "      <td>103</td>\n",
       "      <td></td>\n",
       "      <td>1</td>\n",
       "      <td>0x33daf8e90cd1f214cc25a1865649e847254f2ece</td>\n",
       "      <td>1</td>\n",
       "      <td>1</td>\n",
       "    </tr>\n",
       "    <tr>\n",
       "      <th>639</th>\n",
       "      <td>2022-07-04 06:27:27</td>\n",
       "      <td>103</td>\n",
       "      <td></td>\n",
       "      <td>1</td>\n",
       "      <td>0x9a2f6117d1ffa82ad0a2b36f133d476db5bd55f5</td>\n",
       "      <td>1</td>\n",
       "      <td>1</td>\n",
       "    </tr>\n",
       "    <tr>\n",
       "      <th>689</th>\n",
       "      <td>2022-07-04 17:47:17</td>\n",
       "      <td>103</td>\n",
       "      <td></td>\n",
       "      <td>1</td>\n",
       "      <td>0xaca3b4110403f3c4dacb35a7b3aa0a84efb6a3e9</td>\n",
       "      <td>1</td>\n",
       "      <td>1</td>\n",
       "    </tr>\n",
       "    <tr>\n",
       "      <th>789</th>\n",
       "      <td>2022-07-05 04:38:30</td>\n",
       "      <td>103</td>\n",
       "      <td>⌐◨-◨</td>\n",
       "      <td>1</td>\n",
       "      <td>0xcc2688350d29623e2a0844cc8885f9050f0f6ed5</td>\n",
       "      <td>12</td>\n",
       "      <td>1</td>\n",
       "    </tr>\n",
       "    <tr>\n",
       "      <th>1027</th>\n",
       "      <td>2022-07-05 01:17:34</td>\n",
       "      <td>103</td>\n",
       "      <td></td>\n",
       "      <td>1</td>\n",
       "      <td>0x91dccaa260cc4616e1a6e6b693db7207c5e42937</td>\n",
       "      <td>1</td>\n",
       "      <td>1</td>\n",
       "    </tr>\n",
       "  </tbody>\n",
       "</table>\n",
       "</div>"
      ],
      "text/plain": [
       "         BLOCK_TIMESTAMP  PROPOSALID  \\\n",
       "71   2022-07-04 10:40:02         103   \n",
       "163  2022-07-03 21:47:26         103   \n",
       "165  2022-07-04 13:44:10         103   \n",
       "169  2022-07-04 13:54:49         103   \n",
       "295  2022-07-04 23:44:57         103   \n",
       "638  2022-07-04 12:04:45         103   \n",
       "639  2022-07-04 06:27:27         103   \n",
       "689  2022-07-04 17:47:17         103   \n",
       "789  2022-07-05 04:38:30         103   \n",
       "1027 2022-07-05 01:17:34         103   \n",
       "\n",
       "                                                 REASON  SUPPORT  \\\n",
       "71    Easy yes for me. Attract builders to Nouns whi...        1   \n",
       "163                                                            1   \n",
       "165                                                            1   \n",
       "169   Removing single points of failure is an import...        1   \n",
       "295                                                            1   \n",
       "638                                                            1   \n",
       "639                                                            1   \n",
       "689                                                            1   \n",
       "789                                                ⌐◨-◨        1   \n",
       "1027                                                           1   \n",
       "\n",
       "                                           VOTER  VOTES  EVENT  \n",
       "71    0xa86882277e69fbf0a51805cdc8b0a3a113079e63      4      1  \n",
       "163   0xa8d04cd4e1951291740ef977d56336fdc7f394c5      5      1  \n",
       "165   0x36a5bc205df1ed65c86301022cfc343a6ce546ff      2      1  \n",
       "169   0x5d802e2fe48392c104ce0401c7eca8a4456f1f16     12      1  \n",
       "295   0xa555d1ee16780b2d414ed97f4f169c0740099615      2      1  \n",
       "638   0x33daf8e90cd1f214cc25a1865649e847254f2ece      1      1  \n",
       "639   0x9a2f6117d1ffa82ad0a2b36f133d476db5bd55f5      1      1  \n",
       "689   0xaca3b4110403f3c4dacb35a7b3aa0a84efb6a3e9      1      1  \n",
       "789   0xcc2688350d29623e2a0844cc8885f9050f0f6ed5     12      1  \n",
       "1027  0x91dccaa260cc4616e1a6e6b693db7207c5e42937      1      1  "
      ]
     },
     "execution_count": 172,
     "metadata": {},
     "output_type": "execute_result"
    }
   ],
   "source": [
    "selected_proposal"
   ]
  },
  {
   "cell_type": "code",
   "execution_count": 169,
   "id": "2fbe3e03-d14c-49bf-982f-e6a5d658c226",
   "metadata": {},
   "outputs": [
    {
     "data": {
      "text/plain": [
       "SUPPORT\n",
       "1    10\n",
       "Name: VOTER, dtype: int64"
      ]
     },
     "execution_count": 169,
     "metadata": {},
     "output_type": "execute_result"
    }
   ],
   "source": [
    "s"
   ]
  },
  {
   "cell_type": "code",
   "execution_count": 76,
   "id": "e42c4768-4c0b-44de-a93f-f287e5f0bdba",
   "metadata": {},
   "outputs": [],
   "source": [
    "import plotly.express as px"
   ]
  },
  {
   "cell_type": "code",
   "execution_count": null,
   "id": "6655b5ed-a5ac-4ca1-ad99-cc06075ae02a",
   "metadata": {},
   "outputs": [],
   "source": [
    "def get_votes(data,y='PROPORTION',color='VOTES'):\n",
    "    fig = px.bar(data_frame=data.reset_index(),\n",
    "        x='PROPOSALID',\n",
    "        y=y,\n",
    "        color=color)\n",
    "    return fig\n",
    "\n",
    "def get_minted(traits):\n",
    "    traits.index = traits['MINT_TIME']\n",
    "    d = traits.resample('d')['TOKENID'].count().cumsum().to_frame('NUMBER_OF_NOUNS_MINTED').reset_index()\n",
    "    fig = px.bar(data_frame=d,\n",
    "        x='MINT_TIME',\n",
    "        y='NUMBER_OF_NOUNS_MINTED')\n",
    "    return fig\n",
    "\n",
    "def vote_vs_minted(df,data, col='MINTED'):\n",
    "    # VOTES\n",
    "    df['PROPOSALID'] = df['PROPOSALID'].astype('int')\n",
    "    df['PROPORTION'] = df['VOTES'] / df['PROPOSALID'].map(data[col])\n",
    "    df['PROPOSALID'] = df['PROPOSALID'].astype('str')\n",
    "\n",
    "    fig = px.line_polar(df, r=\"PROPORTION\", theta=\"PROPOSALID\", color=\"SUPPORT\",\n",
    "                        width = 400,height=600\n",
    "                 )\n",
    "    # fig.update_layout(polar_angularaxis_showticklabels=True)\n",
    "    fig.update_layout(legend=dict(\n",
    "        orientation=\"h\",\n",
    "        yanchor=\"bottom\",\n",
    "        y=0.1,\n",
    "        xanchor=\"center\",\n",
    "        x=0.5\n",
    "    ))\n",
    "    return fig\n",
    "\n",
    "def filter_votes_based_on_proportion(data, val=0.4):\n",
    "    fig = px.bar(data_frame=data.reset_index().query('PROPORTION > @val'),\n",
    "        x='PROPOSALID',\n",
    "        y='PROPORTION',\n",
    "        color='VOTES')\n",
    "    return fig\n",
    "\n"
   ]
  }
 ],
 "metadata": {
  "kernelspec": {
   "display_name": "Python 3 (ipykernel)",
   "language": "python",
   "name": "python3"
  },
  "language_info": {
   "codemirror_mode": {
    "name": "ipython",
    "version": 3
   },
   "file_extension": ".py",
   "mimetype": "text/x-python",
   "name": "python",
   "nbconvert_exporter": "python",
   "pygments_lexer": "ipython3",
   "version": "3.8.13"
  }
 },
 "nbformat": 4,
 "nbformat_minor": 5
}
